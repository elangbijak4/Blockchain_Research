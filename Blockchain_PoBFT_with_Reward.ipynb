{
  "nbformat": 4,
  "nbformat_minor": 0,
  "metadata": {
    "colab": {
      "provenance": [],
      "authorship_tag": "ABX9TyNqfwkTbslJWwchiZmmQk6Q",
      "include_colab_link": true
    },
    "kernelspec": {
      "name": "python3",
      "display_name": "Python 3"
    },
    "language_info": {
      "name": "python"
    }
  },
  "cells": [
    {
      "cell_type": "markdown",
      "metadata": {
        "id": "view-in-github",
        "colab_type": "text"
      },
      "source": [
        "<a href=\"https://colab.research.google.com/github/elangbijak4/Blockchain_Research/blob/main/Blockchain_PoBFT_with_Reward.ipynb\" target=\"_parent\"><img src=\"https://colab.research.google.com/assets/colab-badge.svg\" alt=\"Open In Colab\"/></a>"
      ]
    },
    {
      "cell_type": "code",
      "execution_count": 1,
      "metadata": {
        "id": "OTwDNw8SRVq5"
      },
      "outputs": [],
      "source": [
        "import hashlib\n",
        "import datetime\n",
        "import json\n",
        "import random"
      ]
    },
    {
      "cell_type": "code",
      "source": [
        "class Block:\n",
        "    def __init__(self, index, previous_hash, timestamp, data, validator, reward):\n",
        "        self.index = index\n",
        "        self.previous_hash = previous_hash\n",
        "        self.timestamp = timestamp\n",
        "        self.data = data\n",
        "        self.validator = validator\n",
        "        self.reward = reward\n",
        "        self.hash = self.calculate_hash()\n",
        "\n",
        "    def calculate_hash(self):\n",
        "        block_string = f\"{self.index}{self.previous_hash}{self.timestamp}{self.data}{self.validator}{self.reward}\"\n",
        "        return hashlib.sha256(block_string.encode()).hexdigest()\n",
        "\n",
        "    def to_dict(self):\n",
        "        return {\n",
        "            'index': self.index,\n",
        "            'previous_hash': self.previous_hash,\n",
        "            'timestamp': self.timestamp,\n",
        "            'data': self.data,\n",
        "            'validator': self.validator,\n",
        "            'reward': self.reward,\n",
        "            'hash': self.hash\n",
        "        }"
      ],
      "metadata": {
        "id": "i2jj_zo_R98F"
      },
      "execution_count": 2,
      "outputs": []
    },
    {
      "cell_type": "code",
      "source": [
        "class Blockchain:\n",
        "    def __init__(self, validators, bft, filename='blockchain.json'):\n",
        "        self.validators = validators\n",
        "        self.bft = bft\n",
        "        self.filename = filename\n",
        "        self.rewards = {v: 0 for v in validators}  # Initialize rewards for each validator\n",
        "        try:\n",
        "            with open(self.filename, 'r') as f:\n",
        "                self.chain = self.load_from_json(f.read())\n",
        "        except FileNotFoundError:\n",
        "            self.chain = [self.create_genesis_block()]\n",
        "            self.save_to_json()\n",
        "\n",
        "    def create_genesis_block(self):\n",
        "        return Block(0, \"0\", self.get_utc_time(), \"Genesis Block\", self.validators[0], 0)\n",
        "\n",
        "    def get_latest_block(self):\n",
        "        return self.chain[-1]\n",
        "\n",
        "    def add_block(self, data):\n",
        "        previous_block = self.get_latest_block()\n",
        "        validator = self.bft.select_validator(len(self.chain))\n",
        "        reward = self.bft.calculate_reward(validator)\n",
        "        new_block = Block(len(self.chain), previous_block.hash, self.get_utc_time(), data, validator, reward)\n",
        "        if self.bft.reach_consensus(new_block, self.chain):\n",
        "            self.chain.append(new_block)\n",
        "            self.rewards[validator] += reward  # Update the reward for the validator\n",
        "            self.save_to_json()\n",
        "\n",
        "    def is_chain_valid(self):\n",
        "        for i in range(1, len(self.chain)):\n",
        "            current_block = self.chain[i]\n",
        "            previous_block = self.chain[i - 1]\n",
        "\n",
        "            if current_block.hash != current_block.calculate_hash():\n",
        "                return False\n",
        "            if current_block.previous_hash != previous_block.hash:\n",
        "                return False\n",
        "        return True\n",
        "\n",
        "    def get_utc_time(self):\n",
        "        return datetime.datetime.utcnow().timestamp()\n",
        "\n",
        "    def display_chain(self):\n",
        "        with open(self.filename, 'r') as f:\n",
        "            blockchain_data = json.load(f)\n",
        "            for block_data in blockchain_data:\n",
        "                block_data.pop('hash', None)\n",
        "                block = Block(**block_data)\n",
        "                print(f\"Block {block.index}:\")\n",
        "                print(f\"  Timestamp: {datetime.datetime.utcfromtimestamp(block.timestamp)}\")\n",
        "                print(f\"  Data: {block.data}\")\n",
        "                print(f\"  Validator: {block.validator}\")\n",
        "                print(f\"  Reward: {block.reward}\")\n",
        "                print(f\"  Hash: {block.hash}\")\n",
        "                print(f\"  Previous Hash: {block.previous_hash}\\n\")\n",
        "\n",
        "    def save_to_json(self):\n",
        "        with open(self.filename, 'w') as f:\n",
        "            json.dump([block.to_dict() for block in self.chain], f, indent=4)\n",
        "\n",
        "    def load_from_json(self, json_string):\n",
        "        data = json.loads(json_string)\n",
        "        blocks = []\n",
        "        for block_data in data:\n",
        "            block_data.pop('hash', None)\n",
        "            block = Block(**block_data)\n",
        "            blocks.append(block)\n",
        "        return blocks\n",
        "\n",
        "    def display_rewards(self):\n",
        "        for validator, reward in self.rewards.items():\n",
        "            print(f\"Validator {validator} has a reward of {reward}\")"
      ],
      "metadata": {
        "id": "Y8ANPbx8R4Ui"
      },
      "execution_count": 3,
      "outputs": []
    },
    {
      "cell_type": "code",
      "source": [
        "class ByzantineFaultTolerance:\n",
        "    def __init__(self, validators, faulty_validators=None):\n",
        "        self.validators = validators\n",
        "        self.faulty_validators = faulty_validators if faulty_validators else []\n",
        "        self.leader = None\n",
        "\n",
        "    def select_leader(self):\n",
        "        non_faulty_validators = [v for v in self.validators if v not in self.faulty_validators]\n",
        "        self.leader = random.choice(non_faulty_validators)\n",
        "        return self.leader\n",
        "\n",
        "    def select_validator(self, chain_length):\n",
        "        non_faulty_validators = [v for v in self.validators if v not in self.faulty_validators]\n",
        "        return random.choice(non_faulty_validators)\n",
        "\n",
        "    def validate_block(self, block, chain):\n",
        "        previous_block = chain[block.index - 1]\n",
        "        if block.previous_hash != previous_block.hash:\n",
        "            return False\n",
        "        if block.hash != block.calculate_hash():\n",
        "            return False\n",
        "        return True\n",
        "\n",
        "    def add_faulty_validator(self, validator):\n",
        "        if validator not in self.faulty_validators:\n",
        "            self.faulty_validators.append(validator)\n",
        "\n",
        "    def remove_faulty_validator(self, validator):\n",
        "        if validator in self.faulty_validators:\n",
        "            self.faulty_validators.remove(validator)\n",
        "\n",
        "    def reach_consensus(self, block, chain):\n",
        "        votes = {validator: self.validate_block(block, chain) for validator in self.validators if validator not in self.faulty_validators}\n",
        "        positive_votes = sum(votes.values())\n",
        "        if positive_votes > len(self.validators) * 2 / 3:\n",
        "            return True\n",
        "        return False\n",
        "\n",
        "    def calculate_reward(self, validator):\n",
        "        # For simplicity, we set a fixed reward. In practice, it might depend on various factors.\n",
        "        return 10"
      ],
      "metadata": {
        "id": "O7ITNHzARy0d"
      },
      "execution_count": 4,
      "outputs": []
    },
    {
      "cell_type": "markdown",
      "source": [
        "Demo BFT"
      ],
      "metadata": {
        "id": "yQjsXs26Rtq2"
      }
    },
    {
      "cell_type": "code",
      "source": [
        "# Implementasi BFT dengan kemampuan mengubah status validator dan memberikan reward\n",
        "validators = [\"Adil\", \"Rimba\", \"Nita\"]\n",
        "bft = ByzantineFaultTolerance(validators)"
      ],
      "metadata": {
        "id": "AHaHxYMjRrTT"
      },
      "execution_count": 5,
      "outputs": []
    },
    {
      "cell_type": "code",
      "source": [
        "# Pemilihan leader untuk siklus konsensus\n",
        "leader = bft.select_leader()\n",
        "print(f\"Leader yang dipilih: {leader}\")"
      ],
      "metadata": {
        "colab": {
          "base_uri": "https://localhost:8080/"
        },
        "id": "kaL1yu9ARkf8",
        "outputId": "36d785cd-6ec4-4d22-fe5d-fd095b6b6fa9"
      },
      "execution_count": 6,
      "outputs": [
        {
          "output_type": "stream",
          "name": "stdout",
          "text": [
            "Leader yang dipilih: Rimba\n"
          ]
        }
      ]
    },
    {
      "cell_type": "code",
      "source": [
        "# Menandai \"Nita\" sebagai validator bermasalah\n",
        "bft.add_faulty_validator(\"Nita\")\n",
        "\n",
        "blockchain = Blockchain(validators, bft)"
      ],
      "metadata": {
        "id": "QikhbcSfRkMF"
      },
      "execution_count": 7,
      "outputs": []
    },
    {
      "cell_type": "code",
      "source": [
        "# Menambahkan blok baru\n",
        "blockchain.add_block(\"Data untuk blok 1\")\n",
        "blockchain.add_block(\"Data untuk blok 2\")"
      ],
      "metadata": {
        "id": "YYlqPgNhRhaV"
      },
      "execution_count": 8,
      "outputs": []
    },
    {
      "cell_type": "code",
      "source": [
        "# Mengubah status \"Nita\" menjadi jujur\n",
        "bft.remove_faulty_validator(\"Nita\")"
      ],
      "metadata": {
        "id": "c1W1lsCURgLM"
      },
      "execution_count": 9,
      "outputs": []
    },
    {
      "cell_type": "code",
      "source": [
        "# Menambahkan blok lagi\n",
        "blockchain.add_block(\"Data untuk blok 3\")\n",
        "\n",
        "blockchain.display_chain()\n",
        "blockchain.display_rewards()"
      ],
      "metadata": {
        "colab": {
          "base_uri": "https://localhost:8080/"
        },
        "id": "M-mif-bRReF9",
        "outputId": "d4513b79-dba3-4ed0-d486-f95dffcb12bd"
      },
      "execution_count": 10,
      "outputs": [
        {
          "output_type": "stream",
          "name": "stdout",
          "text": [
            "Block 0:\n",
            "  Timestamp: 2024-06-27 06:01:09.777925\n",
            "  Data: Genesis Block\n",
            "  Validator: Adil\n",
            "  Reward: 0\n",
            "  Hash: fc4afa68c73785338bddcf849b0fcfabd749f4514d2410e53e9216195c4a9971\n",
            "  Previous Hash: 0\n",
            "\n",
            "Block 1:\n",
            "  Timestamp: 2024-06-27 06:01:31.516865\n",
            "  Data: Data untuk blok 3\n",
            "  Validator: Rimba\n",
            "  Reward: 10\n",
            "  Hash: c14be96ba1c67c00411cf825a7de491f2a56113c1b65de23004519e02b6d4739\n",
            "  Previous Hash: fc4afa68c73785338bddcf849b0fcfabd749f4514d2410e53e9216195c4a9971\n",
            "\n",
            "Validator Adil has a reward of 0\n",
            "Validator Rimba has a reward of 10\n",
            "Validator Nita has a reward of 0\n"
          ]
        }
      ]
    }
  ]
}