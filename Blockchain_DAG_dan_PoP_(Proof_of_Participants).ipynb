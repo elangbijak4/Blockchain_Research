{
  "nbformat": 4,
  "nbformat_minor": 0,
  "metadata": {
    "colab": {
      "provenance": [],
      "authorship_tag": "ABX9TyPkZ2+Bgb4l97SeEcuOCBvO",
      "include_colab_link": true
    },
    "kernelspec": {
      "name": "python3",
      "display_name": "Python 3"
    },
    "language_info": {
      "name": "python"
    }
  },
  "cells": [
    {
      "cell_type": "markdown",
      "metadata": {
        "id": "view-in-github",
        "colab_type": "text"
      },
      "source": [
        "<a href=\"https://colab.research.google.com/github/elangbijak4/Blockchain_Research/blob/main/Blockchain_DAG_dan_PoP_(Proof_of_Participants).ipynb\" target=\"_parent\"><img src=\"https://colab.research.google.com/assets/colab-badge.svg\" alt=\"Open In Colab\"/></a>"
      ]
    },
    {
      "cell_type": "code",
      "source": [
        "import json"
      ],
      "metadata": {
        "id": "zCGrQpJyEug6"
      },
      "execution_count": 4,
      "outputs": []
    },
    {
      "cell_type": "code",
      "source": [
        "import hashlib\n",
        "import time\n",
        "\n",
        "class Block:\n",
        "    def __init__(self, index, previous_hashes, timestamp, data, hash):\n",
        "        self.index = index\n",
        "        self.previous_hashes = previous_hashes\n",
        "        self.timestamp = timestamp\n",
        "        self.data = data\n",
        "        self.hash = hash\n",
        "\n",
        "    @staticmethod\n",
        "    def calculate_hash(index, previous_hashes, timestamp, data):\n",
        "        value = str(index) + ''.join(previous_hashes) + str(timestamp) + data\n",
        "        return hashlib.sha256(value.encode('utf-8')).hexdigest()\n",
        "\n",
        "    @staticmethod\n",
        "    def create_genesis_block():\n",
        "        return Block(0, [\"0\"], time.time(), \"Genesis Block\", Block.calculate_hash(0, [\"0\"], time.time(), \"Genesis Block\"))\n",
        "\n",
        "    def to_dict(self):\n",
        "        return {\n",
        "            'index': self.index,\n",
        "            'previous_hashes': self.previous_hashes,\n",
        "            'timestamp': self.timestamp,\n",
        "            'data': self.data,\n",
        "            'hash': self.hash\n",
        "        }"
      ],
      "metadata": {
        "id": "NiZRVObHGX3H"
      },
      "execution_count": 8,
      "outputs": []
    },
    {
      "cell_type": "code",
      "source": [
        "class BlockchainDAG:\n",
        "    def __init__(self):\n",
        "        self.chain = [Block.create_genesis_block()]\n",
        "        self.blocks = {self.chain[0].hash: self.chain[0]}  # Dictionary to store blocks by hash\n",
        "\n",
        "    def get_latest_blocks(self, n=1):\n",
        "        latest_blocks = sorted(self.chain, key=lambda x: x.timestamp, reverse=True)[:n]\n",
        "        return latest_blocks\n",
        "\n",
        "    def add_block(self, new_block):\n",
        "        for previous_hash in new_block.previous_hashes:\n",
        "            if previous_hash not in self.blocks:\n",
        "                raise ValueError(\"One or more previous hashes not found in the chain\")\n",
        "        new_block.hash = Block.calculate_hash(new_block.index, new_block.previous_hashes, new_block.timestamp, new_block.data)\n",
        "        self.chain.append(new_block)\n",
        "        self.blocks[new_block.hash] = new_block\n",
        "\n",
        "    def is_chain_valid(self):\n",
        "        for block in self.chain:\n",
        "            calculated_hash = Block.calculate_hash(block.index, block.previous_hashes, block.timestamp, block.data)\n",
        "            if block.hash != calculated_hash:\n",
        "                return False\n",
        "            for previous_hash in block.previous_hashes:\n",
        "                if previous_hash not in self.blocks:\n",
        "                    return False\n",
        "        return True\n",
        "\n",
        "    def to_json(self):\n",
        "        chain_data = [block.to_dict() for block in self.chain]\n",
        "        return json.dumps(chain_data, indent=4)"
      ],
      "metadata": {
        "id": "9geznY4dD8R4"
      },
      "execution_count": 9,
      "outputs": []
    },
    {
      "cell_type": "code",
      "source": [
        "class Validator:\n",
        "    def __init__(self, name):\n",
        "        self.name = name\n",
        "        self.participation = 0\n",
        "\n",
        "    def participate(self):\n",
        "        self.participation += 1\n",
        "\n",
        "class PoP:\n",
        "    def __init__(self):\n",
        "        self.validators = []\n",
        "\n",
        "    def add_validator(self, validator):\n",
        "        self.validators.append(validator)\n",
        "\n",
        "    def select_validator(self):\n",
        "        max_participation = max([v.participation for v in self.validators])\n",
        "        for validator in self.validators:\n",
        "            if validator.participation == max_participation:\n",
        "                return validator"
      ],
      "metadata": {
        "id": "_gFUjWrHD8sQ"
      },
      "execution_count": 10,
      "outputs": []
    },
    {
      "cell_type": "code",
      "source": [
        "# Demo penggunaan\n",
        "blockchain = BlockchainDAG()\n",
        "pop = PoP()\n",
        "\n",
        "validator1 = Validator(\"Validator1\")\n",
        "validator2 = Validator(\"Validator2\")\n",
        "\n",
        "pop.add_validator(validator1)\n",
        "pop.add_validator(validator2)\n",
        "\n",
        "# Simulating participation\n",
        "validator1.participate()\n",
        "validator2.participate()\n",
        "validator2.participate()\n",
        "\n",
        "selected_validator = pop.select_validator()\n",
        "print(f\"Selected Validator: {selected_validator.name}\")\n",
        "\n",
        "# Adding a new block by selected validator\n",
        "previous_hashes = [blockchain.get_latest_blocks()[0].hash]\n",
        "new_block = Block(len(blockchain.chain), previous_hashes, time.time(), \"Some Data\", \"\")\n",
        "blockchain.add_block(new_block)\n",
        "\n",
        "print(\"Blockchain is valid:\", blockchain.is_chain_valid())\n",
        "\n",
        "print(\"Blockchain JSON representation:\")\n",
        "print(blockchain.to_json())"
      ],
      "metadata": {
        "colab": {
          "base_uri": "https://localhost:8080/"
        },
        "id": "r2DXRr1gG6SB",
        "outputId": "540ad4cc-2477-4a13-84a4-7da41bfa298b"
      },
      "execution_count": 11,
      "outputs": [
        {
          "output_type": "stream",
          "name": "stdout",
          "text": [
            "Selected Validator: Validator2\n",
            "Blockchain is valid: False\n",
            "Blockchain JSON representation:\n",
            "[\n",
            "    {\n",
            "        \"index\": 0,\n",
            "        \"previous_hashes\": [\n",
            "            \"0\"\n",
            "        ],\n",
            "        \"timestamp\": 1720706659.5159242,\n",
            "        \"data\": \"Genesis Block\",\n",
            "        \"hash\": \"79053380d30ec2855f4b62c6e967889e481e15b0e48426546d17e925af2671f2\"\n",
            "    },\n",
            "    {\n",
            "        \"index\": 1,\n",
            "        \"previous_hashes\": [\n",
            "            \"79053380d30ec2855f4b62c6e967889e481e15b0e48426546d17e925af2671f2\"\n",
            "        ],\n",
            "        \"timestamp\": 1720706659.5167747,\n",
            "        \"data\": \"Some Data\",\n",
            "        \"hash\": \"42ee594c9011ef7de8d8c03aaa0928b08337d29144cdb39c2a6880061d1d5078\"\n",
            "    }\n",
            "]\n"
          ]
        }
      ]
    },
    {
      "cell_type": "code",
      "source": [
        "import networkx as nx\n",
        "import matplotlib.pyplot as plt\n",
        "\n",
        "class BlockchainVisualizer:\n",
        "    def __init__(self, blockchain):\n",
        "        self.blockchain = blockchain\n",
        "        self.graph = nx.DiGraph()\n",
        "\n",
        "    def build_graph(self):\n",
        "        for block in self.blockchain.chain:\n",
        "            self.graph.add_node(block.hash, label=f\"Block {block.index}\")\n",
        "            for prev_hash in block.previous_hashes:\n",
        "                self.graph.add_edge(prev_hash, block.hash)\n",
        "\n",
        "    def draw_graph(self):\n",
        "        pos = nx.spring_layout(self.graph)\n",
        "        labels = nx.get_node_attributes(self.graph, 'label')\n",
        "        nx.draw(self.graph, pos, with_labels=True, labels=labels, node_size=3000, node_color=\"skyblue\", font_size=10, font_weight=\"bold\", arrows=True)\n",
        "        plt.show()"
      ],
      "metadata": {
        "id": "ytyoXZafHvuh"
      },
      "execution_count": 12,
      "outputs": []
    },
    {
      "cell_type": "code",
      "source": [
        "# Demo penggunaan dengan pencabangan\n",
        "blockchain = BlockchainDAG()\n",
        "pop = PoP()\n",
        "\n",
        "validator1 = Validator(\"Validator1\")\n",
        "validator2 = Validator(\"Validator2\")\n",
        "\n",
        "pop.add_validator(validator1)\n",
        "pop.add_validator(validator2)\n",
        "\n",
        "# Simulating participation\n",
        "validator1.participate()\n",
        "validator2.participate()\n",
        "validator2.participate()\n",
        "\n",
        "selected_validator = pop.select_validator()\n",
        "print(f\"Selected Validator: {selected_validator.name}\")\n",
        "\n",
        "# Menambahkan beberapa blok untuk membentuk pencabangan\n",
        "previous_hashes = [blockchain.get_latest_blocks()[0].hash]\n",
        "new_block1 = Block(len(blockchain.chain), previous_hashes, time.time(), \"Data Block 1\", \"\")\n",
        "blockchain.add_block(new_block1)\n",
        "\n",
        "previous_hashes = [new_block1.hash]\n",
        "new_block2 = Block(len(blockchain.chain), previous_hashes, time.time(), \"Data Block 2\", \"\")\n",
        "blockchain.add_block(new_block2)\n",
        "\n",
        "previous_hashes = [new_block1.hash]\n",
        "new_block3 = Block(len(blockchain.chain), previous_hashes, time.time(), \"Data Block 3\", \"\")\n",
        "blockchain.add_block(new_block3)\n",
        "\n",
        "previous_hashes = [new_block2.hash, new_block3.hash]\n",
        "new_block4 = Block(len(blockchain.chain), previous_hashes, time.time(), \"Data Block 4\", \"\")\n",
        "blockchain.add_block(new_block4)\n",
        "\n",
        "print(\"Blockchain is valid:\", blockchain.is_chain_valid())\n",
        "\n",
        "print(\"Blockchain JSON representation:\")\n",
        "print(blockchain.to_json())\n",
        "\n",
        "# Visualisasi DAG\n",
        "visualizer = BlockchainVisualizer(blockchain)\n",
        "visualizer.build_graph()\n",
        "visualizer.draw_graph()"
      ],
      "metadata": {
        "colab": {
          "base_uri": "https://localhost:8080/",
          "height": 1000
        },
        "id": "KeomKsisHxUn",
        "outputId": "93fb793a-da87-46ae-8cde-86eef1109750"
      },
      "execution_count": 13,
      "outputs": [
        {
          "output_type": "stream",
          "name": "stdout",
          "text": [
            "Selected Validator: Validator2\n",
            "Blockchain is valid: False\n",
            "Blockchain JSON representation:\n",
            "[\n",
            "    {\n",
            "        \"index\": 0,\n",
            "        \"previous_hashes\": [\n",
            "            \"0\"\n",
            "        ],\n",
            "        \"timestamp\": 1720706884.3844795,\n",
            "        \"data\": \"Genesis Block\",\n",
            "        \"hash\": \"3d6e36f98f67d40298ce3b6bdd0fb9e5da98975ac40724e94dc2d5ad0e5475e6\"\n",
            "    },\n",
            "    {\n",
            "        \"index\": 1,\n",
            "        \"previous_hashes\": [\n",
            "            \"3d6e36f98f67d40298ce3b6bdd0fb9e5da98975ac40724e94dc2d5ad0e5475e6\"\n",
            "        ],\n",
            "        \"timestamp\": 1720706884.3861399,\n",
            "        \"data\": \"Data Block 1\",\n",
            "        \"hash\": \"4570b432f46c3fad6e52a202b8fc73f81e33ed489c5d8728fe5bf1fc2e8e46c3\"\n",
            "    },\n",
            "    {\n",
            "        \"index\": 2,\n",
            "        \"previous_hashes\": [\n",
            "            \"4570b432f46c3fad6e52a202b8fc73f81e33ed489c5d8728fe5bf1fc2e8e46c3\"\n",
            "        ],\n",
            "        \"timestamp\": 1720706884.3863585,\n",
            "        \"data\": \"Data Block 2\",\n",
            "        \"hash\": \"7eb8768da4320c0642ca466fb82acdba38fd6d442efa93a613f191eaadbaebb2\"\n",
            "    },\n",
            "    {\n",
            "        \"index\": 3,\n",
            "        \"previous_hashes\": [\n",
            "            \"4570b432f46c3fad6e52a202b8fc73f81e33ed489c5d8728fe5bf1fc2e8e46c3\"\n",
            "        ],\n",
            "        \"timestamp\": 1720706884.3865428,\n",
            "        \"data\": \"Data Block 3\",\n",
            "        \"hash\": \"6bb48b9106e4e4c3d819fed8c86e3c7509b6237bea915d7643d226188e04a5d8\"\n",
            "    },\n",
            "    {\n",
            "        \"index\": 4,\n",
            "        \"previous_hashes\": [\n",
            "            \"7eb8768da4320c0642ca466fb82acdba38fd6d442efa93a613f191eaadbaebb2\",\n",
            "            \"6bb48b9106e4e4c3d819fed8c86e3c7509b6237bea915d7643d226188e04a5d8\"\n",
            "        ],\n",
            "        \"timestamp\": 1720706884.3867102,\n",
            "        \"data\": \"Data Block 4\",\n",
            "        \"hash\": \"ed42b9235d142cdeaf3d2e7117d580dac0d4aa4feadace0609ab6f6004681e96\"\n",
            "    }\n",
            "]\n"
          ]
        },
        {
          "output_type": "display_data",
          "data": {
            "text/plain": [
              "<Figure size 640x480 with 1 Axes>"
            ],
            "image/png": "[encoded data removed]"
          },
          "metadata": {}
        }
      ]
    },
    {
      "cell_type": "code",
      "source": [],
      "metadata": {
        "id": "DPwrwIjuHxlh"
      },
      "execution_count": null,
      "outputs": []
    }
  ]
}