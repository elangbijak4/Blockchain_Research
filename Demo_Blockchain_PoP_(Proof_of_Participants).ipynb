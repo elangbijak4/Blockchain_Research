{
  "nbformat": 4,
  "nbformat_minor": 0,
  "metadata": {
    "colab": {
      "provenance": [],
      "authorship_tag": "ABX9TyPiR6x2VEJ8S+SoIAQBc08k",
      "include_colab_link": true
    },
    "kernelspec": {
      "name": "python3",
      "display_name": "Python 3"
    },
    "language_info": {
      "name": "python"
    }
  },
  "cells": [
    {
      "cell_type": "markdown",
      "metadata": {
        "id": "view-in-github",
        "colab_type": "text"
      },
      "source": [
        "<a href=\"https://colab.research.google.com/github/elangbijak4/Blockchain_Research/blob/main/Demo_Blockchain_PoP_(Proof_of_Participants).ipynb\" target=\"_parent\"><img src=\"https://colab.research.google.com/assets/colab-badge.svg\" alt=\"Open In Colab\"/></a>"
      ]
    },
    {
      "cell_type": "code",
      "source": [
        "import json"
      ],
      "metadata": {
        "id": "zCGrQpJyEug6"
      },
      "execution_count": 4,
      "outputs": []
    },
    {
      "cell_type": "code",
      "execution_count": 5,
      "metadata": {
        "id": "P8Lhtq12D4Oq"
      },
      "outputs": [],
      "source": [
        "import hashlib\n",
        "import time\n",
        "\n",
        "class Block:\n",
        "    def __init__(self, index, previous_hash, timestamp, data, hash):\n",
        "        self.index = index\n",
        "        self.previous_hash = previous_hash\n",
        "        self.timestamp = timestamp\n",
        "        self.data = data\n",
        "        self.hash = hash\n",
        "\n",
        "    @staticmethod\n",
        "    def calculate_hash(index, previous_hash, timestamp, data):\n",
        "        value = str(index) + previous_hash + str(timestamp) + data\n",
        "        return hashlib.sha256(value.encode('utf-8')).hexdigest()\n",
        "\n",
        "    @staticmethod\n",
        "    def create_genesis_block():\n",
        "        return Block(0, \"0\", time.time(), \"Genesis Block\", Block.calculate_hash(0, \"0\", time.time(), \"Genesis Block\"))\n",
        "\n",
        "    def to_dict(self):\n",
        "        return {\n",
        "            'index': self.index,\n",
        "            'previous_hash': self.previous_hash,\n",
        "            'timestamp': self.timestamp,\n",
        "            'data': self.data,\n",
        "            'hash': self.hash\n",
        "        }"
      ]
    },
    {
      "cell_type": "code",
      "source": [
        "class Blockchain:\n",
        "    def __init__(self):\n",
        "        self.chain = [Block.create_genesis_block()]\n",
        "\n",
        "    def get_latest_block(self):\n",
        "        return self.chain[-1]\n",
        "\n",
        "    def add_block(self, new_block):\n",
        "        new_block.previous_hash = self.get_latest_block().hash\n",
        "        new_block.hash = Block.calculate_hash(new_block.index, new_block.previous_hash, new_block.timestamp, new_block.data)\n",
        "        self.chain.append(new_block)\n",
        "\n",
        "    def is_chain_valid(self):\n",
        "        for i in range(1, len(self.chain)):\n",
        "            current_block = self.chain[i]\n",
        "            previous_block = self.chain[i-1]\n",
        "\n",
        "            if current_block.hash != Block.calculate_hash(current_block.index, current_block.previous_hash, current_block.timestamp, current_block.data):\n",
        "                return False\n",
        "\n",
        "            if current_block.previous_hash != previous_block.hash:\n",
        "                return False\n",
        "\n",
        "        return True\n",
        "\n",
        "    def to_json(self):\n",
        "        chain_data = [block.to_dict() for block in self.chain]\n",
        "        return json.dumps(chain_data, indent=4)"
      ],
      "metadata": {
        "id": "9geznY4dD8R4"
      },
      "execution_count": 6,
      "outputs": []
    },
    {
      "cell_type": "code",
      "source": [
        "class Validator:\n",
        "    def __init__(self, name):\n",
        "        self.name = name\n",
        "        self.participation = 0\n",
        "\n",
        "    def participate(self):\n",
        "        self.participation += 1\n",
        "\n",
        "class PoP:\n",
        "    def __init__(self):\n",
        "        self.validators = []\n",
        "\n",
        "    def add_validator(self, validator):\n",
        "        self.validators.append(validator)\n",
        "\n",
        "    def select_validator(self):\n",
        "        # Simple selection based on participation\n",
        "        max_participation = max([v.participation for v in self.validators])\n",
        "        for validator in self.validators:\n",
        "            if validator.participation == max_participation:\n",
        "                return validator\n",
        "\n",
        "# Usage Example\n",
        "blockchain = Blockchain()\n",
        "pop = PoP()\n",
        "\n",
        "validator1 = Validator(\"Validator1\")\n",
        "validator2 = Validator(\"Validator2\")\n",
        "\n",
        "pop.add_validator(validator1)\n",
        "pop.add_validator(validator2)\n",
        "\n",
        "# Simulating participation\n",
        "validator1.participate()\n",
        "validator2.participate()\n",
        "validator2.participate()\n",
        "\n",
        "selected_validator = pop.select_validator()\n",
        "print(f\"Selected Validator: {selected_validator.name}\")\n",
        "\n",
        "# Adding a new block by selected validator\n",
        "new_block = Block(len(blockchain.chain), blockchain.get_latest_block().hash, time.time(), \"Some Data\", \"\")\n",
        "blockchain.add_block(new_block)\n",
        "\n",
        "print(\"Blockchain is valid:\", blockchain.is_chain_valid())\n",
        "\n",
        "print(\"Blockchain JSON representation:\")\n",
        "print(blockchain.to_json())"
      ],
      "metadata": {
        "colab": {
          "base_uri": "https://localhost:8080/"
        },
        "id": "_gFUjWrHD8sQ",
        "outputId": "81f06554-3553-4545-81f4-7f7b13522ae5"
      },
      "execution_count": 7,
      "outputs": [
        {
          "output_type": "stream",
          "name": "stdout",
          "text": [
            "Selected Validator: Validator2\n",
            "Blockchain is valid: True\n",
            "Blockchain JSON representation:\n",
            "[\n",
            "    {\n",
            "        \"index\": 0,\n",
            "        \"previous_hash\": \"0\",\n",
            "        \"timestamp\": 1720706237.048032,\n",
            "        \"data\": \"Genesis Block\",\n",
            "        \"hash\": \"55ff2c29a8b9c32e96d06525fe231fe36671df30e1ffff253d3b8dc868062f51\"\n",
            "    },\n",
            "    {\n",
            "        \"index\": 1,\n",
            "        \"previous_hash\": \"55ff2c29a8b9c32e96d06525fe231fe36671df30e1ffff253d3b8dc868062f51\",\n",
            "        \"timestamp\": 1720706237.0501723,\n",
            "        \"data\": \"Some Data\",\n",
            "        \"hash\": \"e6a3afc067b11e40dc02645a037607484888e8c90f815c05de7b021e1a9d28e1\"\n",
            "    }\n",
            "]\n"
          ]
        }
      ]
    }
  ]
}