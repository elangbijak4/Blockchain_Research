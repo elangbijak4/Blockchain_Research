{
  "nbformat": 4,
  "nbformat_minor": 0,
  "metadata": {
    "colab": {
      "provenance": [],
      "authorship_tag": "ABX9TyORr4ILJh7xHkvFD7SVrq/1",
      "include_colab_link": true
    },
    "kernelspec": {
      "name": "python3",
      "display_name": "Python 3"
    },
    "language_info": {
      "name": "python"
    }
  },
  "cells": [
    {
      "cell_type": "markdown",
      "metadata": {
        "id": "view-in-github",
        "colab_type": "text"
      },
      "source": [
        "<a href=\"https://colab.research.google.com/github/elangbijak4/Blockchain_Research/blob/main/Demo_Sederhana_Protokol_ZKP.ipynb\" target=\"_parent\"><img src=\"https://colab.research.google.com/assets/colab-badge.svg\" alt=\"Open In Colab\"/></a>"
      ]
    },
    {
      "cell_type": "markdown",
      "source": [
        "Protokol ZKP ini hanya menggunakan komitmen berupa hash, dan pihak verifier wajib memiliki tebakan, atau pengetahuan tentang yang ditebaknya.\n",
        "\n",
        "Kekurangan protokol ini yaitu bahwa verifier wajib mengetahui yang ditebaknya. Jika tidak maka dia tidak bisa memverifikasi."
      ],
      "metadata": {
        "id": "IFdtubhySkMg"
      }
    },
    {
      "cell_type": "code",
      "execution_count": 1,
      "metadata": {
        "colab": {
          "base_uri": "https://localhost:8080/"
        },
        "id": "3ThpD0AsSLla",
        "outputId": "336170da-cbac-4c5a-97b0-ea1422095461"
      },
      "outputs": [
        {
          "output_type": "stream",
          "name": "stdout",
          "text": [
            "Hash dari dokumen Y: d43f0fd0f6155211a536b2fc37bff28817740b366401ee3765e078ce2ece74e3\n",
            "Tantangan r dari B: Tc6c0GLTeM\n",
            "Hash dari Y || r yang dihitung X: 3f2faa8f4ae881da2d1742d1a34966867a564a7d946f83131e483f5e4c999d02\n",
            "Hash dari Y || r yang dihitung B: 3f2faa8f4ae881da2d1742d1a34966867a564a7d946f83131e483f5e4c999d02\n",
            "Verifikasi berhasil, X memiliki dokumen Y.\n"
          ]
        }
      ],
      "source": [
        "import hashlib\n",
        "import random\n",
        "import string\n",
        "\n",
        "# Fungsi untuk menghitung SHA-256 hash\n",
        "def sha256_hash(data):\n",
        "    return hashlib.sha256(data.encode()).hexdigest()\n",
        "\n",
        "# Komitmen awal oleh X\n",
        "Y = \"secret document\"\n",
        "H_Y = sha256_hash(Y)\n",
        "print(f\"Hash dari dokumen Y: {H_Y}\")\n",
        "\n",
        "# B memberikan tantangan acak r\n",
        "r = ''.join(random.choices(string.ascii_letters + string.digits, k=10))\n",
        "print(f\"Tantangan r dari B: {r}\")\n",
        "\n",
        "# X menghitung nilai hash baru H(Y || r)\n",
        "Y_r = Y + r\n",
        "H_Y_r = sha256_hash(Y_r)\n",
        "print(f\"Hash dari Y || r yang dihitung X: {H_Y_r}\")\n",
        "\n",
        "# B memverifikasi dengan menghitung hash dari Y || r\n",
        "# B harus mengetahui Y untuk verifikasi\n",
        "H_Y_r_B = sha256_hash(Y_r)\n",
        "print(f\"Hash dari Y || r yang dihitung B: {H_Y_r_B}\")\n",
        "\n",
        "# Verifikasi berhasil jika H_Y_r == H_Y_r_B\n",
        "if H_Y_r == H_Y_r_B:\n",
        "    print(\"Verifikasi berhasil, X memiliki dokumen Y.\")\n",
        "else:\n",
        "    print(\"Verifikasi gagal.\")"
      ]
    }
  ]
}