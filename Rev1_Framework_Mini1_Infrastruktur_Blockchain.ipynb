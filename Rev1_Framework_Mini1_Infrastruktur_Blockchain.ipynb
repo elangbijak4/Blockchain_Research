{
  "nbformat": 4,
  "nbformat_minor": 0,
  "metadata": {
    "colab": {
      "provenance": [],
      "authorship_tag": "ABX9TyPkW6qfJYEgAQ+byaPyN5Qn",
      "include_colab_link": true
    },
    "kernelspec": {
      "name": "python3",
      "display_name": "Python 3"
    },
    "language_info": {
      "name": "python"
    }
  },
  "cells": [
    {
      "cell_type": "markdown",
      "metadata": {
        "id": "view-in-github",
        "colab_type": "text"
      },
      "source": [
        "<a href=\"https://colab.research.google.com/github/elangbijak4/Blockchain_Research/blob/main/Rev1_Framework_Mini1_Infrastruktur_Blockchain.ipynb\" target=\"_parent\"><img src=\"https://colab.research.google.com/assets/colab-badge.svg\" alt=\"Open In Colab\"/></a>"
      ]
    },
    {
      "cell_type": "code",
      "execution_count": 1,
      "metadata": {
        "id": "88Wq5HOZNhCE"
      },
      "outputs": [],
      "source": [
        "import hashlib\n",
        "import time\n",
        "import json\n",
        "import random\n",
        "import os"
      ]
    },
    {
      "cell_type": "code",
      "source": [
        "class Block:\n",
        "    def __init__(self, index, previous_hash, timestamp, data, hash):\n",
        "        self.index = index\n",
        "        self.previous_hash = previous_hash\n",
        "        self.timestamp = timestamp\n",
        "        self.data = data\n",
        "        self.hash = hash\n",
        "\n",
        "    @staticmethod\n",
        "    def calculate_hash(index, previous_hash, timestamp, data):\n",
        "        value = f\"{index}{previous_hash}{timestamp}{data}\"\n",
        "        return hashlib.sha256(value.encode('utf-8')).hexdigest()\n",
        "\n",
        "    @staticmethod\n",
        "    def create_genesis_block():\n",
        "        return Block(0, \"0\", int(time.time()), \"Genesis Block\", Block.calculate_hash(0, \"0\", int(time.time()), \"Genesis Block\"))\n",
        "\n",
        "    def to_dict(self):\n",
        "        return {\n",
        "            \"index\": self.index,\n",
        "            \"previous_hash\": self.previous_hash,\n",
        "            \"timestamp\": self.timestamp,\n",
        "            \"data\": self.data,\n",
        "            \"hash\": self.hash\n",
        "        }"
      ],
      "metadata": {
        "id": "2kgLwp6xNlql"
      },
      "execution_count": 2,
      "outputs": []
    },
    {
      "cell_type": "code",
      "source": [
        "class ProofOfElapsedTime:\n",
        "    def __init__(self):\n",
        "        self.wait_times = {}\n",
        "\n",
        "    def wait_for_block(self, address):\n",
        "        wait_time = random.uniform(0, 10)  # Simulating wait time\n",
        "        self.wait_times[address] = wait_time\n",
        "        time.sleep(wait_time)\n",
        "\n",
        "    def select_validator(self):\n",
        "        return min(self.wait_times, key=self.wait_times.get)"
      ],
      "metadata": {
        "id": "-QA7K24_S0tu"
      },
      "execution_count": 3,
      "outputs": []
    },
    {
      "cell_type": "code",
      "source": [
        "class ProofOfBurn:\n",
        "    def __init__(self):\n",
        "        self.burned_coins = {}  # To keep track of burned coins by address\n",
        "\n",
        "    def burn_coins(self, address, amount):\n",
        "        if address in self.burned_coins:\n",
        "            self.burned_coins[address] += amount\n",
        "        else:\n",
        "            self.burned_coins[address] = amount\n",
        "\n",
        "    def select_validator(self):\n",
        "        total_burned = sum(self.burned_coins.values())\n",
        "        pick = random.uniform(0, total_burned)\n",
        "        current = 0\n",
        "        for address, burned in self.burned_coins.items():\n",
        "            current += burned\n",
        "            if current > pick:\n",
        "                return address"
      ],
      "metadata": {
        "id": "qJIUPKUdSw0p"
      },
      "execution_count": 4,
      "outputs": []
    },
    {
      "cell_type": "code",
      "source": [
        "class ProofOfStake:\n",
        "    def __init__(self):\n",
        "        self.stakeholders = {}  # To keep track of stakeholder's stakes\n",
        "\n",
        "    def add_stakeholder(self, address, stake):\n",
        "        if address in self.stakeholders:\n",
        "            self.stakeholders[address] += stake\n",
        "        else:\n",
        "            self.stakeholders[address] = stake\n",
        "\n",
        "    def select_validator(self):\n",
        "        total_stake = sum(self.stakeholders.values())\n",
        "        pick = random.uniform(0, total_stake)\n",
        "        current = 0\n",
        "        for address, stake in self.stakeholders.items():\n",
        "            current += stake\n",
        "            if current > pick:\n",
        "                return address"
      ],
      "metadata": {
        "id": "MM7pKHNXN53C"
      },
      "execution_count": 5,
      "outputs": []
    },
    {
      "cell_type": "code",
      "source": [
        "class Blockchain:\n",
        "    def __init__(self, consensus_protocol, filename='blockchain.json'):\n",
        "        self.filename = filename\n",
        "        self.consensus_protocol = consensus_protocol\n",
        "        self.chain = self.load_chain()\n",
        "\n",
        "    def load_chain(self):\n",
        "        if os.path.exists(self.filename):\n",
        "            with open(self.filename, 'r') as file:\n",
        "                data = json.load(file)\n",
        "                return [Block(**block) for block in data]\n",
        "        else:\n",
        "            return [Block.create_genesis_block()]\n",
        "\n",
        "    def save_chain(self):\n",
        "        with open(self.filename, 'w') as file:\n",
        "            json.dump([block.to_dict() for block in self.chain], file, indent=4)\n",
        "\n",
        "    def get_latest_block(self):\n",
        "        return self.chain[-1]\n",
        "\n",
        "    def add_block(self, data):\n",
        "        latest_block = self.get_latest_block()\n",
        "        index = latest_block.index + 1\n",
        "        timestamp = int(time.time())\n",
        "        previous_hash = latest_block.hash\n",
        "        new_block = Block(index, previous_hash, timestamp, data, \"\")\n",
        "\n",
        "        if isinstance(self.consensus_protocol, ProofOfBurn):\n",
        "            validator = self.consensus_protocol.select_validator()\n",
        "            print(f\"Block #{index} created by {validator} using PoB\")\n",
        "        elif isinstance(self.consensus_protocol, ProofOfElapsedTime):\n",
        "            for address in self.consensus_protocol.wait_times.keys():\n",
        "                self.consensus_protocol.wait_for_block(address)\n",
        "            validator = self.consensus_protocol.select_validator()\n",
        "            print(f\"Block #{index} created by {validator} using PoET\")\n",
        "\n",
        "        new_block.hash = Block.calculate_hash(new_block.index, new_block.previous_hash, new_block.timestamp, new_block.data)\n",
        "        self.chain.append(new_block)\n",
        "        self.save_chain()\n",
        "\n",
        "    def to_json(self):\n",
        "        self.save_chain()\n",
        "        with open(self.filename, 'r') as file:\n",
        "            return file.read()"
      ],
      "metadata": {
        "id": "N0S_maVKN_zx"
      },
      "execution_count": 6,
      "outputs": []
    },
    {
      "cell_type": "code",
      "source": [
        "class SmartContract:\n",
        "    def __init__(self, code):\n",
        "        self.code = code\n",
        "        self.storage = {}\n",
        "\n",
        "    def execute(self, blockchain, **kwargs):\n",
        "        local_context = {\n",
        "            'blockchain': blockchain,\n",
        "            'storage': self.storage\n",
        "        }\n",
        "        local_context.update(kwargs)\n",
        "        exec(self.code, {}, local_context)\n",
        "        self.storage = local_context['storage']"
      ],
      "metadata": {
        "id": "7HKPR1JiOFBM"
      },
      "execution_count": 7,
      "outputs": []
    },
    {
      "cell_type": "code",
      "source": [
        "class ERC721:\n",
        "    def __init__(self):\n",
        "        self.tokens = {}\n",
        "        self.token_owners = {}\n",
        "        self.token_metadata = {}\n",
        "        self._token_owner = {}  # tokenId => owner\n",
        "        self._owned_tokens = {}  # owner => list of tokenIds\n",
        "        self._token_approvals = {}  # tokenId => approved address\n",
        "        self._operator_approvals = {}  # owner => (operator => approved)\n",
        "\n",
        "    def _mint(self, to, tokenId, metadata):\n",
        "        if to in self._owned_tokens:\n",
        "            self._owned_tokens[to].append(tokenId)\n",
        "        else:\n",
        "            self._owned_tokens[to] = [tokenId]\n",
        "        self._token_owner[tokenId] = to\n",
        "        self.token_metadata[tokenId] = metadata\n",
        "\n",
        "    def _transfer(self, from_, to, tokenId):\n",
        "        self._owned_tokens[from_].remove(tokenId)\n",
        "        if to in self._owned_tokens:\n",
        "            self._owned_tokens[to].append(tokenId)\n",
        "        else:\n",
        "            self._owned_tokens[to] = [tokenId]\n",
        "        self._token_owner[tokenId] = to\n",
        "\n",
        "    def mint(self, to, metadata):\n",
        "        tokenId = hashlib.sha256(metadata.encode()).hexdigest()\n",
        "        self._mint(to, tokenId, metadata)\n",
        "        return tokenId\n",
        "\n",
        "    def transfer(self, from_, to, tokenId):\n",
        "        self._transfer(from_, to, tokenId)"
      ],
      "metadata": {
        "id": "wujp6cCaOJK4"
      },
      "execution_count": 8,
      "outputs": []
    },
    {
      "cell_type": "code",
      "source": [
        "class FungibleToken:\n",
        "    def __init__(self):\n",
        "        self.balances = {}\n",
        "        self.total_supply = 0\n",
        "\n",
        "    def mint(self, to, amount):\n",
        "        if to in self.balances:\n",
        "            self.balances[to] += amount\n",
        "        else:\n",
        "            self.balances[to] = amount\n",
        "        self.total_supply += amount\n",
        "\n",
        "    def transfer(self, from_, to, amount):\n",
        "        if from_ not in self.balances or self.balances[from_] < amount:\n",
        "            raise ValueError(\"Insufficient balance\")\n",
        "        if to in self.balances:\n",
        "            self.balances[to] += amount\n",
        "        else:\n",
        "            self.balances[to] = amount\n",
        "        self.balances[from_] -= amount\n",
        "\n",
        "    def balance_of(self, address):\n",
        "        return self.balances.get(address, 0)"
      ],
      "metadata": {
        "id": "eRQQ6S1uOP6h"
      },
      "execution_count": 9,
      "outputs": []
    },
    {
      "cell_type": "code",
      "source": [
        "class MyBlockchain(Blockchain):\n",
        "    def __init__(self,pos):\n",
        "        super().__init__(pos)\n",
        "        self.smart_contracts = {}\n",
        "        self.nft_contract = ERC721()\n",
        "        self.fungible_token_contract = FungibleToken()\n",
        "        self.pos = pos\n",
        "\n",
        "    def store_smart_contract(self, code):\n",
        "        latest_block = self.get_latest_block()\n",
        "        index = latest_block.index + 1\n",
        "        timestamp = int(time.time())\n",
        "        previous_hash = latest_block.hash\n",
        "        smart_contract = SmartContract(code)\n",
        "        new_block = Block(index, previous_hash, timestamp, code, \"\")\n",
        "        validator = self.pos.select_validator()\n",
        "        print(f\"Smart Contract Block #{index} created by {validator} using PoS\")\n",
        "        new_block.hash = Block.calculate_hash(new_block.index, new_block.previous_hash, new_block.timestamp, new_block.data)\n",
        "        self.chain.append(new_block)\n",
        "        block_hash = new_block.hash\n",
        "        self.smart_contracts[block_hash] = smart_contract\n",
        "        return block_hash\n",
        "\n",
        "    def execute_smart_contract_from_block(self, block_hash, **kwargs):\n",
        "        if block_hash in self.smart_contracts:\n",
        "            smart_contract = self.smart_contracts[block_hash]\n",
        "            smart_contract.execute(self, **kwargs)\n",
        "        else:\n",
        "            print(\"Smart contract not found in blockchain\")\n",
        "\n",
        "    def mint_nft(self, owner, metadata):\n",
        "        tokenId = self.nft_contract.mint(owner, metadata)\n",
        "        data = json.dumps({\n",
        "            \"type\": \"mint\",\n",
        "            \"owner\": owner,\n",
        "            \"tokenId\": tokenId,\n",
        "            \"metadata\": metadata\n",
        "        })\n",
        "        self.add_block(data)\n",
        "        return self.get_latest_block().hash\n",
        "\n",
        "    def transfer_nft(self, from_, to, tokenId):\n",
        "        self.nft_contract.transfer(from_, to, tokenId)\n",
        "        data = json.dumps({\n",
        "            \"type\": \"transfer\",\n",
        "            \"from\": from_,\n",
        "            \"to\": to,\n",
        "            \"tokenId\": tokenId\n",
        "        })\n",
        "        self.add_block(data)\n",
        "        return self.get_latest_block().hash\n",
        "\n",
        "    def mint_fungible_token(self, to, amount):\n",
        "        self.fungible_token_contract.mint(to, amount)\n",
        "        data = json.dumps({\n",
        "            \"type\": \"mint_fungible\",\n",
        "            \"to\": to,\n",
        "            \"amount\": amount\n",
        "        })\n",
        "        self.add_block(data)\n",
        "        return self.get_latest_block().hash\n",
        "\n",
        "    def transfer_fungible_token(self, from_, to, amount):\n",
        "        self.fungible_token_contract.transfer(from_, to, amount)\n",
        "        data = json.dumps({\n",
        "            \"type\": \"transfer_fungible\",\n",
        "            \"from\": from_,\n",
        "            \"to\": to,\n",
        "            \"amount\": amount\n",
        "        })\n",
        "        self.add_block(data)\n",
        "        return self.get_latest_block().hash"
      ],
      "metadata": {
        "id": "WL99gI7mOUAo"
      },
      "execution_count": 20,
      "outputs": []
    },
    {
      "cell_type": "code",
      "source": [
        "# Contoh Penggunaan\n",
        "pos = ProofOfStake()\n",
        "my_blockchain = MyBlockchain(pos)"
      ],
      "metadata": {
        "id": "ixhsicOHOZ8t"
      },
      "execution_count": 21,
      "outputs": []
    },
    {
      "cell_type": "code",
      "source": [
        "# Add stakeholders using the ProofOfStake object\n",
        "pos.add_stakeholder('Alice', 10)\n",
        "pos.add_stakeholder('Bob', 20)\n",
        "pos.add_stakeholder('Charlie', 30)"
      ],
      "metadata": {
        "id": "4SzAyU5MXNe4"
      },
      "execution_count": 22,
      "outputs": []
    },
    {
      "cell_type": "code",
      "source": [
        "# Menambahkan blok biasa\n",
        "my_blockchain.add_block('Block 1 Data')\n",
        "my_blockchain.add_block('Block 2 Data')"
      ],
      "metadata": {
        "id": "VOt1PL8aOhic"
      },
      "execution_count": 23,
      "outputs": []
    },
    {
      "cell_type": "code",
      "source": [
        "# Menambahkan smart contract\n",
        "smart_contract_code = \"\"\"\n",
        "def contract_function(storage):\n",
        "    storage['counter'] = storage.get('counter', 0) + 1\n",
        "    print(f\"Counter value: {storage['counter']}\")\n",
        "contract_function(storage)\n",
        "\"\"\""
      ],
      "metadata": {
        "id": "kfMqPDVYOlkW"
      },
      "execution_count": 24,
      "outputs": []
    },
    {
      "cell_type": "code",
      "source": [
        "block_hash = my_blockchain.store_smart_contract(smart_contract_code)\n",
        "print(f\"Smart contract stored in block with hash: {block_hash}\")"
      ],
      "metadata": {
        "colab": {
          "base_uri": "https://localhost:8080/"
        },
        "id": "wPJhdNz2Oopx",
        "outputId": "5a3ef62c-1234-4ebf-c334-1991b63cedec"
      },
      "execution_count": 25,
      "outputs": [
        {
          "output_type": "stream",
          "name": "stdout",
          "text": [
            "Smart Contract Block #3 created by Bob using PoS\n",
            "Smart contract stored in block with hash: 0ab93c15e23019f319660b1717b9dad7cfcd5b6dc9d919214e54daa25a2ad761\n"
          ]
        }
      ]
    },
    {
      "cell_type": "code",
      "source": [
        "# Menjalankan smart contract dari blockchain\n",
        "my_blockchain.execute_smart_contract_from_block(block_hash)"
      ],
      "metadata": {
        "colab": {
          "base_uri": "https://localhost:8080/"
        },
        "id": "NLEZDH2EOsyB",
        "outputId": "84d19d67-36cf-4b21-b9c9-076098bdbb1a"
      },
      "execution_count": 26,
      "outputs": [
        {
          "output_type": "stream",
          "name": "stdout",
          "text": [
            "Counter value: 1\n"
          ]
        }
      ]
    },
    {
      "cell_type": "code",
      "source": [
        "# Menjalankan kembali smart contract untuk melihat perubahan state\n",
        "my_blockchain.execute_smart_contract_from_block(block_hash)"
      ],
      "metadata": {
        "colab": {
          "base_uri": "https://localhost:8080/"
        },
        "id": "PpiUGV_5OxMA",
        "outputId": "addb5ebd-be69-4c6f-9998-f8e8cd3cf0bc"
      },
      "execution_count": 27,
      "outputs": [
        {
          "output_type": "stream",
          "name": "stdout",
          "text": [
            "Counter value: 2\n"
          ]
        }
      ]
    },
    {
      "cell_type": "code",
      "source": [
        "# Mencetak isi blockchain dalam format JSON\n",
        "print(\"Blockchain content in JSON:\")\n",
        "print(my_blockchain.to_json())"
      ],
      "metadata": {
        "colab": {
          "base_uri": "https://localhost:8080/"
        },
        "id": "qb1AuUciOz6L",
        "outputId": "1dbaab61-50d1-4153-dae6-790c6cd73d29"
      },
      "execution_count": 28,
      "outputs": [
        {
          "output_type": "stream",
          "name": "stdout",
          "text": [
            "Blockchain content in JSON:\n",
            "[\n",
            "    {\n",
            "        \"index\": 0,\n",
            "        \"previous_hash\": \"0\",\n",
            "        \"timestamp\": 1719854156,\n",
            "        \"data\": \"Genesis Block\",\n",
            "        \"hash\": \"b799dde4c6ce0686ab2e2d4a6355a33af6abe276d309bbb740bd79de3695853b\"\n",
            "    },\n",
            "    {\n",
            "        \"index\": 1,\n",
            "        \"previous_hash\": \"b799dde4c6ce0686ab2e2d4a6355a33af6abe276d309bbb740bd79de3695853b\",\n",
            "        \"timestamp\": 1719854183,\n",
            "        \"data\": \"Block 1 Data\",\n",
            "        \"hash\": \"c93e6374d931cf51a65ef9ede6876af01ff3a01a89093c1474da855a3bb9c1d2\"\n",
            "    },\n",
            "    {\n",
            "        \"index\": 2,\n",
            "        \"previous_hash\": \"c93e6374d931cf51a65ef9ede6876af01ff3a01a89093c1474da855a3bb9c1d2\",\n",
            "        \"timestamp\": 1719854183,\n",
            "        \"data\": \"Block 2 Data\",\n",
            "        \"hash\": \"90a4188a7fc937f1a8f59283469090058bf8c3169be670df8c0e0fa5a35ab168\"\n",
            "    },\n",
            "    {\n",
            "        \"index\": 3,\n",
            "        \"previous_hash\": \"90a4188a7fc937f1a8f59283469090058bf8c3169be670df8c0e0fa5a35ab168\",\n",
            "        \"timestamp\": 1719854195,\n",
            "        \"data\": \"\\ndef contract_function(storage):\\n    storage['counter'] = storage.get('counter', 0) + 1\\n    print(f\\\"Counter value: {storage['counter']}\\\")\\ncontract_function(storage)\\n\",\n",
            "        \"hash\": \"0ab93c15e23019f319660b1717b9dad7cfcd5b6dc9d919214e54daa25a2ad761\"\n",
            "    }\n",
            "]\n"
          ]
        }
      ]
    },
    {
      "cell_type": "code",
      "source": [
        "# Membuat NFT baru\n",
        "owner_address = \"0xfeedfacefeedfacefeedfacefeedfacefeedface\"\n",
        "asset_uri = \"https://example2.co.id\"\n",
        "mint_block_hash = my_blockchain.mint_nft(owner_address, asset_uri)\n",
        "print(f\"NFT minted in block with hash: {mint_block_hash}\")"
      ],
      "metadata": {
        "colab": {
          "base_uri": "https://localhost:8080/"
        },
        "id": "nvdMxqpOO2q6",
        "outputId": "ef789bf1-4fb2-4b81-a5ea-864df73dceeb"
      },
      "execution_count": 29,
      "outputs": [
        {
          "output_type": "stream",
          "name": "stdout",
          "text": [
            "NFT minted in block with hash: 444a9c5c8753f82d72a29148f97a97dd8f1330a91baad8d44e33bb5bab7c1fb5\n"
          ]
        }
      ]
    },
    {
      "cell_type": "code",
      "source": [
        "# Transfer NFT\n",
        "new_owner_address = \"0xbadc0ffeebadc0ffeebadc0ffeebadc0ffeebadc\"\n",
        "token_id = hashlib.sha256(asset_uri.encode()).hexdigest()\n",
        "transfer_block_hash = my_blockchain.transfer_nft(owner_address, new_owner_address, token_id)\n",
        "print(f\"NFT transferred in block with hash: {transfer_block_hash}\")"
      ],
      "metadata": {
        "colab": {
          "base_uri": "https://localhost:8080/"
        },
        "id": "_iqCNrexO8Uh",
        "outputId": "eb79ced1-9ff6-40cd-9485-66daecf895d4"
      },
      "execution_count": 30,
      "outputs": [
        {
          "output_type": "stream",
          "name": "stdout",
          "text": [
            "NFT transferred in block with hash: a9991e837578ea895e53f3dd9be77b68040607d9e802b57f16ee08c22b8b6e15\n"
          ]
        }
      ]
    },
    {
      "cell_type": "code",
      "source": [
        "# Mencetak isi blockchain dalam format JSON\n",
        "print(\"Blockchain content in JSON:\")\n",
        "print(my_blockchain.to_json())"
      ],
      "metadata": {
        "colab": {
          "base_uri": "https://localhost:8080/"
        },
        "id": "bDJLJYSiO-zm",
        "outputId": "3a94b450-0c43-47d2-af0a-b24742cd825f"
      },
      "execution_count": 31,
      "outputs": [
        {
          "output_type": "stream",
          "name": "stdout",
          "text": [
            "Blockchain content in JSON:\n",
            "[\n",
            "    {\n",
            "        \"index\": 0,\n",
            "        \"previous_hash\": \"0\",\n",
            "        \"timestamp\": 1719854156,\n",
            "        \"data\": \"Genesis Block\",\n",
            "        \"hash\": \"b799dde4c6ce0686ab2e2d4a6355a33af6abe276d309bbb740bd79de3695853b\"\n",
            "    },\n",
            "    {\n",
            "        \"index\": 1,\n",
            "        \"previous_hash\": \"b799dde4c6ce0686ab2e2d4a6355a33af6abe276d309bbb740bd79de3695853b\",\n",
            "        \"timestamp\": 1719854183,\n",
            "        \"data\": \"Block 1 Data\",\n",
            "        \"hash\": \"c93e6374d931cf51a65ef9ede6876af01ff3a01a89093c1474da855a3bb9c1d2\"\n",
            "    },\n",
            "    {\n",
            "        \"index\": 2,\n",
            "        \"previous_hash\": \"c93e6374d931cf51a65ef9ede6876af01ff3a01a89093c1474da855a3bb9c1d2\",\n",
            "        \"timestamp\": 1719854183,\n",
            "        \"data\": \"Block 2 Data\",\n",
            "        \"hash\": \"90a4188a7fc937f1a8f59283469090058bf8c3169be670df8c0e0fa5a35ab168\"\n",
            "    },\n",
            "    {\n",
            "        \"index\": 3,\n",
            "        \"previous_hash\": \"90a4188a7fc937f1a8f59283469090058bf8c3169be670df8c0e0fa5a35ab168\",\n",
            "        \"timestamp\": 1719854195,\n",
            "        \"data\": \"\\ndef contract_function(storage):\\n    storage['counter'] = storage.get('counter', 0) + 1\\n    print(f\\\"Counter value: {storage['counter']}\\\")\\ncontract_function(storage)\\n\",\n",
            "        \"hash\": \"0ab93c15e23019f319660b1717b9dad7cfcd5b6dc9d919214e54daa25a2ad761\"\n",
            "    },\n",
            "    {\n",
            "        \"index\": 4,\n",
            "        \"previous_hash\": \"0ab93c15e23019f319660b1717b9dad7cfcd5b6dc9d919214e54daa25a2ad761\",\n",
            "        \"timestamp\": 1719854222,\n",
            "        \"data\": \"{\\\"type\\\": \\\"mint\\\", \\\"owner\\\": \\\"0xfeedfacefeedfacefeedfacefeedfacefeedface\\\", \\\"tokenId\\\": \\\"8b77fa5c5a4ba9119bd9258672bc9f59884b884ff9f187002d635b1d1a773aa8\\\", \\\"metadata\\\": \\\"https://example2.co.id\\\"}\",\n",
            "        \"hash\": \"444a9c5c8753f82d72a29148f97a97dd8f1330a91baad8d44e33bb5bab7c1fb5\"\n",
            "    },\n",
            "    {\n",
            "        \"index\": 5,\n",
            "        \"previous_hash\": \"444a9c5c8753f82d72a29148f97a97dd8f1330a91baad8d44e33bb5bab7c1fb5\",\n",
            "        \"timestamp\": 1719854231,\n",
            "        \"data\": \"{\\\"type\\\": \\\"transfer\\\", \\\"from\\\": \\\"0xfeedfacefeedfacefeedfacefeedfacefeedface\\\", \\\"to\\\": \\\"0xbadc0ffeebadc0ffeebadc0ffeebadc0ffeebadc\\\", \\\"tokenId\\\": \\\"8b77fa5c5a4ba9119bd9258672bc9f59884b884ff9f187002d635b1d1a773aa8\\\"}\",\n",
            "        \"hash\": \"a9991e837578ea895e53f3dd9be77b68040607d9e802b57f16ee08c22b8b6e15\"\n",
            "    }\n",
            "]\n"
          ]
        }
      ]
    },
    {
      "cell_type": "code",
      "source": [
        "# Demonstrasi Token Fungible (ERC20)\n",
        "my_blockchain.mint_fungible_token(\"0xabc\", 1000)\n",
        "my_blockchain.mint_fungible_token(\"0xdef\", 500)"
      ],
      "metadata": {
        "colab": {
          "base_uri": "https://localhost:8080/",
          "height": 36
        },
        "id": "nSEQjGcJPA_G",
        "outputId": "261af01a-e68c-488b-dc2e-0f2e916360cb"
      },
      "execution_count": 32,
      "outputs": [
        {
          "output_type": "execute_result",
          "data": {
            "text/plain": [
              "'abff7a8e42c479709d2d799a18a4607fba1956b69508e3dcf45304ad00ffbe80'"
            ],
            "application/vnd.google.colaboratory.intrinsic+json": {
              "type": "string"
            }
          },
          "metadata": {},
          "execution_count": 32
        }
      ]
    },
    {
      "cell_type": "code",
      "source": [
        "print(\"Balance of 0xabc:\", my_blockchain.fungible_token_contract.balance_of(\"0xabc\"))\n",
        "print(\"Balance of 0xdef:\", my_blockchain.fungible_token_contract.balance_of(\"0xdef\"))"
      ],
      "metadata": {
        "colab": {
          "base_uri": "https://localhost:8080/"
        },
        "id": "M6tJE8FiPD3k",
        "outputId": "c3ec17b4-16ce-4a72-fc54-fb947e949636"
      },
      "execution_count": 33,
      "outputs": [
        {
          "output_type": "stream",
          "name": "stdout",
          "text": [
            "Balance of 0xabc: 1000\n",
            "Balance of 0xdef: 500\n"
          ]
        }
      ]
    },
    {
      "cell_type": "code",
      "source": [
        "my_blockchain.transfer_fungible_token(\"0xabc\", \"0xdef\", 200)"
      ],
      "metadata": {
        "colab": {
          "base_uri": "https://localhost:8080/",
          "height": 36
        },
        "id": "HLZDRUDDPGsy",
        "outputId": "e6170834-db18-4d88-e023-e41a617f9867"
      },
      "execution_count": 34,
      "outputs": [
        {
          "output_type": "execute_result",
          "data": {
            "text/plain": [
              "'be1b041ab1b3c60f48b566a390d1d3d9a8a8a68f4493e38d2bfc6ca5b03031a1'"
            ],
            "application/vnd.google.colaboratory.intrinsic+json": {
              "type": "string"
            }
          },
          "metadata": {},
          "execution_count": 34
        }
      ]
    },
    {
      "cell_type": "code",
      "source": [
        "print(\"Balance of 0xabc after transfer:\", my_blockchain.fungible_token_contract.balance_of(\"0xabc\"))\n",
        "print(\"Balance of 0xdef after transfer:\", my_blockchain.fungible_token_contract.balance_of(\"0xdef\"))"
      ],
      "metadata": {
        "colab": {
          "base_uri": "https://localhost:8080/"
        },
        "id": "g7mUVou0PHwg",
        "outputId": "1d493d2c-603a-4cb9-e9d3-a77846bd81ae"
      },
      "execution_count": 35,
      "outputs": [
        {
          "output_type": "stream",
          "name": "stdout",
          "text": [
            "Balance of 0xabc after transfer: 800\n",
            "Balance of 0xdef after transfer: 700\n"
          ]
        }
      ]
    },
    {
      "cell_type": "code",
      "source": [
        "# Mencetak isi blockchain dalam format JSON\n",
        "print(\"Blockchain content in JSON:\")\n",
        "print(my_blockchain.to_json())"
      ],
      "metadata": {
        "colab": {
          "base_uri": "https://localhost:8080/"
        },
        "id": "uiZLt1NcPJyi",
        "outputId": "890dd1ef-23aa-45a2-e881-29a011188e5e"
      },
      "execution_count": 36,
      "outputs": [
        {
          "output_type": "stream",
          "name": "stdout",
          "text": [
            "Blockchain content in JSON:\n",
            "[\n",
            "    {\n",
            "        \"index\": 0,\n",
            "        \"previous_hash\": \"0\",\n",
            "        \"timestamp\": 1719854156,\n",
            "        \"data\": \"Genesis Block\",\n",
            "        \"hash\": \"b799dde4c6ce0686ab2e2d4a6355a33af6abe276d309bbb740bd79de3695853b\"\n",
            "    },\n",
            "    {\n",
            "        \"index\": 1,\n",
            "        \"previous_hash\": \"b799dde4c6ce0686ab2e2d4a6355a33af6abe276d309bbb740bd79de3695853b\",\n",
            "        \"timestamp\": 1719854183,\n",
            "        \"data\": \"Block 1 Data\",\n",
            "        \"hash\": \"c93e6374d931cf51a65ef9ede6876af01ff3a01a89093c1474da855a3bb9c1d2\"\n",
            "    },\n",
            "    {\n",
            "        \"index\": 2,\n",
            "        \"previous_hash\": \"c93e6374d931cf51a65ef9ede6876af01ff3a01a89093c1474da855a3bb9c1d2\",\n",
            "        \"timestamp\": 1719854183,\n",
            "        \"data\": \"Block 2 Data\",\n",
            "        \"hash\": \"90a4188a7fc937f1a8f59283469090058bf8c3169be670df8c0e0fa5a35ab168\"\n",
            "    },\n",
            "    {\n",
            "        \"index\": 3,\n",
            "        \"previous_hash\": \"90a4188a7fc937f1a8f59283469090058bf8c3169be670df8c0e0fa5a35ab168\",\n",
            "        \"timestamp\": 1719854195,\n",
            "        \"data\": \"\\ndef contract_function(storage):\\n    storage['counter'] = storage.get('counter', 0) + 1\\n    print(f\\\"Counter value: {storage['counter']}\\\")\\ncontract_function(storage)\\n\",\n",
            "        \"hash\": \"0ab93c15e23019f319660b1717b9dad7cfcd5b6dc9d919214e54daa25a2ad761\"\n",
            "    },\n",
            "    {\n",
            "        \"index\": 4,\n",
            "        \"previous_hash\": \"0ab93c15e23019f319660b1717b9dad7cfcd5b6dc9d919214e54daa25a2ad761\",\n",
            "        \"timestamp\": 1719854222,\n",
            "        \"data\": \"{\\\"type\\\": \\\"mint\\\", \\\"owner\\\": \\\"0xfeedfacefeedfacefeedfacefeedfacefeedface\\\", \\\"tokenId\\\": \\\"8b77fa5c5a4ba9119bd9258672bc9f59884b884ff9f187002d635b1d1a773aa8\\\", \\\"metadata\\\": \\\"https://example2.co.id\\\"}\",\n",
            "        \"hash\": \"444a9c5c8753f82d72a29148f97a97dd8f1330a91baad8d44e33bb5bab7c1fb5\"\n",
            "    },\n",
            "    {\n",
            "        \"index\": 5,\n",
            "        \"previous_hash\": \"444a9c5c8753f82d72a29148f97a97dd8f1330a91baad8d44e33bb5bab7c1fb5\",\n",
            "        \"timestamp\": 1719854231,\n",
            "        \"data\": \"{\\\"type\\\": \\\"transfer\\\", \\\"from\\\": \\\"0xfeedfacefeedfacefeedfacefeedfacefeedface\\\", \\\"to\\\": \\\"0xbadc0ffeebadc0ffeebadc0ffeebadc0ffeebadc\\\", \\\"tokenId\\\": \\\"8b77fa5c5a4ba9119bd9258672bc9f59884b884ff9f187002d635b1d1a773aa8\\\"}\",\n",
            "        \"hash\": \"a9991e837578ea895e53f3dd9be77b68040607d9e802b57f16ee08c22b8b6e15\"\n",
            "    },\n",
            "    {\n",
            "        \"index\": 6,\n",
            "        \"previous_hash\": \"a9991e837578ea895e53f3dd9be77b68040607d9e802b57f16ee08c22b8b6e15\",\n",
            "        \"timestamp\": 1719854244,\n",
            "        \"data\": \"{\\\"type\\\": \\\"mint_fungible\\\", \\\"to\\\": \\\"0xabc\\\", \\\"amount\\\": 1000}\",\n",
            "        \"hash\": \"8a3deb5e558a3b902c763114edab685a180f8c494f889e56d0e34ebef8cded99\"\n",
            "    },\n",
            "    {\n",
            "        \"index\": 7,\n",
            "        \"previous_hash\": \"8a3deb5e558a3b902c763114edab685a180f8c494f889e56d0e34ebef8cded99\",\n",
            "        \"timestamp\": 1719854244,\n",
            "        \"data\": \"{\\\"type\\\": \\\"mint_fungible\\\", \\\"to\\\": \\\"0xdef\\\", \\\"amount\\\": 500}\",\n",
            "        \"hash\": \"abff7a8e42c479709d2d799a18a4607fba1956b69508e3dcf45304ad00ffbe80\"\n",
            "    },\n",
            "    {\n",
            "        \"index\": 8,\n",
            "        \"previous_hash\": \"abff7a8e42c479709d2d799a18a4607fba1956b69508e3dcf45304ad00ffbe80\",\n",
            "        \"timestamp\": 1719854262,\n",
            "        \"data\": \"{\\\"type\\\": \\\"transfer_fungible\\\", \\\"from\\\": \\\"0xabc\\\", \\\"to\\\": \\\"0xdef\\\", \\\"amount\\\": 200}\",\n",
            "        \"hash\": \"be1b041ab1b3c60f48b566a390d1d3d9a8a8a68f4493e38d2bfc6ca5b03031a1\"\n",
            "    }\n",
            "]\n"
          ]
        }
      ]
    },
    {
      "cell_type": "code",
      "source": [
        "# Contoh Penggunaan\n",
        "# Proof of Burn\n",
        "pob = ProofOfBurn()\n",
        "pob.burn_coins('Alice', 10)\n",
        "pob.burn_coins('Bob', 20)\n",
        "pob.burn_coins('Charlie', 30)\n",
        "\n",
        "blockchain_pob = Blockchain(pob)\n",
        "blockchain_pob.add_block('Block 1 Data')\n",
        "blockchain_pob.add_block('Block 2 Data')\n",
        "\n",
        "print(\"Blockchain content with PoB in JSON:\")\n",
        "print(blockchain_pob.to_json())\n",
        "\n",
        "# Proof of Elapsed Time\n",
        "poet = ProofOfElapsedTime()\n",
        "poet.wait_times = {'Alice': 0, 'Bob': 0, 'Charlie': 0}\n",
        "\n",
        "blockchain_poet = Blockchain(poet)\n",
        "blockchain_poet.add_block('Block 1 Data')\n",
        "blockchain_poet.add_block('Block 2 Data')\n",
        "\n",
        "print(\"Blockchain content with PoET in JSON:\")\n",
        "print(blockchain_poet.to_json())"
      ],
      "metadata": {
        "colab": {
          "base_uri": "https://localhost:8080/"
        },
        "id": "IIk0ZdYKS_1O",
        "outputId": "fff13ca4-72e4-43b9-b209-eb05ba805b35"
      },
      "execution_count": 37,
      "outputs": [
        {
          "output_type": "stream",
          "name": "stdout",
          "text": [
            "Block #9 created by Charlie using PoB\n",
            "Block #10 created by Charlie using PoB\n",
            "Blockchain content with PoB in JSON:\n",
            "[\n",
            "    {\n",
            "        \"index\": 0,\n",
            "        \"previous_hash\": \"0\",\n",
            "        \"timestamp\": 1719854156,\n",
            "        \"data\": \"Genesis Block\",\n",
            "        \"hash\": \"b799dde4c6ce0686ab2e2d4a6355a33af6abe276d309bbb740bd79de3695853b\"\n",
            "    },\n",
            "    {\n",
            "        \"index\": 1,\n",
            "        \"previous_hash\": \"b799dde4c6ce0686ab2e2d4a6355a33af6abe276d309bbb740bd79de3695853b\",\n",
            "        \"timestamp\": 1719854183,\n",
            "        \"data\": \"Block 1 Data\",\n",
            "        \"hash\": \"c93e6374d931cf51a65ef9ede6876af01ff3a01a89093c1474da855a3bb9c1d2\"\n",
            "    },\n",
            "    {\n",
            "        \"index\": 2,\n",
            "        \"previous_hash\": \"c93e6374d931cf51a65ef9ede6876af01ff3a01a89093c1474da855a3bb9c1d2\",\n",
            "        \"timestamp\": 1719854183,\n",
            "        \"data\": \"Block 2 Data\",\n",
            "        \"hash\": \"90a4188a7fc937f1a8f59283469090058bf8c3169be670df8c0e0fa5a35ab168\"\n",
            "    },\n",
            "    {\n",
            "        \"index\": 3,\n",
            "        \"previous_hash\": \"90a4188a7fc937f1a8f59283469090058bf8c3169be670df8c0e0fa5a35ab168\",\n",
            "        \"timestamp\": 1719854195,\n",
            "        \"data\": \"\\ndef contract_function(storage):\\n    storage['counter'] = storage.get('counter', 0) + 1\\n    print(f\\\"Counter value: {storage['counter']}\\\")\\ncontract_function(storage)\\n\",\n",
            "        \"hash\": \"0ab93c15e23019f319660b1717b9dad7cfcd5b6dc9d919214e54daa25a2ad761\"\n",
            "    },\n",
            "    {\n",
            "        \"index\": 4,\n",
            "        \"previous_hash\": \"0ab93c15e23019f319660b1717b9dad7cfcd5b6dc9d919214e54daa25a2ad761\",\n",
            "        \"timestamp\": 1719854222,\n",
            "        \"data\": \"{\\\"type\\\": \\\"mint\\\", \\\"owner\\\": \\\"0xfeedfacefeedfacefeedfacefeedfacefeedface\\\", \\\"tokenId\\\": \\\"8b77fa5c5a4ba9119bd9258672bc9f59884b884ff9f187002d635b1d1a773aa8\\\", \\\"metadata\\\": \\\"https://example2.co.id\\\"}\",\n",
            "        \"hash\": \"444a9c5c8753f82d72a29148f97a97dd8f1330a91baad8d44e33bb5bab7c1fb5\"\n",
            "    },\n",
            "    {\n",
            "        \"index\": 5,\n",
            "        \"previous_hash\": \"444a9c5c8753f82d72a29148f97a97dd8f1330a91baad8d44e33bb5bab7c1fb5\",\n",
            "        \"timestamp\": 1719854231,\n",
            "        \"data\": \"{\\\"type\\\": \\\"transfer\\\", \\\"from\\\": \\\"0xfeedfacefeedfacefeedfacefeedfacefeedface\\\", \\\"to\\\": \\\"0xbadc0ffeebadc0ffeebadc0ffeebadc0ffeebadc\\\", \\\"tokenId\\\": \\\"8b77fa5c5a4ba9119bd9258672bc9f59884b884ff9f187002d635b1d1a773aa8\\\"}\",\n",
            "        \"hash\": \"a9991e837578ea895e53f3dd9be77b68040607d9e802b57f16ee08c22b8b6e15\"\n",
            "    },\n",
            "    {\n",
            "        \"index\": 6,\n",
            "        \"previous_hash\": \"a9991e837578ea895e53f3dd9be77b68040607d9e802b57f16ee08c22b8b6e15\",\n",
            "        \"timestamp\": 1719854244,\n",
            "        \"data\": \"{\\\"type\\\": \\\"mint_fungible\\\", \\\"to\\\": \\\"0xabc\\\", \\\"amount\\\": 1000}\",\n",
            "        \"hash\": \"8a3deb5e558a3b902c763114edab685a180f8c494f889e56d0e34ebef8cded99\"\n",
            "    },\n",
            "    {\n",
            "        \"index\": 7,\n",
            "        \"previous_hash\": \"8a3deb5e558a3b902c763114edab685a180f8c494f889e56d0e34ebef8cded99\",\n",
            "        \"timestamp\": 1719854244,\n",
            "        \"data\": \"{\\\"type\\\": \\\"mint_fungible\\\", \\\"to\\\": \\\"0xdef\\\", \\\"amount\\\": 500}\",\n",
            "        \"hash\": \"abff7a8e42c479709d2d799a18a4607fba1956b69508e3dcf45304ad00ffbe80\"\n",
            "    },\n",
            "    {\n",
            "        \"index\": 8,\n",
            "        \"previous_hash\": \"abff7a8e42c479709d2d799a18a4607fba1956b69508e3dcf45304ad00ffbe80\",\n",
            "        \"timestamp\": 1719854262,\n",
            "        \"data\": \"{\\\"type\\\": \\\"transfer_fungible\\\", \\\"from\\\": \\\"0xabc\\\", \\\"to\\\": \\\"0xdef\\\", \\\"amount\\\": 200}\",\n",
            "        \"hash\": \"be1b041ab1b3c60f48b566a390d1d3d9a8a8a68f4493e38d2bfc6ca5b03031a1\"\n",
            "    },\n",
            "    {\n",
            "        \"index\": 9,\n",
            "        \"previous_hash\": \"be1b041ab1b3c60f48b566a390d1d3d9a8a8a68f4493e38d2bfc6ca5b03031a1\",\n",
            "        \"timestamp\": 1719854309,\n",
            "        \"data\": \"Block 1 Data\",\n",
            "        \"hash\": \"cd4af4cd31940a0e6896ad24c567d96dc8d1f6e830e6d0b5047b3ba5fcd69857\"\n",
            "    },\n",
            "    {\n",
            "        \"index\": 10,\n",
            "        \"previous_hash\": \"cd4af4cd31940a0e6896ad24c567d96dc8d1f6e830e6d0b5047b3ba5fcd69857\",\n",
            "        \"timestamp\": 1719854309,\n",
            "        \"data\": \"Block 2 Data\",\n",
            "        \"hash\": \"15b4b2b3b63378ce8f39b74c373be01eaa4f3f535f9db16ea0633628f195d35b\"\n",
            "    }\n",
            "]\n",
            "Block #11 created by Alice using PoET\n",
            "Block #12 created by Alice using PoET\n",
            "Blockchain content with PoET in JSON:\n",
            "[\n",
            "    {\n",
            "        \"index\": 0,\n",
            "        \"previous_hash\": \"0\",\n",
            "        \"timestamp\": 1719854156,\n",
            "        \"data\": \"Genesis Block\",\n",
            "        \"hash\": \"b799dde4c6ce0686ab2e2d4a6355a33af6abe276d309bbb740bd79de3695853b\"\n",
            "    },\n",
            "    {\n",
            "        \"index\": 1,\n",
            "        \"previous_hash\": \"b799dde4c6ce0686ab2e2d4a6355a33af6abe276d309bbb740bd79de3695853b\",\n",
            "        \"timestamp\": 1719854183,\n",
            "        \"data\": \"Block 1 Data\",\n",
            "        \"hash\": \"c93e6374d931cf51a65ef9ede6876af01ff3a01a89093c1474da855a3bb9c1d2\"\n",
            "    },\n",
            "    {\n",
            "        \"index\": 2,\n",
            "        \"previous_hash\": \"c93e6374d931cf51a65ef9ede6876af01ff3a01a89093c1474da855a3bb9c1d2\",\n",
            "        \"timestamp\": 1719854183,\n",
            "        \"data\": \"Block 2 Data\",\n",
            "        \"hash\": \"90a4188a7fc937f1a8f59283469090058bf8c3169be670df8c0e0fa5a35ab168\"\n",
            "    },\n",
            "    {\n",
            "        \"index\": 3,\n",
            "        \"previous_hash\": \"90a4188a7fc937f1a8f59283469090058bf8c3169be670df8c0e0fa5a35ab168\",\n",
            "        \"timestamp\": 1719854195,\n",
            "        \"data\": \"\\ndef contract_function(storage):\\n    storage['counter'] = storage.get('counter', 0) + 1\\n    print(f\\\"Counter value: {storage['counter']}\\\")\\ncontract_function(storage)\\n\",\n",
            "        \"hash\": \"0ab93c15e23019f319660b1717b9dad7cfcd5b6dc9d919214e54daa25a2ad761\"\n",
            "    },\n",
            "    {\n",
            "        \"index\": 4,\n",
            "        \"previous_hash\": \"0ab93c15e23019f319660b1717b9dad7cfcd5b6dc9d919214e54daa25a2ad761\",\n",
            "        \"timestamp\": 1719854222,\n",
            "        \"data\": \"{\\\"type\\\": \\\"mint\\\", \\\"owner\\\": \\\"0xfeedfacefeedfacefeedfacefeedfacefeedface\\\", \\\"tokenId\\\": \\\"8b77fa5c5a4ba9119bd9258672bc9f59884b884ff9f187002d635b1d1a773aa8\\\", \\\"metadata\\\": \\\"https://example2.co.id\\\"}\",\n",
            "        \"hash\": \"444a9c5c8753f82d72a29148f97a97dd8f1330a91baad8d44e33bb5bab7c1fb5\"\n",
            "    },\n",
            "    {\n",
            "        \"index\": 5,\n",
            "        \"previous_hash\": \"444a9c5c8753f82d72a29148f97a97dd8f1330a91baad8d44e33bb5bab7c1fb5\",\n",
            "        \"timestamp\": 1719854231,\n",
            "        \"data\": \"{\\\"type\\\": \\\"transfer\\\", \\\"from\\\": \\\"0xfeedfacefeedfacefeedfacefeedfacefeedface\\\", \\\"to\\\": \\\"0xbadc0ffeebadc0ffeebadc0ffeebadc0ffeebadc\\\", \\\"tokenId\\\": \\\"8b77fa5c5a4ba9119bd9258672bc9f59884b884ff9f187002d635b1d1a773aa8\\\"}\",\n",
            "        \"hash\": \"a9991e837578ea895e53f3dd9be77b68040607d9e802b57f16ee08c22b8b6e15\"\n",
            "    },\n",
            "    {\n",
            "        \"index\": 6,\n",
            "        \"previous_hash\": \"a9991e837578ea895e53f3dd9be77b68040607d9e802b57f16ee08c22b8b6e15\",\n",
            "        \"timestamp\": 1719854244,\n",
            "        \"data\": \"{\\\"type\\\": \\\"mint_fungible\\\", \\\"to\\\": \\\"0xabc\\\", \\\"amount\\\": 1000}\",\n",
            "        \"hash\": \"8a3deb5e558a3b902c763114edab685a180f8c494f889e56d0e34ebef8cded99\"\n",
            "    },\n",
            "    {\n",
            "        \"index\": 7,\n",
            "        \"previous_hash\": \"8a3deb5e558a3b902c763114edab685a180f8c494f889e56d0e34ebef8cded99\",\n",
            "        \"timestamp\": 1719854244,\n",
            "        \"data\": \"{\\\"type\\\": \\\"mint_fungible\\\", \\\"to\\\": \\\"0xdef\\\", \\\"amount\\\": 500}\",\n",
            "        \"hash\": \"abff7a8e42c479709d2d799a18a4607fba1956b69508e3dcf45304ad00ffbe80\"\n",
            "    },\n",
            "    {\n",
            "        \"index\": 8,\n",
            "        \"previous_hash\": \"abff7a8e42c479709d2d799a18a4607fba1956b69508e3dcf45304ad00ffbe80\",\n",
            "        \"timestamp\": 1719854262,\n",
            "        \"data\": \"{\\\"type\\\": \\\"transfer_fungible\\\", \\\"from\\\": \\\"0xabc\\\", \\\"to\\\": \\\"0xdef\\\", \\\"amount\\\": 200}\",\n",
            "        \"hash\": \"be1b041ab1b3c60f48b566a390d1d3d9a8a8a68f4493e38d2bfc6ca5b03031a1\"\n",
            "    },\n",
            "    {\n",
            "        \"index\": 9,\n",
            "        \"previous_hash\": \"be1b041ab1b3c60f48b566a390d1d3d9a8a8a68f4493e38d2bfc6ca5b03031a1\",\n",
            "        \"timestamp\": 1719854309,\n",
            "        \"data\": \"Block 1 Data\",\n",
            "        \"hash\": \"cd4af4cd31940a0e6896ad24c567d96dc8d1f6e830e6d0b5047b3ba5fcd69857\"\n",
            "    },\n",
            "    {\n",
            "        \"index\": 10,\n",
            "        \"previous_hash\": \"cd4af4cd31940a0e6896ad24c567d96dc8d1f6e830e6d0b5047b3ba5fcd69857\",\n",
            "        \"timestamp\": 1719854309,\n",
            "        \"data\": \"Block 2 Data\",\n",
            "        \"hash\": \"15b4b2b3b63378ce8f39b74c373be01eaa4f3f535f9db16ea0633628f195d35b\"\n",
            "    },\n",
            "    {\n",
            "        \"index\": 11,\n",
            "        \"previous_hash\": \"15b4b2b3b63378ce8f39b74c373be01eaa4f3f535f9db16ea0633628f195d35b\",\n",
            "        \"timestamp\": 1719854309,\n",
            "        \"data\": \"Block 1 Data\",\n",
            "        \"hash\": \"33c0e412973994cdf75ac9a2a1697c8e6d8036c2adbf7cdae128476c67b8c7dd\"\n",
            "    },\n",
            "    {\n",
            "        \"index\": 12,\n",
            "        \"previous_hash\": \"33c0e412973994cdf75ac9a2a1697c8e6d8036c2adbf7cdae128476c67b8c7dd\",\n",
            "        \"timestamp\": 1719854320,\n",
            "        \"data\": \"Block 2 Data\",\n",
            "        \"hash\": \"4312faa2df49f95a700fed0139b68ce5d7fc2bf2f9d5eb8d91d7f51080b780ba\"\n",
            "    }\n",
            "]\n"
          ]
        }
      ]
    },
    {
      "cell_type": "markdown",
      "source": [
        "# Demo DAO untuk Grant DAOs"
      ],
      "metadata": {
        "id": "C6Ax7BQ3VvlI"
      }
    },
    {
      "cell_type": "code",
      "source": [
        "class GrantDAOs(MyBlockchain):\n",
        "    def __init__(self,pos):\n",
        "        super().__init__(pos)\n",
        "        self.grants = {}\n",
        "\n",
        "    def create_grant(self, grant_id, proposer, amount, description):\n",
        "        self.grants[grant_id] = {\n",
        "            'proposer': proposer,\n",
        "            'amount': amount,\n",
        "            'description': description,\n",
        "            'votes': {'yes': 0, 'no': 0},\n",
        "            'executed': False\n",
        "        }\n",
        "        data = json.dumps({\n",
        "            \"type\": \"create_grant\",\n",
        "            \"grant_id\": grant_id,\n",
        "            \"proposer\": proposer,\n",
        "            \"amount\": amount,\n",
        "            \"description\": description\n",
        "        })\n",
        "        self.add_block(data)\n",
        "        return self.get_latest_block().hash\n",
        "\n",
        "    def vote_grant(self, grant_id, stakeholder, vote):\n",
        "        if grant_id in self.grants:\n",
        "            if vote not in ['yes', 'no']:\n",
        "                raise ValueError(\"Vote must be 'yes' atau 'no'\")\n",
        "            self.grants[grant_id]['votes'][vote] += 1\n",
        "            data = json.dumps({\n",
        "                \"type\": \"vote_grant\",\n",
        "                \"grant_id\": grant_id,\n",
        "                \"stakeholder\": stakeholder,\n",
        "                \"vote\": vote\n",
        "            })\n",
        "            self.add_block(data)\n",
        "            return self.get_latest_block().hash\n",
        "        else:\n",
        "            raise ValueError(\"Grant ID tidak ditemukan\")\n",
        "\n",
        "    def execute_grant(self, grant_id):\n",
        "        if grant_id in self.grants:\n",
        "            grant = self.grants[grant_id]\n",
        "            if grant['votes']['yes'] > grant['votes']['no'] and not grant['executed']:\n",
        "                self.reward_player(grant['proposer'], grant['amount'])\n",
        "                grant['executed'] = True\n",
        "                data = json.dumps({\n",
        "                    \"type\": \"execute_grant\",\n",
        "                    \"grant_id\": grant_id\n",
        "                })\n",
        "                self.add_block(data)\n",
        "                return self.get_latest_block().hash\n",
        "            else:\n",
        "                raise ValueError(\"Grant belum disetujui atau sudah dieksekusi\")\n",
        "        else:\n",
        "            raise ValueError(\"Grant ID tidak ditemukan\")\n",
        "\n",
        "    def reward_player(self, player, amount):\n",
        "        self.fungible_token_contract.mint(player, amount)\n",
        "        data = json.dumps({\n",
        "            \"type\": \"reward_player\",\n",
        "            \"player\": player,\n",
        "            \"amount\": amount\n",
        "        })\n",
        "        self.add_block(data)\n",
        "        return self.get_latest_block().hash"
      ],
      "metadata": {
        "id": "j9vGwauuVtwm"
      },
      "execution_count": 56,
      "outputs": []
    },
    {
      "cell_type": "code",
      "source": [
        "# Demonstrasi Penggunaan\n",
        "pos = ProofOfStake()\n",
        "grant_daos = GrantDAOs(pos)\n",
        "\n",
        "pos.add_stakeholder('Alice', 10)\n",
        "pos.add_stakeholder('Bob', 20)\n",
        "pos.add_stakeholder('Charlie', 30)\n",
        "pos.add_stakeholder('Herman', 15)\n",
        "pos.add_stakeholder('Hani', 7)\n",
        "pos.add_stakeholder('Dolbi', 50)\n",
        "\n",
        "# Menambahkan blok biasa\n",
        "grant_daos.add_block('Block 1 Data')\n",
        "grant_daos.add_block('Block 2 Data')"
      ],
      "metadata": {
        "id": "5bx4JRrBV2-r"
      },
      "execution_count": 57,
      "outputs": []
    },
    {
      "cell_type": "code",
      "source": [
        "# Membuat proposal grant\n",
        "grant_id = \"grant1\"\n",
        "proposer = \"Alice\"\n",
        "amount = 100\n",
        "description = \"Research on sustainable blockchain solutions\"\n",
        "create_grant_hash = grant_daos.create_grant(grant_id, proposer, amount, description)\n",
        "print(f\"Grant proposal created in block with hash: {create_grant_hash}\")"
      ],
      "metadata": {
        "colab": {
          "base_uri": "https://localhost:8080/"
        },
        "id": "AJNanA9RWAA8",
        "outputId": "bbdb2162-a29a-42d4-987f-f5266d530977"
      },
      "execution_count": 58,
      "outputs": [
        {
          "output_type": "stream",
          "name": "stdout",
          "text": [
            "Grant proposal created in block with hash: 32bf0f655ad0a1c1654de03d8ea3dc7c0e740bdf281cb65effa399219dd85a9f\n"
          ]
        }
      ]
    },
    {
      "cell_type": "code",
      "source": [
        "# Stakeholder voting\n",
        "vote_hash_1 = grant_daos.vote_grant(grant_id, 'Bob', 'yes')\n",
        "print(f\"Grant vote by Bob in block with hash: {vote_hash_1}\")\n",
        "\n",
        "vote_hash_2 = grant_daos.vote_grant(grant_id, 'Charlie', 'no')\n",
        "print(f\"Grant vote by Charlie in block with hash: {vote_hash_2}\")\n",
        "\n",
        "vote_hash_3 = grant_daos.vote_grant(grant_id, 'Hani', 'yes')\n",
        "print(f\"Grant vote by Charlie in block with hash: {vote_hash_2}\")"
      ],
      "metadata": {
        "colab": {
          "base_uri": "https://localhost:8080/"
        },
        "id": "4EAmmnLOWDlJ",
        "outputId": "e8fd4a41-b14f-4087-8032-943360a5c9ad"
      },
      "execution_count": 59,
      "outputs": [
        {
          "output_type": "stream",
          "name": "stdout",
          "text": [
            "Grant vote by Bob in block with hash: ba85bb8d8d46935b08803a4f6e235b248384c6715c8958958f8cdd746f6cca2f\n",
            "Grant vote by Charlie in block with hash: d4b5dc95f1a1c4cbf8be25e0e134436b8f842a835b9538dc049cf79bd7065866\n",
            "Grant vote by Charlie in block with hash: d4b5dc95f1a1c4cbf8be25e0e134436b8f842a835b9538dc049cf79bd7065866\n"
          ]
        }
      ]
    },
    {
      "cell_type": "code",
      "source": [
        "# Eksekusi grant setelah voting\n",
        "try:\n",
        "    execute_grant_hash = grant_daos.execute_grant(grant_id)\n",
        "    print(f\"Grant executed in block with hash: {execute_grant_hash}\")\n",
        "except ValueError as e:\n",
        "    print(f\"Error executing grant: {e}\")\n",
        "    # Check the votes to see if the grant was approved\n",
        "    grant = grant_daos.grants.get(grant_id)\n",
        "    if grant:\n",
        "        print(f\"Grant votes: {grant['votes']}\")"
      ],
      "metadata": {
        "colab": {
          "base_uri": "https://localhost:8080/"
        },
        "id": "Nsk1WXTvYBzN",
        "outputId": "90b5ddeb-106a-486f-b5b1-fd72358ca437"
      },
      "execution_count": 60,
      "outputs": [
        {
          "output_type": "stream",
          "name": "stdout",
          "text": [
            "Grant executed in block with hash: 7b6953533ff86a9fbc85114ca76c994ebf03ed34e8838024256508280c3cbe60\n"
          ]
        }
      ]
    },
    {
      "cell_type": "code",
      "source": [
        "# Mencetak isi blockchain dalam format JSON\n",
        "print(\"Blockchain content in JSON:\")\n",
        "print(grant_daos.to_json())"
      ],
      "metadata": {
        "colab": {
          "base_uri": "https://localhost:8080/"
        },
        "id": "-3Eor9JDWIm8",
        "outputId": "c4fca8f9-54e6-42bc-b315-7cb16fa9dc3f"
      },
      "execution_count": 61,
      "outputs": [
        {
          "output_type": "stream",
          "name": "stdout",
          "text": [
            "Blockchain content in JSON:\n",
            "[\n",
            "    {\n",
            "        \"index\": 0,\n",
            "        \"previous_hash\": \"0\",\n",
            "        \"timestamp\": 1719854156,\n",
            "        \"data\": \"Genesis Block\",\n",
            "        \"hash\": \"b799dde4c6ce0686ab2e2d4a6355a33af6abe276d309bbb740bd79de3695853b\"\n",
            "    },\n",
            "    {\n",
            "        \"index\": 1,\n",
            "        \"previous_hash\": \"b799dde4c6ce0686ab2e2d4a6355a33af6abe276d309bbb740bd79de3695853b\",\n",
            "        \"timestamp\": 1719854183,\n",
            "        \"data\": \"Block 1 Data\",\n",
            "        \"hash\": \"c93e6374d931cf51a65ef9ede6876af01ff3a01a89093c1474da855a3bb9c1d2\"\n",
            "    },\n",
            "    {\n",
            "        \"index\": 2,\n",
            "        \"previous_hash\": \"c93e6374d931cf51a65ef9ede6876af01ff3a01a89093c1474da855a3bb9c1d2\",\n",
            "        \"timestamp\": 1719854183,\n",
            "        \"data\": \"Block 2 Data\",\n",
            "        \"hash\": \"90a4188a7fc937f1a8f59283469090058bf8c3169be670df8c0e0fa5a35ab168\"\n",
            "    },\n",
            "    {\n",
            "        \"index\": 3,\n",
            "        \"previous_hash\": \"90a4188a7fc937f1a8f59283469090058bf8c3169be670df8c0e0fa5a35ab168\",\n",
            "        \"timestamp\": 1719854195,\n",
            "        \"data\": \"\\ndef contract_function(storage):\\n    storage['counter'] = storage.get('counter', 0) + 1\\n    print(f\\\"Counter value: {storage['counter']}\\\")\\ncontract_function(storage)\\n\",\n",
            "        \"hash\": \"0ab93c15e23019f319660b1717b9dad7cfcd5b6dc9d919214e54daa25a2ad761\"\n",
            "    },\n",
            "    {\n",
            "        \"index\": 4,\n",
            "        \"previous_hash\": \"0ab93c15e23019f319660b1717b9dad7cfcd5b6dc9d919214e54daa25a2ad761\",\n",
            "        \"timestamp\": 1719854222,\n",
            "        \"data\": \"{\\\"type\\\": \\\"mint\\\", \\\"owner\\\": \\\"0xfeedfacefeedfacefeedfacefeedfacefeedface\\\", \\\"tokenId\\\": \\\"8b77fa5c5a4ba9119bd9258672bc9f59884b884ff9f187002d635b1d1a773aa8\\\", \\\"metadata\\\": \\\"https://example2.co.id\\\"}\",\n",
            "        \"hash\": \"444a9c5c8753f82d72a29148f97a97dd8f1330a91baad8d44e33bb5bab7c1fb5\"\n",
            "    },\n",
            "    {\n",
            "        \"index\": 5,\n",
            "        \"previous_hash\": \"444a9c5c8753f82d72a29148f97a97dd8f1330a91baad8d44e33bb5bab7c1fb5\",\n",
            "        \"timestamp\": 1719854231,\n",
            "        \"data\": \"{\\\"type\\\": \\\"transfer\\\", \\\"from\\\": \\\"0xfeedfacefeedfacefeedfacefeedfacefeedface\\\", \\\"to\\\": \\\"0xbadc0ffeebadc0ffeebadc0ffeebadc0ffeebadc\\\", \\\"tokenId\\\": \\\"8b77fa5c5a4ba9119bd9258672bc9f59884b884ff9f187002d635b1d1a773aa8\\\"}\",\n",
            "        \"hash\": \"a9991e837578ea895e53f3dd9be77b68040607d9e802b57f16ee08c22b8b6e15\"\n",
            "    },\n",
            "    {\n",
            "        \"index\": 6,\n",
            "        \"previous_hash\": \"a9991e837578ea895e53f3dd9be77b68040607d9e802b57f16ee08c22b8b6e15\",\n",
            "        \"timestamp\": 1719854244,\n",
            "        \"data\": \"{\\\"type\\\": \\\"mint_fungible\\\", \\\"to\\\": \\\"0xabc\\\", \\\"amount\\\": 1000}\",\n",
            "        \"hash\": \"8a3deb5e558a3b902c763114edab685a180f8c494f889e56d0e34ebef8cded99\"\n",
            "    },\n",
            "    {\n",
            "        \"index\": 7,\n",
            "        \"previous_hash\": \"8a3deb5e558a3b902c763114edab685a180f8c494f889e56d0e34ebef8cded99\",\n",
            "        \"timestamp\": 1719854244,\n",
            "        \"data\": \"{\\\"type\\\": \\\"mint_fungible\\\", \\\"to\\\": \\\"0xdef\\\", \\\"amount\\\": 500}\",\n",
            "        \"hash\": \"abff7a8e42c479709d2d799a18a4607fba1956b69508e3dcf45304ad00ffbe80\"\n",
            "    },\n",
            "    {\n",
            "        \"index\": 8,\n",
            "        \"previous_hash\": \"abff7a8e42c479709d2d799a18a4607fba1956b69508e3dcf45304ad00ffbe80\",\n",
            "        \"timestamp\": 1719854262,\n",
            "        \"data\": \"{\\\"type\\\": \\\"transfer_fungible\\\", \\\"from\\\": \\\"0xabc\\\", \\\"to\\\": \\\"0xdef\\\", \\\"amount\\\": 200}\",\n",
            "        \"hash\": \"be1b041ab1b3c60f48b566a390d1d3d9a8a8a68f4493e38d2bfc6ca5b03031a1\"\n",
            "    },\n",
            "    {\n",
            "        \"index\": 9,\n",
            "        \"previous_hash\": \"be1b041ab1b3c60f48b566a390d1d3d9a8a8a68f4493e38d2bfc6ca5b03031a1\",\n",
            "        \"timestamp\": 1719854309,\n",
            "        \"data\": \"Block 1 Data\",\n",
            "        \"hash\": \"cd4af4cd31940a0e6896ad24c567d96dc8d1f6e830e6d0b5047b3ba5fcd69857\"\n",
            "    },\n",
            "    {\n",
            "        \"index\": 10,\n",
            "        \"previous_hash\": \"cd4af4cd31940a0e6896ad24c567d96dc8d1f6e830e6d0b5047b3ba5fcd69857\",\n",
            "        \"timestamp\": 1719854309,\n",
            "        \"data\": \"Block 2 Data\",\n",
            "        \"hash\": \"15b4b2b3b63378ce8f39b74c373be01eaa4f3f535f9db16ea0633628f195d35b\"\n",
            "    },\n",
            "    {\n",
            "        \"index\": 11,\n",
            "        \"previous_hash\": \"15b4b2b3b63378ce8f39b74c373be01eaa4f3f535f9db16ea0633628f195d35b\",\n",
            "        \"timestamp\": 1719854309,\n",
            "        \"data\": \"Block 1 Data\",\n",
            "        \"hash\": \"33c0e412973994cdf75ac9a2a1697c8e6d8036c2adbf7cdae128476c67b8c7dd\"\n",
            "    },\n",
            "    {\n",
            "        \"index\": 12,\n",
            "        \"previous_hash\": \"33c0e412973994cdf75ac9a2a1697c8e6d8036c2adbf7cdae128476c67b8c7dd\",\n",
            "        \"timestamp\": 1719854320,\n",
            "        \"data\": \"Block 2 Data\",\n",
            "        \"hash\": \"4312faa2df49f95a700fed0139b68ce5d7fc2bf2f9d5eb8d91d7f51080b780ba\"\n",
            "    },\n",
            "    {\n",
            "        \"index\": 13,\n",
            "        \"previous_hash\": \"4312faa2df49f95a700fed0139b68ce5d7fc2bf2f9d5eb8d91d7f51080b780ba\",\n",
            "        \"timestamp\": 1719855349,\n",
            "        \"data\": \"Block 1 Data\",\n",
            "        \"hash\": \"b3a79b0e3e96023cc340bb0e6388e1ea774e85495b41f61e154783d25621ead5\"\n",
            "    },\n",
            "    {\n",
            "        \"index\": 14,\n",
            "        \"previous_hash\": \"b3a79b0e3e96023cc340bb0e6388e1ea774e85495b41f61e154783d25621ead5\",\n",
            "        \"timestamp\": 1719855349,\n",
            "        \"data\": \"Block 2 Data\",\n",
            "        \"hash\": \"abb5dbe517c14e822e999b4295007f37082e2c787965af1895e3e94a0c279636\"\n",
            "    },\n",
            "    {\n",
            "        \"index\": 15,\n",
            "        \"previous_hash\": \"abb5dbe517c14e822e999b4295007f37082e2c787965af1895e3e94a0c279636\",\n",
            "        \"timestamp\": 1719855355,\n",
            "        \"data\": \"{\\\"type\\\": \\\"create_grant\\\", \\\"grant_id\\\": \\\"grant1\\\", \\\"proposer\\\": \\\"Alice\\\", \\\"amount\\\": 100, \\\"description\\\": \\\"Research on sustainable blockchain solutions\\\"}\",\n",
            "        \"hash\": \"022c69f56849c375ba769ae025bebdc602f69969e1b6d0fe61a14543f45f8540\"\n",
            "    },\n",
            "    {\n",
            "        \"index\": 16,\n",
            "        \"previous_hash\": \"022c69f56849c375ba769ae025bebdc602f69969e1b6d0fe61a14543f45f8540\",\n",
            "        \"timestamp\": 1719855371,\n",
            "        \"data\": \"{\\\"type\\\": \\\"vote_grant\\\", \\\"grant_id\\\": \\\"grant1\\\", \\\"stakeholder\\\": \\\"Bob\\\", \\\"vote\\\": \\\"yes\\\"}\",\n",
            "        \"hash\": \"5c345d62549b5f301a4f09bb9cfd3cbdcf4024d53b488265c220cf57954ef361\"\n",
            "    },\n",
            "    {\n",
            "        \"index\": 17,\n",
            "        \"previous_hash\": \"5c345d62549b5f301a4f09bb9cfd3cbdcf4024d53b488265c220cf57954ef361\",\n",
            "        \"timestamp\": 1719855371,\n",
            "        \"data\": \"{\\\"type\\\": \\\"vote_grant\\\", \\\"grant_id\\\": \\\"grant1\\\", \\\"stakeholder\\\": \\\"Charlie\\\", \\\"vote\\\": \\\"no\\\"}\",\n",
            "        \"hash\": \"c5984032fad66347f88baac695012827d7a48004df6d55237c199900e869ba17\"\n",
            "    },\n",
            "    {\n",
            "        \"index\": 18,\n",
            "        \"previous_hash\": \"c5984032fad66347f88baac695012827d7a48004df6d55237c199900e869ba17\",\n",
            "        \"timestamp\": 1719855586,\n",
            "        \"data\": \"Block 1 Data\",\n",
            "        \"hash\": \"3572a1a6e11f1ebbc057019e685495947f34d7dffd1bad6e565846be2d1928e7\"\n",
            "    },\n",
            "    {\n",
            "        \"index\": 19,\n",
            "        \"previous_hash\": \"3572a1a6e11f1ebbc057019e685495947f34d7dffd1bad6e565846be2d1928e7\",\n",
            "        \"timestamp\": 1719855586,\n",
            "        \"data\": \"Block 2 Data\",\n",
            "        \"hash\": \"0ecfd02d5dbb4144fb68c881aaba42870e725cd86b12cc4e60bac833b36f5362\"\n",
            "    },\n",
            "    {\n",
            "        \"index\": 20,\n",
            "        \"previous_hash\": \"0ecfd02d5dbb4144fb68c881aaba42870e725cd86b12cc4e60bac833b36f5362\",\n",
            "        \"timestamp\": 1719855594,\n",
            "        \"data\": \"{\\\"type\\\": \\\"create_grant\\\", \\\"grant_id\\\": \\\"grant1\\\", \\\"proposer\\\": \\\"Alice\\\", \\\"amount\\\": 100, \\\"description\\\": \\\"Research on sustainable blockchain solutions\\\"}\",\n",
            "        \"hash\": \"ade7c8b417925669fe0101075f0ed6cf35ccb71a89ed4b32e293588060b8d3ee\"\n",
            "    },\n",
            "    {\n",
            "        \"index\": 21,\n",
            "        \"previous_hash\": \"ade7c8b417925669fe0101075f0ed6cf35ccb71a89ed4b32e293588060b8d3ee\",\n",
            "        \"timestamp\": 1719855601,\n",
            "        \"data\": \"{\\\"type\\\": \\\"vote_grant\\\", \\\"grant_id\\\": \\\"grant1\\\", \\\"stakeholder\\\": \\\"Bob\\\", \\\"vote\\\": \\\"yes\\\"}\",\n",
            "        \"hash\": \"9427c0bf612360a4d33b2f1a1a09ee8a70f49b471a05e7c630c8d790b7a5489e\"\n",
            "    },\n",
            "    {\n",
            "        \"index\": 22,\n",
            "        \"previous_hash\": \"9427c0bf612360a4d33b2f1a1a09ee8a70f49b471a05e7c630c8d790b7a5489e\",\n",
            "        \"timestamp\": 1719855601,\n",
            "        \"data\": \"{\\\"type\\\": \\\"vote_grant\\\", \\\"grant_id\\\": \\\"grant1\\\", \\\"stakeholder\\\": \\\"Charlie\\\", \\\"vote\\\": \\\"no\\\"}\",\n",
            "        \"hash\": \"497dbfaa6ab7069b91f95c71085af40cdab6d64f2639b65e64563878fa6ed27a\"\n",
            "    },\n",
            "    {\n",
            "        \"index\": 23,\n",
            "        \"previous_hash\": \"497dbfaa6ab7069b91f95c71085af40cdab6d64f2639b65e64563878fa6ed27a\",\n",
            "        \"timestamp\": 1719855642,\n",
            "        \"data\": \"{\\\"type\\\": \\\"vote_grant\\\", \\\"grant_id\\\": \\\"grant1\\\", \\\"stakeholder\\\": \\\"Bob\\\", \\\"vote\\\": \\\"yes\\\"}\",\n",
            "        \"hash\": \"d2af462bc96235b98a2bb63461a34a36a7b1a911547079385d15d5f298651293\"\n",
            "    },\n",
            "    {\n",
            "        \"index\": 24,\n",
            "        \"previous_hash\": \"d2af462bc96235b98a2bb63461a34a36a7b1a911547079385d15d5f298651293\",\n",
            "        \"timestamp\": 1719855642,\n",
            "        \"data\": \"{\\\"type\\\": \\\"vote_grant\\\", \\\"grant_id\\\": \\\"grant1\\\", \\\"stakeholder\\\": \\\"Charlie\\\", \\\"vote\\\": \\\"no\\\"}\",\n",
            "        \"hash\": \"f239e8fb8253baeb39bcae09f737341682c44ab986df142f1b4467ffef320e82\"\n",
            "    },\n",
            "    {\n",
            "        \"index\": 25,\n",
            "        \"previous_hash\": \"f239e8fb8253baeb39bcae09f737341682c44ab986df142f1b4467ffef320e82\",\n",
            "        \"timestamp\": 1719855642,\n",
            "        \"data\": \"{\\\"type\\\": \\\"vote_grant\\\", \\\"grant_id\\\": \\\"grant1\\\", \\\"stakeholder\\\": \\\"Hani\\\", \\\"vote\\\": \\\"yes\\\"}\",\n",
            "        \"hash\": \"d55b4c0e98e5e20d4f57cae2e33b884c0537f366d8efbd153b20f844d71439b8\"\n",
            "    },\n",
            "    {\n",
            "        \"index\": 26,\n",
            "        \"previous_hash\": \"d55b4c0e98e5e20d4f57cae2e33b884c0537f366d8efbd153b20f844d71439b8\",\n",
            "        \"timestamp\": 1719855899,\n",
            "        \"data\": \"Block 1 Data\",\n",
            "        \"hash\": \"32b5278d7641ed3b366443462377810eb6691541d872328b2ce0b2f27d1c61bd\"\n",
            "    },\n",
            "    {\n",
            "        \"index\": 27,\n",
            "        \"previous_hash\": \"32b5278d7641ed3b366443462377810eb6691541d872328b2ce0b2f27d1c61bd\",\n",
            "        \"timestamp\": 1719855899,\n",
            "        \"data\": \"Block 2 Data\",\n",
            "        \"hash\": \"73760d8e2dcc09343a9d33983550ffc6335ea4fe9546e204c965bbae81116c91\"\n",
            "    },\n",
            "    {\n",
            "        \"index\": 28,\n",
            "        \"previous_hash\": \"73760d8e2dcc09343a9d33983550ffc6335ea4fe9546e204c965bbae81116c91\",\n",
            "        \"timestamp\": 1719855904,\n",
            "        \"data\": \"{\\\"type\\\": \\\"create_grant\\\", \\\"grant_id\\\": \\\"grant1\\\", \\\"proposer\\\": \\\"Alice\\\", \\\"amount\\\": 100, \\\"description\\\": \\\"Research on sustainable blockchain solutions\\\"}\",\n",
            "        \"hash\": \"32bf0f655ad0a1c1654de03d8ea3dc7c0e740bdf281cb65effa399219dd85a9f\"\n",
            "    },\n",
            "    {\n",
            "        \"index\": 29,\n",
            "        \"previous_hash\": \"32bf0f655ad0a1c1654de03d8ea3dc7c0e740bdf281cb65effa399219dd85a9f\",\n",
            "        \"timestamp\": 1719855913,\n",
            "        \"data\": \"{\\\"type\\\": \\\"vote_grant\\\", \\\"grant_id\\\": \\\"grant1\\\", \\\"stakeholder\\\": \\\"Bob\\\", \\\"vote\\\": \\\"yes\\\"}\",\n",
            "        \"hash\": \"ba85bb8d8d46935b08803a4f6e235b248384c6715c8958958f8cdd746f6cca2f\"\n",
            "    },\n",
            "    {\n",
            "        \"index\": 30,\n",
            "        \"previous_hash\": \"ba85bb8d8d46935b08803a4f6e235b248384c6715c8958958f8cdd746f6cca2f\",\n",
            "        \"timestamp\": 1719855913,\n",
            "        \"data\": \"{\\\"type\\\": \\\"vote_grant\\\", \\\"grant_id\\\": \\\"grant1\\\", \\\"stakeholder\\\": \\\"Charlie\\\", \\\"vote\\\": \\\"no\\\"}\",\n",
            "        \"hash\": \"d4b5dc95f1a1c4cbf8be25e0e134436b8f842a835b9538dc049cf79bd7065866\"\n",
            "    },\n",
            "    {\n",
            "        \"index\": 31,\n",
            "        \"previous_hash\": \"d4b5dc95f1a1c4cbf8be25e0e134436b8f842a835b9538dc049cf79bd7065866\",\n",
            "        \"timestamp\": 1719855913,\n",
            "        \"data\": \"{\\\"type\\\": \\\"vote_grant\\\", \\\"grant_id\\\": \\\"grant1\\\", \\\"stakeholder\\\": \\\"Hani\\\", \\\"vote\\\": \\\"yes\\\"}\",\n",
            "        \"hash\": \"bcca64be71f668f5530f8646ab7bf4fb66b4016eca6a42abf2c19724ca12dfe1\"\n",
            "    },\n",
            "    {\n",
            "        \"index\": 32,\n",
            "        \"previous_hash\": \"bcca64be71f668f5530f8646ab7bf4fb66b4016eca6a42abf2c19724ca12dfe1\",\n",
            "        \"timestamp\": 1719855918,\n",
            "        \"data\": \"{\\\"type\\\": \\\"reward_player\\\", \\\"player\\\": \\\"Alice\\\", \\\"amount\\\": 100}\",\n",
            "        \"hash\": \"fea8fe0ded8524f6e6a38ca22cb4d1033117635f3c469abdf0966d637763dfee\"\n",
            "    },\n",
            "    {\n",
            "        \"index\": 33,\n",
            "        \"previous_hash\": \"fea8fe0ded8524f6e6a38ca22cb4d1033117635f3c469abdf0966d637763dfee\",\n",
            "        \"timestamp\": 1719855918,\n",
            "        \"data\": \"{\\\"type\\\": \\\"execute_grant\\\", \\\"grant_id\\\": \\\"grant1\\\"}\",\n",
            "        \"hash\": \"7b6953533ff86a9fbc85114ca76c994ebf03ed34e8838024256508280c3cbe60\"\n",
            "    }\n",
            "]\n"
          ]
        }
      ]
    }
  ]
}