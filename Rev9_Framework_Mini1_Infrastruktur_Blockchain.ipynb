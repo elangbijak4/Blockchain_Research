{
  "nbformat": 4,
  "nbformat_minor": 0,
  "metadata": {
    "colab": {
      "provenance": [],
      "authorship_tag": "ABX9TyNoLKcrC4fra0H5jNftUgaS",
      "include_colab_link": true
    },
    "kernelspec": {
      "name": "python3",
      "display_name": "Python 3"
    },
    "language_info": {
      "name": "python"
    }
  },
  "cells": [
    {
      "cell_type": "markdown",
      "metadata": {
        "id": "view-in-github",
        "colab_type": "text"
      },
      "source": [
        "<a href=\"https://colab.research.google.com/github/elangbijak4/Blockchain_Research/blob/main/Rev9_Framework_Mini1_Infrastruktur_Blockchain.ipynb\" target=\"_parent\"><img src=\"https://colab.research.google.com/assets/colab-badge.svg\" alt=\"Open In Colab\"/></a>"
      ]
    },
    {
      "cell_type": "markdown",
      "source": [
        "### Tool Dasar"
      ],
      "metadata": {
        "id": "36Lj_lmtujbc"
      }
    },
    {
      "cell_type": "code",
      "execution_count": 1,
      "metadata": {
        "id": "88Wq5HOZNhCE"
      },
      "outputs": [],
      "source": [
        "import hashlib\n",
        "import time\n",
        "import json\n",
        "import random\n",
        "import os"
      ]
    },
    {
      "cell_type": "markdown",
      "source": [
        "### Class Block"
      ],
      "metadata": {
        "id": "S_K0uBZOufpn"
      }
    },
    {
      "cell_type": "code",
      "source": [
        "class Block:\n",
        "    def __init__(self, index, previous_hash, timestamp, data, hash):\n",
        "        self.index = index\n",
        "        self.previous_hash = previous_hash\n",
        "        self.timestamp = timestamp\n",
        "        self.data = data\n",
        "        self.hash = hash\n",
        "\n",
        "    @staticmethod\n",
        "    def calculate_hash(index, previous_hash, timestamp, data):\n",
        "        value = f\"{index}{previous_hash}{timestamp}{data}\"\n",
        "        return hashlib.sha256(value.encode('utf-8')).hexdigest()\n",
        "\n",
        "    @staticmethod\n",
        "    def create_genesis_block():\n",
        "        return Block(0, \"0\", int(time.time()), \"Genesis Block\", Block.calculate_hash(0, \"0\", int(time.time()), \"Genesis Block\"))\n",
        "\n",
        "    def to_dict(self):\n",
        "        return {\n",
        "            \"index\": self.index,\n",
        "            \"previous_hash\": self.previous_hash,\n",
        "            \"timestamp\": self.timestamp,\n",
        "            \"data\": self.data,\n",
        "            \"hash\": self.hash\n",
        "        }"
      ],
      "metadata": {
        "id": "2kgLwp6xNlql"
      },
      "execution_count": 2,
      "outputs": []
    },
    {
      "cell_type": "markdown",
      "source": [
        "### Protokol Proof of Elapsed Time"
      ],
      "metadata": {
        "id": "tymqkEQRcR1D"
      }
    },
    {
      "cell_type": "code",
      "source": [
        "class ProofOfElapsedTime:\n",
        "    def __init__(self):\n",
        "        self.wait_times = {}\n",
        "\n",
        "    def wait_for_block(self, address):\n",
        "        wait_time = random.uniform(0, 10)  # Simulating wait time\n",
        "        self.wait_times[address] = wait_time\n",
        "        time.sleep(wait_time)\n",
        "\n",
        "    def select_validator(self):\n",
        "        return min(self.wait_times, key=self.wait_times.get)"
      ],
      "metadata": {
        "id": "-QA7K24_S0tu"
      },
      "execution_count": 3,
      "outputs": []
    },
    {
      "cell_type": "markdown",
      "source": [
        "### Protokol Proof of Burn"
      ],
      "metadata": {
        "id": "bOPEzmYRcNdU"
      }
    },
    {
      "cell_type": "code",
      "source": [
        "class ProofOfBurn:\n",
        "    def __init__(self):\n",
        "        self.burned_coins = {}  # To keep track of burned coins by address\n",
        "\n",
        "    def burn_coins(self, address, amount):\n",
        "        if address in self.burned_coins:\n",
        "            self.burned_coins[address] += amount\n",
        "        else:\n",
        "            self.burned_coins[address] = amount\n",
        "\n",
        "    def select_validator(self):\n",
        "        total_burned = sum(self.burned_coins.values())\n",
        "        pick = random.uniform(0, total_burned)\n",
        "        current = 0\n",
        "        for address, burned in self.burned_coins.items():\n",
        "            current += burned\n",
        "            if current > pick:\n",
        "                return address"
      ],
      "metadata": {
        "id": "qJIUPKUdSw0p"
      },
      "execution_count": 4,
      "outputs": []
    },
    {
      "cell_type": "markdown",
      "source": [
        "### Protokol Proof Of Work"
      ],
      "metadata": {
        "id": "xdQ_ahMEuWrE"
      }
    },
    {
      "cell_type": "code",
      "source": [
        "class ProofOfWork:\n",
        "    def __init__(self, difficulty=2):\n",
        "        self.difficulty = difficulty\n",
        "\n",
        "    def mine_block(self, block):\n",
        "        while block.hash[:self.difficulty] != \"0\" * self.difficulty:\n",
        "            block.nonce += 1\n",
        "        return block\n",
        "\n",
        "    def is_valid_block(self, block):\n",
        "        return block.hash[:self.difficulty] == \"0\" * self.difficulty\n",
        "\n",
        "    def get_reward(self, address):\n",
        "        return 50  # Simulating reward for mining a block\n",
        "\n",
        "    def store_smart_contract(self, blockchain, code):\n",
        "        latest_block = blockchain.get_latest_block()\n",
        "        index = latest_block.index + 1\n",
        "        timestamp = int(time.time())\n",
        "        previous_hash = latest_block.hash\n",
        "        smart_contract = SmartContract(code)  # Assuming SmartContract is defined\n",
        "        new_block = Block(index, previous_hash, timestamp, code, \"\")\n",
        "\n",
        "        # In Proof of Work, we don't have validators, so we just indicate the system\n",
        "        print(f\"Smart Contract Block #{index} created by the system using PoW\")\n",
        "\n",
        "        new_block.hash = Block.calculate_hash(new_block.index, new_block.previous_hash, new_block.timestamp, new_block.data)\n",
        "        blockchain.chain.append(new_block)\n",
        "        block_hash = new_block.hash\n",
        "        blockchain.smart_contracts[block_hash] = smart_contract\n",
        "        return block_hash"
      ],
      "metadata": {
        "id": "Ou5dSyjrtZdK"
      },
      "execution_count": 5,
      "outputs": []
    },
    {
      "cell_type": "markdown",
      "source": [
        "### Protokol Proof of ByzantineFaultTolerance"
      ],
      "metadata": {
        "id": "j42dxk4wcD9w"
      }
    },
    {
      "cell_type": "code",
      "source": [
        "class ByzantineFaultTolerance:\n",
        "    def __init__(self, validators, faulty_validators=None):\n",
        "        self.validators = validators\n",
        "        self.faulty_validators = faulty_validators if faulty_validators else []\n",
        "        self.leader = None\n",
        "\n",
        "    def select_leader(self):\n",
        "        non_faulty_validators = [v for v in self.validators if v not in self.faulty_validators]\n",
        "        self.leader = random.choice(non_faulty_validators)\n",
        "        return self.leader\n",
        "\n",
        "    def select_validator(self, chain_length):\n",
        "        non_faulty_validators = [v for v in self.validators if v not in self.faulty_validators]\n",
        "        return random.choice(non_faulty_validators)\n",
        "\n",
        "    def validate_block(self, block, chain):\n",
        "        previous_block = chain[block.index - 1]\n",
        "        if block.previous_hash != previous_block.hash:\n",
        "            return False\n",
        "        if block.hash != block.calculate_hash():\n",
        "            return False\n",
        "        return True\n",
        "\n",
        "    def add_faulty_validator(self, validator):\n",
        "        if validator not in self.faulty_validators:\n",
        "            self.faulty_validators.append(validator)\n",
        "\n",
        "    def remove_faulty_validator(self, validator):\n",
        "        if validator in self.faulty_validators:\n",
        "            self.faulty_validators.remove(validator)\n",
        "\n",
        "    def reach_consensus(self, block, chain):\n",
        "        votes = {validator: self.validate_block(block, chain) for validator in self.validators if validator not in self.faulty_validators}\n",
        "        positive_votes = sum(votes.values())\n",
        "        if positive_votes > len(self.validators) * 2 / 3:\n",
        "            return True\n",
        "        return False\n",
        "\n",
        "    def calculate_reward(self, validator):\n",
        "        # For simplicity, we set a fixed reward. In practice, it might depend on various factors.\n",
        "        return 10"
      ],
      "metadata": {
        "id": "ka4DtRLdY9XH"
      },
      "execution_count": 6,
      "outputs": []
    },
    {
      "cell_type": "markdown",
      "source": [
        "### Protokol Proof of Authority"
      ],
      "metadata": {
        "id": "tGBC4vwyfyQ8"
      }
    },
    {
      "cell_type": "code",
      "source": [
        "class ProofOfAuthority:\n",
        "    def __init__(self, authorities):\n",
        "        self.authorities = authorities\n",
        "\n",
        "    def select_validator(self, chain_length):\n",
        "        return random.choice(self.authorities)\n",
        "\n",
        "    def validate_block(self, block, chain):\n",
        "        previous_block = chain[block.index - 1]\n",
        "        if block.previous_hash != previous_block.hash:\n",
        "            return False\n",
        "        if block.hash != block.calculate_hash():\n",
        "            return False\n",
        "        return True\n",
        "\n",
        "    def reach_consensus(self, block, chain):\n",
        "        return self.validate_block(block, chain)\n",
        "\n",
        "    def calculate_reward(self, validator):\n",
        "        # For simplicity, we set a fixed reward. In practice, it might depend on various factors.\n",
        "        return 10"
      ],
      "metadata": {
        "id": "Fw-VMsCgfvps"
      },
      "execution_count": 7,
      "outputs": []
    },
    {
      "cell_type": "markdown",
      "source": [
        "### Protokol Proof of Stake"
      ],
      "metadata": {
        "id": "_Dp5Mq9qcZJH"
      }
    },
    {
      "cell_type": "code",
      "source": [
        "class ProofOfStake:\n",
        "    def __init__(self):\n",
        "        self.stakeholders = {}  # To keep track of stakeholder's stakes\n",
        "\n",
        "    def add_stakeholder(self, address, stake):\n",
        "        if address in self.stakeholders:\n",
        "            self.stakeholders[address] += stake\n",
        "        else:\n",
        "            self.stakeholders[address] = stake\n",
        "\n",
        "    def select_validator(self):\n",
        "        total_stake = sum(self.stakeholders.values())\n",
        "        pick = random.uniform(0, total_stake)\n",
        "        current = 0\n",
        "        for address, stake in self.stakeholders.items():\n",
        "            current += stake\n",
        "            if current > pick:\n",
        "                return address"
      ],
      "metadata": {
        "id": "MM7pKHNXN53C"
      },
      "execution_count": 8,
      "outputs": []
    },
    {
      "cell_type": "markdown",
      "source": [
        "### Protokol Proof Of Participants"
      ],
      "metadata": {
        "id": "BwuRu5xkW8LZ"
      }
    },
    {
      "cell_type": "code",
      "source": [
        "class ProofOfParticipants:\n",
        "    def __init__(self):\n",
        "        self.participants = {}\n",
        "\n",
        "    def add_participant(self, address):\n",
        "        if address not in self.participants:\n",
        "            self.participants[address] = 0\n",
        "\n",
        "    def record_participation(self, address):\n",
        "        if address in self.participants:\n",
        "            self.participants[address] += 1\n",
        "\n",
        "    #def select_validator(self, current_block_index):\n",
        "    #    if not self.participants:\n",
        "    #        return None\n",
        "    #    return max(self.participants, key=self.participants.get)\n",
        "\n",
        "    def select_validator(self, current_block_index):\n",
        "        if not self.participants:\n",
        "            return None\n",
        "        # Simple round-robin selection based on block index\n",
        "        index = current_block_index % len(self.participants)\n",
        "        return list(self.participants.keys())[index]\n",
        "\n",
        "\n",
        "    def reset_participation(self):\n",
        "        for address in self.participants:\n",
        "            self.participants[address] = 0"
      ],
      "metadata": {
        "id": "WIgm1UNrW6Gm"
      },
      "execution_count": 9,
      "outputs": []
    },
    {
      "cell_type": "markdown",
      "source": [
        "### Class Blockchain"
      ],
      "metadata": {
        "id": "Hd09-1kwu8eP"
      }
    },
    {
      "cell_type": "code",
      "source": [
        "class Blockchain:\n",
        "    def __init__(self, consensus_protocol, filename='blockchain.json'):\n",
        "        self.filename = filename\n",
        "        self.consensus_protocol = consensus_protocol\n",
        "        self.chain = self.load_chain()\n",
        "\n",
        "    def load_chain(self):\n",
        "        if os.path.exists(self.filename):\n",
        "            with open(self.filename, 'r') as file:\n",
        "                data = json.load(file)\n",
        "                return [Block(**block) for block in data]\n",
        "        else:\n",
        "            return [Block.create_genesis_block()]\n",
        "\n",
        "    def save_chain(self):\n",
        "        with open(self.filename, 'w') as file:\n",
        "            json.dump([block.to_dict() for block in self.chain], file, indent=4)\n",
        "\n",
        "    def get_latest_block(self):\n",
        "        return self.chain[-1]\n",
        "\n",
        "    def add_block(self, data):\n",
        "        latest_block = self.get_latest_block()\n",
        "        index = latest_block.index + 1\n",
        "        timestamp = int(time.time())\n",
        "        previous_hash = latest_block.hash\n",
        "        new_block = Block(index, previous_hash, timestamp, data, \"\")\n",
        "\n",
        "        if isinstance(self.consensus_protocol, ProofOfBurn):\n",
        "            validator = self.consensus_protocol.select_validator()\n",
        "            print(f\"Block #{index} created by {validator} using PoB\")\n",
        "        if isinstance(self.consensus_protocol, ProofOfStake):\n",
        "            validator = self.consensus_protocol.select_validator()\n",
        "            print(f\"Block #{index} created by {validator} using PoS\")\n",
        "        if isinstance(self.consensus_protocol, ByzantineFaultTolerance):\n",
        "            validator = self.consensus_protocol.select_validator(len(self.chain))\n",
        "            print(f\"Block #{index} created by {validator} using BFT\")\n",
        "        if isinstance(self.consensus_protocol, ProofOfAuthority):\n",
        "            validator = self.consensus_protocol.select_validator(len(self.chain))\n",
        "            print(f\"Block #{index} created by {validator} using PoA\")\n",
        "        if isinstance(self.consensus_protocol, ProofOfParticipants):\n",
        "            validator = self.consensus_protocol.select_validator(len(self.chain))  # Pass the current block index\n",
        "            print(f\"Block #{index} created by {validator} using PoP\")\n",
        "\n",
        "        elif isinstance(self.consensus_protocol, ProofOfElapsedTime):\n",
        "            for address in self.consensus_protocol.wait_times.keys():\n",
        "                self.consensus_protocol.wait_for_block(address)\n",
        "            validator = self.consensus_protocol.select_validator()\n",
        "            print(f\"Block #{index} created by {validator} using PoET\")\n",
        "\n",
        "        new_block.hash = Block.calculate_hash(new_block.index, new_block.previous_hash, new_block.timestamp, new_block.data)\n",
        "        self.chain.append(new_block)\n",
        "        self.save_chain()\n",
        "\n",
        "    def to_json(self):\n",
        "        self.save_chain()\n",
        "        with open(self.filename, 'r') as file:\n",
        "            return file.read()"
      ],
      "metadata": {
        "id": "N0S_maVKN_zx"
      },
      "execution_count": 10,
      "outputs": []
    },
    {
      "cell_type": "markdown",
      "source": [
        "### Class Smart Contract"
      ],
      "metadata": {
        "id": "AvYUdWTpwnZ7"
      }
    },
    {
      "cell_type": "code",
      "source": [
        "class SmartContract:\n",
        "    def __init__(self, code):\n",
        "        self.code = code\n",
        "        self.storage = {}\n",
        "\n",
        "    def execute(self, blockchain, **kwargs):\n",
        "        local_context = {\n",
        "            'blockchain': blockchain,\n",
        "            'storage': self.storage\n",
        "        }\n",
        "        local_context.update(kwargs)\n",
        "        exec(self.code, {}, local_context)\n",
        "        self.storage = local_context['storage']"
      ],
      "metadata": {
        "id": "7HKPR1JiOFBM"
      },
      "execution_count": 11,
      "outputs": []
    },
    {
      "cell_type": "markdown",
      "source": [
        "### Implementasi ERC721 (Interface yang diimplementasikan memimik ERC721)"
      ],
      "metadata": {
        "id": "1biwzjHAwtXB"
      }
    },
    {
      "cell_type": "code",
      "source": [
        "class ERC721:\n",
        "    def __init__(self):\n",
        "        self.tokens = {}\n",
        "        self.token_owners = {}\n",
        "        self.token_metadata = {}\n",
        "        self._token_owner = {}  # tokenId => owner\n",
        "        self._owned_tokens = {}  # owner => list of tokenIds\n",
        "        self._token_approvals = {}  # tokenId => approved address\n",
        "        self._operator_approvals = {}  # owner => (operator => approved)\n",
        "\n",
        "    def _mint(self, to, tokenId, metadata):\n",
        "        if to in self._owned_tokens:\n",
        "            self._owned_tokens[to].append(tokenId)\n",
        "        else:\n",
        "            self._owned_tokens[to] = [tokenId]\n",
        "        self._token_owner[tokenId] = to\n",
        "        self.token_metadata[tokenId] = metadata\n",
        "\n",
        "    def _transfer(self, from_, to, tokenId):\n",
        "        self._owned_tokens[from_].remove(tokenId)\n",
        "        if to in self._owned_tokens:\n",
        "            self._owned_tokens[to].append(tokenId)\n",
        "        else:\n",
        "            self._owned_tokens[to] = [tokenId]\n",
        "        self._token_owner[tokenId] = to\n",
        "\n",
        "    def mint(self, to, metadata):\n",
        "        tokenId = hashlib.sha256(metadata.encode()).hexdigest()\n",
        "        self._mint(to, tokenId, metadata)\n",
        "        return tokenId\n",
        "\n",
        "    def transfer(self, from_, to, tokenId):\n",
        "        self._transfer(from_, to, tokenId)"
      ],
      "metadata": {
        "id": "wujp6cCaOJK4"
      },
      "execution_count": 12,
      "outputs": []
    },
    {
      "cell_type": "markdown",
      "source": [
        "### Implementasi ERC20 (Interface yang diimplementasikan memimik ERC20)"
      ],
      "metadata": {
        "id": "H9aVMcqpw6hf"
      }
    },
    {
      "cell_type": "code",
      "source": [
        "class ERC20:\n",
        "    def __init__(self):\n",
        "        self.balances = {}\n",
        "        self.total_supply = 0\n",
        "\n",
        "    def mint(self, to, amount):\n",
        "        if to in self.balances:\n",
        "            self.balances[to] += amount\n",
        "        else:\n",
        "            self.balances[to] = amount\n",
        "        self.total_supply += amount\n",
        "\n",
        "    def transfer(self, from_, to, amount):\n",
        "        if from_ not in self.balances or self.balances[from_] < amount:\n",
        "            raise ValueError(\"Insufficient balance\")\n",
        "        if to in self.balances:\n",
        "            self.balances[to] += amount\n",
        "        else:\n",
        "            self.balances[to] = amount\n",
        "        self.balances[from_] -= amount\n",
        "\n",
        "    def balance_of(self, address):\n",
        "        return self.balances.get(address, 0)"
      ],
      "metadata": {
        "id": "eRQQ6S1uOP6h"
      },
      "execution_count": 13,
      "outputs": []
    },
    {
      "cell_type": "markdown",
      "source": [
        "### Aplikasi Sistem Blockchain MyBlockchain"
      ],
      "metadata": {
        "id": "vRy-JqVixKxa"
      }
    },
    {
      "cell_type": "code",
      "source": [
        "class MyBlockchain(Blockchain):\n",
        "    def __init__(self,pos):\n",
        "        super().__init__(pos)\n",
        "        self.smart_contracts = {}\n",
        "        self.nft_contract = ERC721()\n",
        "        self.fungible_token_contract = ERC20()\n",
        "        self.pos = pos\n",
        "\n",
        "    def store_smart_contract(self, code):\n",
        "        latest_block = self.get_latest_block()\n",
        "        index = latest_block.index + 1\n",
        "        timestamp = int(time.time())\n",
        "        previous_hash = latest_block.hash\n",
        "        smart_contract = SmartContract(code)\n",
        "        new_block = Block(index, previous_hash, timestamp, code, \"\")\n",
        "        validator = self.pos.select_validator()\n",
        "        print(f\"Smart Contract Block #{index} created by {validator} using PoS\")\n",
        "        new_block.hash = Block.calculate_hash(new_block.index, new_block.previous_hash, new_block.timestamp, new_block.data)\n",
        "        self.chain.append(new_block)\n",
        "        block_hash = new_block.hash\n",
        "        self.smart_contracts[block_hash] = smart_contract\n",
        "        return block_hash\n",
        "\n",
        "    def execute_smart_contract_from_block(self, block_hash, **kwargs):\n",
        "        if block_hash in self.smart_contracts:\n",
        "            smart_contract = self.smart_contracts[block_hash]\n",
        "            smart_contract.execute(self, **kwargs)\n",
        "        else:\n",
        "            print(\"Smart contract not found in blockchain\")\n",
        "\n",
        "    def mint_nft(self, owner, metadata):\n",
        "        tokenId = self.nft_contract.mint(owner, metadata)\n",
        "        data = json.dumps({\n",
        "            \"type\": \"mint\",\n",
        "            \"owner\": owner,\n",
        "            \"tokenId\": tokenId,\n",
        "            \"metadata\": metadata\n",
        "        })\n",
        "        self.add_block(data)\n",
        "        return self.get_latest_block().hash\n",
        "\n",
        "    def transfer_nft(self, from_, to, tokenId):\n",
        "        self.nft_contract.transfer(from_, to, tokenId)\n",
        "        data = json.dumps({\n",
        "            \"type\": \"transfer\",\n",
        "            \"from\": from_,\n",
        "            \"to\": to,\n",
        "            \"tokenId\": tokenId\n",
        "        })\n",
        "        self.add_block(data)\n",
        "        return self.get_latest_block().hash\n",
        "\n",
        "    def mint_fungible_token(self, to, amount):\n",
        "        self.fungible_token_contract.mint(to, amount)\n",
        "        data = json.dumps({\n",
        "            \"type\": \"mint_fungible\",\n",
        "            \"to\": to,\n",
        "            \"amount\": amount\n",
        "        })\n",
        "        self.add_block(data)\n",
        "        return self.get_latest_block().hash\n",
        "\n",
        "    def transfer_fungible_token(self, from_, to, amount):\n",
        "        self.fungible_token_contract.transfer(from_, to, amount)\n",
        "        data = json.dumps({\n",
        "            \"type\": \"transfer_fungible\",\n",
        "            \"from\": from_,\n",
        "            \"to\": to,\n",
        "            \"amount\": amount\n",
        "        })\n",
        "        self.add_block(data)\n",
        "        return self.get_latest_block().hash"
      ],
      "metadata": {
        "id": "WL99gI7mOUAo"
      },
      "execution_count": 14,
      "outputs": []
    },
    {
      "cell_type": "markdown",
      "source": [
        "### Demo Proof Of Work"
      ],
      "metadata": {
        "id": "zJYYdJIox0xs"
      }
    },
    {
      "cell_type": "code",
      "source": [
        "# Create a Proof of Work consensus protocol\n",
        "pow_protocol = ProofOfWork(difficulty=2)\n",
        "\n",
        "# Create a MyBlockchain instance using the Proof of Work consensus protocol\n",
        "blockchain = MyBlockchain(pow_protocol)\n",
        "\n",
        "# Add some blocks to the blockchain\n",
        "blockchain.add_block(\"Block 1 data\")\n",
        "blockchain.add_block(\"Block 2 data\")\n",
        "blockchain.add_block(\"Block 3 data\")\n",
        "\n",
        "# Print the blockchain\n",
        "print(blockchain.chain)\n",
        "print(blockchain.to_json())"
      ],
      "metadata": {
        "id": "w6DKMsyFu4Xs",
        "outputId": "d7235f21-7f2b-4359-c012-92d554a3446b",
        "colab": {
          "base_uri": "https://localhost:8080/"
        },
        "collapsed": true
      },
      "execution_count": 15,
      "outputs": [
        {
          "output_type": "stream",
          "name": "stdout",
          "text": [
            "[<__main__.Block object at 0x7e967d659480>, <__main__.Block object at 0x7e967d659ab0>, <__main__.Block object at 0x7e967d6594b0>, <__main__.Block object at 0x7e967d65b0d0>]\n",
            "[\n",
            "    {\n",
            "        \"index\": 0,\n",
            "        \"previous_hash\": \"0\",\n",
            "        \"timestamp\": 1721198153,\n",
            "        \"data\": \"Genesis Block\",\n",
            "        \"hash\": \"febe648ded6e5230405553b9a63b02c23a0629c231988682529bc9104601eca0\"\n",
            "    },\n",
            "    {\n",
            "        \"index\": 1,\n",
            "        \"previous_hash\": \"febe648ded6e5230405553b9a63b02c23a0629c231988682529bc9104601eca0\",\n",
            "        \"timestamp\": 1721198153,\n",
            "        \"data\": \"Block 1 data\",\n",
            "        \"hash\": \"75c7dfeb1729699bf810ec7b48bb578d9cc87fae33c45fef604e063738501816\"\n",
            "    },\n",
            "    {\n",
            "        \"index\": 2,\n",
            "        \"previous_hash\": \"75c7dfeb1729699bf810ec7b48bb578d9cc87fae33c45fef604e063738501816\",\n",
            "        \"timestamp\": 1721198153,\n",
            "        \"data\": \"Block 2 data\",\n",
            "        \"hash\": \"47b272f4ae590dc89331bc74353cab3de39b0d870e6cea012dbaa65b5ce2e591\"\n",
            "    },\n",
            "    {\n",
            "        \"index\": 3,\n",
            "        \"previous_hash\": \"47b272f4ae590dc89331bc74353cab3de39b0d870e6cea012dbaa65b5ce2e591\",\n",
            "        \"timestamp\": 1721198153,\n",
            "        \"data\": \"Block 3 data\",\n",
            "        \"hash\": \"e1a1ddcb2a50bc977108c0c3267023b717c37377428e822840ec22689936aee5\"\n",
            "    }\n",
            "]\n"
          ]
        }
      ]
    },
    {
      "cell_type": "code",
      "source": [
        "# Create a smart contract\n",
        "code = \"\"\"\n",
        "def transfer(from_, to, amount):\n",
        "    if from_ not in balances or balances[from_] < amount:\n",
        "        raise ValueError(\"Insufficient balance\")\n",
        "    if to in balances:\n",
        "        balances[to] += amount\n",
        "    else:\n",
        "        balances[to] = amount\n",
        "    balances[from_] -= amount\n",
        "\"\"\"\n",
        "\n",
        "# Store the smart contract\n",
        "block_hash = pow_protocol.store_smart_contract(blockchain, code) # Call the method on pow_protocol"
      ],
      "metadata": {
        "id": "tFYfwGjxyNAk",
        "outputId": "d30b7310-b28a-498d-8d20-b803b7dc6809",
        "colab": {
          "base_uri": "https://localhost:8080/"
        }
      },
      "execution_count": 55,
      "outputs": [
        {
          "output_type": "stream",
          "name": "stdout",
          "text": [
            "Smart Contract Block #24 created by the system using PoW\n"
          ]
        }
      ]
    },
    {
      "cell_type": "code",
      "source": [
        "# Execute the smart contract\n",
        "blockchain.execute_smart_contract_from_block(block_hash, from_=\"Alice\", to=\"Bob\", amount=100)"
      ],
      "metadata": {
        "id": "Qv8G7cq-1PUi"
      },
      "execution_count": 56,
      "outputs": []
    },
    {
      "cell_type": "code",
      "source": [
        "# Print the balances\n",
        "print(blockchain.fungible_token_contract.balances)"
      ],
      "metadata": {
        "id": "Mlb0iwtQ1R0N",
        "outputId": "cb08193e-8a1a-49f9-8301-9186fbf78e93",
        "colab": {
          "base_uri": "https://localhost:8080/"
        }
      },
      "execution_count": 57,
      "outputs": [
        {
          "output_type": "stream",
          "name": "stdout",
          "text": [
            "{}\n"
          ]
        }
      ]
    },
    {
      "cell_type": "code",
      "source": [
        "print(blockchain.to_json())"
      ],
      "metadata": {
        "id": "kwFezI-80uLn",
        "outputId": "10f89b90-2aaa-4b0c-f842-b033a7d129ef",
        "colab": {
          "base_uri": "https://localhost:8080/"
        }
      },
      "execution_count": 58,
      "outputs": [
        {
          "output_type": "stream",
          "name": "stdout",
          "text": [
            "[\n",
            "    {\n",
            "        \"index\": 0,\n",
            "        \"previous_hash\": \"0\",\n",
            "        \"timestamp\": 1721140664,\n",
            "        \"data\": \"Genesis Block\",\n",
            "        \"hash\": \"88fba1e4805c082f7eef888527b257618c57d84cb96a55d54b54978e0c8dceae\"\n",
            "    },\n",
            "    {\n",
            "        \"index\": 1,\n",
            "        \"previous_hash\": \"88fba1e4805c082f7eef888527b257618c57d84cb96a55d54b54978e0c8dceae\",\n",
            "        \"timestamp\": 1721140664,\n",
            "        \"data\": \"Block 1 data\",\n",
            "        \"hash\": \"dea01905eb123f2ff99d749a7884ca87ea640538ad08d826eda7b73b3401c8d6\"\n",
            "    },\n",
            "    {\n",
            "        \"index\": 2,\n",
            "        \"previous_hash\": \"dea01905eb123f2ff99d749a7884ca87ea640538ad08d826eda7b73b3401c8d6\",\n",
            "        \"timestamp\": 1721140664,\n",
            "        \"data\": \"Block 2 data\",\n",
            "        \"hash\": \"e842d6276f2069f9326d753fb07756d7f757a6ab1f992f0f10d202414ab3bc15\"\n",
            "    },\n",
            "    {\n",
            "        \"index\": 3,\n",
            "        \"previous_hash\": \"e842d6276f2069f9326d753fb07756d7f757a6ab1f992f0f10d202414ab3bc15\",\n",
            "        \"timestamp\": 1721140664,\n",
            "        \"data\": \"Block 3 data\",\n",
            "        \"hash\": \"d004e80e3d6a433c5c3e66dca160c1fb0f9b6edf086319022807fd17a0bb8fa4\"\n",
            "    },\n",
            "    {\n",
            "        \"index\": 4,\n",
            "        \"previous_hash\": \"d004e80e3d6a433c5c3e66dca160c1fb0f9b6edf086319022807fd17a0bb8fa4\",\n",
            "        \"timestamp\": 1721140673,\n",
            "        \"data\": \"\\ndef transfer(from_, to, amount):\\n    if from_ not in balances or balances[from_] < amount:\\n        raise ValueError(\\\"Insufficient balance\\\")\\n    if to in balances:\\n        balances[to] += amount\\n    else:\\n        balances[to] = amount\\n    balances[from_] -= amount\\n\",\n",
            "        \"hash\": \"11b55f9c802f508dfd92c48f92d45b804f4264a3b328941b0e171e3e0b201fde\"\n",
            "    },\n",
            "    {\n",
            "        \"index\": 5,\n",
            "        \"previous_hash\": \"11b55f9c802f508dfd92c48f92d45b804f4264a3b328941b0e171e3e0b201fde\",\n",
            "        \"timestamp\": 1721140709,\n",
            "        \"data\": \"Block 1 Data\",\n",
            "        \"hash\": \"f0f1d6990f80d17652205c8fa2a65548104e2c140e9079f1a4bda2c22266b1ae\"\n",
            "    },\n",
            "    {\n",
            "        \"index\": 6,\n",
            "        \"previous_hash\": \"f0f1d6990f80d17652205c8fa2a65548104e2c140e9079f1a4bda2c22266b1ae\",\n",
            "        \"timestamp\": 1721140709,\n",
            "        \"data\": \"Block 2 Data\",\n",
            "        \"hash\": \"327c3449117de62654cc79696b8d29eca94d85e2c2f4720417d5f19e319b274b\"\n",
            "    },\n",
            "    {\n",
            "        \"index\": 7,\n",
            "        \"previous_hash\": \"327c3449117de62654cc79696b8d29eca94d85e2c2f4720417d5f19e319b274b\",\n",
            "        \"timestamp\": 1721140717,\n",
            "        \"data\": \"\\ndef contract_function(storage):\\n    storage['counter'] = storage.get('counter', 0) + 1\\n    print(f\\\"Counter value: {storage['counter']}\\\")\\ncontract_function(storage)\\n\",\n",
            "        \"hash\": \"a5a8c57bde76032ca8d9a5722348dc4cbd90b2f700bc571a30f8fc5f1c6deb34\"\n",
            "    },\n",
            "    {\n",
            "        \"index\": 8,\n",
            "        \"previous_hash\": \"a5a8c57bde76032ca8d9a5722348dc4cbd90b2f700bc571a30f8fc5f1c6deb34\",\n",
            "        \"timestamp\": 1721140738,\n",
            "        \"data\": \"{\\\"type\\\": \\\"mint\\\", \\\"owner\\\": \\\"0xfeedfacefeedfacefeedfacefeedfacefeedface\\\", \\\"tokenId\\\": \\\"8b77fa5c5a4ba9119bd9258672bc9f59884b884ff9f187002d635b1d1a773aa8\\\", \\\"metadata\\\": \\\"https://example2.co.id\\\"}\",\n",
            "        \"hash\": \"4b716d5b6693c39eaa13652458de9e683e037a7ccd6d0b36d2f3c6bc16e31931\"\n",
            "    },\n",
            "    {\n",
            "        \"index\": 9,\n",
            "        \"previous_hash\": \"4b716d5b6693c39eaa13652458de9e683e037a7ccd6d0b36d2f3c6bc16e31931\",\n",
            "        \"timestamp\": 1721140743,\n",
            "        \"data\": \"{\\\"type\\\": \\\"transfer\\\", \\\"from\\\": \\\"0xfeedfacefeedfacefeedfacefeedfacefeedface\\\", \\\"to\\\": \\\"0xbadc0ffeebadc0ffeebadc0ffeebadc0ffeebadc\\\", \\\"tokenId\\\": \\\"8b77fa5c5a4ba9119bd9258672bc9f59884b884ff9f187002d635b1d1a773aa8\\\"}\",\n",
            "        \"hash\": \"046d91de456fa439f9c694ad73d93c2e3d3b50715719f880b69aecc5fad6875d\"\n",
            "    },\n",
            "    {\n",
            "        \"index\": 10,\n",
            "        \"previous_hash\": \"046d91de456fa439f9c694ad73d93c2e3d3b50715719f880b69aecc5fad6875d\",\n",
            "        \"timestamp\": 1721140755,\n",
            "        \"data\": \"{\\\"type\\\": \\\"mint_fungible\\\", \\\"to\\\": \\\"0xabc\\\", \\\"amount\\\": 1000}\",\n",
            "        \"hash\": \"f8d2a432c7232c8b61b5053486154bad2bd35f4e4d52f7d5b4885c49cabfc52f\"\n",
            "    },\n",
            "    {\n",
            "        \"index\": 11,\n",
            "        \"previous_hash\": \"f8d2a432c7232c8b61b5053486154bad2bd35f4e4d52f7d5b4885c49cabfc52f\",\n",
            "        \"timestamp\": 1721140755,\n",
            "        \"data\": \"{\\\"type\\\": \\\"mint_fungible\\\", \\\"to\\\": \\\"0xdef\\\", \\\"amount\\\": 500}\",\n",
            "        \"hash\": \"075404f83d47ea1faf7fcedc921768376978a9959988738e47f0da66242c61bc\"\n",
            "    },\n",
            "    {\n",
            "        \"index\": 12,\n",
            "        \"previous_hash\": \"075404f83d47ea1faf7fcedc921768376978a9959988738e47f0da66242c61bc\",\n",
            "        \"timestamp\": 1721140763,\n",
            "        \"data\": \"{\\\"type\\\": \\\"transfer_fungible\\\", \\\"from\\\": \\\"0xabc\\\", \\\"to\\\": \\\"0xdef\\\", \\\"amount\\\": 200}\",\n",
            "        \"hash\": \"ca6d45cf1fd552bd2baf33f684de4473b7cc6b5b97a2688600c6d36ec5f717c2\"\n",
            "    },\n",
            "    {\n",
            "        \"index\": 13,\n",
            "        \"previous_hash\": \"ca6d45cf1fd552bd2baf33f684de4473b7cc6b5b97a2688600c6d36ec5f717c2\",\n",
            "        \"timestamp\": 1721140784,\n",
            "        \"data\": \"Block 1 Data\",\n",
            "        \"hash\": \"fa1c3c5dbb0e81dfeae2c27a904d2e99ca60a7729102a6251230a9c96e57bab3\"\n",
            "    },\n",
            "    {\n",
            "        \"index\": 14,\n",
            "        \"previous_hash\": \"fa1c3c5dbb0e81dfeae2c27a904d2e99ca60a7729102a6251230a9c96e57bab3\",\n",
            "        \"timestamp\": 1721140784,\n",
            "        \"data\": \"Block 2 Data\",\n",
            "        \"hash\": \"32ed68902ec3a8f1d1bb35a69d36fd5b9dc745c9c5b2ab8a0ab810ad8badad4a\"\n",
            "    },\n",
            "    {\n",
            "        \"index\": 15,\n",
            "        \"previous_hash\": \"32ed68902ec3a8f1d1bb35a69d36fd5b9dc745c9c5b2ab8a0ab810ad8badad4a\",\n",
            "        \"timestamp\": 1721140797,\n",
            "        \"data\": \"Block 1 Data\",\n",
            "        \"hash\": \"7c4bb81f2f5ab2d0de3ca80d422ed2a3ab3f4762736d1ca179d7143ee783e502\"\n",
            "    },\n",
            "    {\n",
            "        \"index\": 16,\n",
            "        \"previous_hash\": \"7c4bb81f2f5ab2d0de3ca80d422ed2a3ab3f4762736d1ca179d7143ee783e502\",\n",
            "        \"timestamp\": 1721140808,\n",
            "        \"data\": \"Block 2 Data\",\n",
            "        \"hash\": \"fa10da15b85a4a8d838fad42012585ec58b08ea445111f6ba218462cd435279f\"\n",
            "    },\n",
            "    {\n",
            "        \"index\": 17,\n",
            "        \"previous_hash\": \"fa10da15b85a4a8d838fad42012585ec58b08ea445111f6ba218462cd435279f\",\n",
            "        \"timestamp\": 1721140845,\n",
            "        \"data\": \"Block 1 Data\",\n",
            "        \"hash\": \"4205d5f265f30ee43fb59dc934309659f5ffb75111356caa44d53f5a894b396b\"\n",
            "    },\n",
            "    {\n",
            "        \"index\": 18,\n",
            "        \"previous_hash\": \"4205d5f265f30ee43fb59dc934309659f5ffb75111356caa44d53f5a894b396b\",\n",
            "        \"timestamp\": 1721140845,\n",
            "        \"data\": \"Block 2 Data\",\n",
            "        \"hash\": \"6f1cd8dc9641421aa528f25e31fea4e5df424260aadb9e05d83fc3f2481baa24\"\n",
            "    },\n",
            "    {\n",
            "        \"index\": 19,\n",
            "        \"previous_hash\": \"6f1cd8dc9641421aa528f25e31fea4e5df424260aadb9e05d83fc3f2481baa24\",\n",
            "        \"timestamp\": 1721140869,\n",
            "        \"data\": \"Block 1 Data\",\n",
            "        \"hash\": \"2b77bc5a3d5b403d2cdc0594806b8b35c31575be79ed47264712a580ceab72fa\"\n",
            "    },\n",
            "    {\n",
            "        \"index\": 20,\n",
            "        \"previous_hash\": \"2b77bc5a3d5b403d2cdc0594806b8b35c31575be79ed47264712a580ceab72fa\",\n",
            "        \"timestamp\": 1721140869,\n",
            "        \"data\": \"Block 2 Data\",\n",
            "        \"hash\": \"2c1a1be20b29982a6718c5fcdedacd60a9676d78bb65111732063c7bbacc8717\"\n",
            "    },\n",
            "    {\n",
            "        \"index\": 21,\n",
            "        \"previous_hash\": \"2c1a1be20b29982a6718c5fcdedacd60a9676d78bb65111732063c7bbacc8717\",\n",
            "        \"timestamp\": 1721141410,\n",
            "        \"data\": \"Block 1 data\",\n",
            "        \"hash\": \"a4df52b1c4942ff9242905a95f11382658d31dc3bb471093e8123dd0a25b445f\"\n",
            "    },\n",
            "    {\n",
            "        \"index\": 22,\n",
            "        \"previous_hash\": \"a4df52b1c4942ff9242905a95f11382658d31dc3bb471093e8123dd0a25b445f\",\n",
            "        \"timestamp\": 1721141410,\n",
            "        \"data\": \"Block 2 data\",\n",
            "        \"hash\": \"a9e90d42042ba29f6d534359c62367ab5ddb8fcb59205db53703c9777239ce65\"\n",
            "    },\n",
            "    {\n",
            "        \"index\": 23,\n",
            "        \"previous_hash\": \"a9e90d42042ba29f6d534359c62367ab5ddb8fcb59205db53703c9777239ce65\",\n",
            "        \"timestamp\": 1721141410,\n",
            "        \"data\": \"Block 3 data\",\n",
            "        \"hash\": \"e6dcdd298621716e3363d4e9aa0f5049a9a5072394ef2b123a3152cc29fb9019\"\n",
            "    },\n",
            "    {\n",
            "        \"index\": 24,\n",
            "        \"previous_hash\": \"e6dcdd298621716e3363d4e9aa0f5049a9a5072394ef2b123a3152cc29fb9019\",\n",
            "        \"timestamp\": 1721141416,\n",
            "        \"data\": \"\\ndef transfer(from_, to, amount):\\n    if from_ not in balances or balances[from_] < amount:\\n        raise ValueError(\\\"Insufficient balance\\\")\\n    if to in balances:\\n        balances[to] += amount\\n    else:\\n        balances[to] = amount\\n    balances[from_] -= amount\\n\",\n",
            "        \"hash\": \"50803e56bb6f116f0ef4a867f041b2e4ba6a9b5decad0e6f0890a182867b1811\"\n",
            "    }\n",
            "]\n"
          ]
        }
      ]
    },
    {
      "cell_type": "markdown",
      "source": [
        "### Demo Proof of Stake"
      ],
      "metadata": {
        "id": "VRSE5424ZWrr"
      }
    },
    {
      "cell_type": "code",
      "source": [
        "# Contoh Penggunaan\n",
        "pos = ProofOfStake()\n",
        "my_blockchain = MyBlockchain(pos)"
      ],
      "metadata": {
        "id": "ixhsicOHOZ8t"
      },
      "execution_count": 16,
      "outputs": []
    },
    {
      "cell_type": "code",
      "source": [
        "# Add stakeholders using the ProofOfStake object\n",
        "pos.add_stakeholder('Alice', 10)\n",
        "pos.add_stakeholder('Bob', 20)\n",
        "pos.add_stakeholder('Charlie', 30)"
      ],
      "metadata": {
        "id": "4SzAyU5MXNe4"
      },
      "execution_count": 17,
      "outputs": []
    },
    {
      "cell_type": "code",
      "source": [
        "# Menambahkan blok biasa\n",
        "my_blockchain.add_block('Block 1 Data')\n",
        "my_blockchain.add_block('Block 2 Data')"
      ],
      "metadata": {
        "colab": {
          "base_uri": "https://localhost:8080/"
        },
        "id": "VOt1PL8aOhic",
        "outputId": "557e8e91-d5ff-49f6-8a10-33ee748bed00"
      },
      "execution_count": 18,
      "outputs": [
        {
          "output_type": "stream",
          "name": "stdout",
          "text": [
            "Block #4 created by Charlie using PoS\n",
            "Block #5 created by Alice using PoS\n"
          ]
        }
      ]
    },
    {
      "cell_type": "code",
      "source": [
        "# Menambahkan smart contract\n",
        "smart_contract_code = \"\"\"\n",
        "def contract_function(storage):\n",
        "    storage['counter'] = storage.get('counter', 0) + 1\n",
        "    print(f\"Counter value: {storage['counter']}\")\n",
        "contract_function(storage)\n",
        "\"\"\""
      ],
      "metadata": {
        "id": "kfMqPDVYOlkW"
      },
      "execution_count": 19,
      "outputs": []
    },
    {
      "cell_type": "code",
      "source": [
        "block_hash = my_blockchain.store_smart_contract(smart_contract_code)\n",
        "print(f\"Smart contract stored in block with hash: {block_hash}\")"
      ],
      "metadata": {
        "colab": {
          "base_uri": "https://localhost:8080/"
        },
        "collapsed": true,
        "id": "wPJhdNz2Oopx",
        "outputId": "740209b5-b29e-4e99-c841-57f191c0b7a8"
      },
      "execution_count": 20,
      "outputs": [
        {
          "output_type": "stream",
          "name": "stdout",
          "text": [
            "Smart Contract Block #6 created by Bob using PoS\n",
            "Smart contract stored in block with hash: 53eca47bf6b69ce5e0f72324509439904ffc2b37d7c54cf35d9b1601e439042e\n"
          ]
        }
      ]
    },
    {
      "cell_type": "code",
      "source": [
        "# Menjalankan smart contract dari blockchain\n",
        "my_blockchain.execute_smart_contract_from_block(block_hash)"
      ],
      "metadata": {
        "colab": {
          "base_uri": "https://localhost:8080/"
        },
        "id": "NLEZDH2EOsyB",
        "outputId": "6b689ab8-4143-46fe-96bf-2bc1bdd91a17"
      },
      "execution_count": 21,
      "outputs": [
        {
          "output_type": "stream",
          "name": "stdout",
          "text": [
            "Counter value: 1\n"
          ]
        }
      ]
    },
    {
      "cell_type": "code",
      "source": [
        "# Menjalankan kembali smart contract untuk melihat perubahan state\n",
        "my_blockchain.execute_smart_contract_from_block(block_hash)"
      ],
      "metadata": {
        "colab": {
          "base_uri": "https://localhost:8080/"
        },
        "id": "PpiUGV_5OxMA",
        "outputId": "e14bd752-3a8a-465c-bf7c-3e81b4110624"
      },
      "execution_count": 22,
      "outputs": [
        {
          "output_type": "stream",
          "name": "stdout",
          "text": [
            "Counter value: 2\n"
          ]
        }
      ]
    },
    {
      "cell_type": "code",
      "source": [
        "# Mencetak isi blockchain dalam format JSON\n",
        "print(\"Blockchain content in JSON:\")\n",
        "print(my_blockchain.to_json())"
      ],
      "metadata": {
        "colab": {
          "base_uri": "https://localhost:8080/"
        },
        "collapsed": true,
        "id": "qb1AuUciOz6L",
        "outputId": "24114e89-b836-4049-82a8-2503968012ef"
      },
      "execution_count": 23,
      "outputs": [
        {
          "output_type": "stream",
          "name": "stdout",
          "text": [
            "Blockchain content in JSON:\n",
            "[\n",
            "    {\n",
            "        \"index\": 0,\n",
            "        \"previous_hash\": \"0\",\n",
            "        \"timestamp\": 1721198153,\n",
            "        \"data\": \"Genesis Block\",\n",
            "        \"hash\": \"febe648ded6e5230405553b9a63b02c23a0629c231988682529bc9104601eca0\"\n",
            "    },\n",
            "    {\n",
            "        \"index\": 1,\n",
            "        \"previous_hash\": \"febe648ded6e5230405553b9a63b02c23a0629c231988682529bc9104601eca0\",\n",
            "        \"timestamp\": 1721198153,\n",
            "        \"data\": \"Block 1 data\",\n",
            "        \"hash\": \"75c7dfeb1729699bf810ec7b48bb578d9cc87fae33c45fef604e063738501816\"\n",
            "    },\n",
            "    {\n",
            "        \"index\": 2,\n",
            "        \"previous_hash\": \"75c7dfeb1729699bf810ec7b48bb578d9cc87fae33c45fef604e063738501816\",\n",
            "        \"timestamp\": 1721198153,\n",
            "        \"data\": \"Block 2 data\",\n",
            "        \"hash\": \"47b272f4ae590dc89331bc74353cab3de39b0d870e6cea012dbaa65b5ce2e591\"\n",
            "    },\n",
            "    {\n",
            "        \"index\": 3,\n",
            "        \"previous_hash\": \"47b272f4ae590dc89331bc74353cab3de39b0d870e6cea012dbaa65b5ce2e591\",\n",
            "        \"timestamp\": 1721198153,\n",
            "        \"data\": \"Block 3 data\",\n",
            "        \"hash\": \"e1a1ddcb2a50bc977108c0c3267023b717c37377428e822840ec22689936aee5\"\n",
            "    },\n",
            "    {\n",
            "        \"index\": 4,\n",
            "        \"previous_hash\": \"e1a1ddcb2a50bc977108c0c3267023b717c37377428e822840ec22689936aee5\",\n",
            "        \"timestamp\": 1721198162,\n",
            "        \"data\": \"Block 1 Data\",\n",
            "        \"hash\": \"f61ac08f3b1090f824befb1e40cf01b8a2102fb4c65465fd862f1ee38299d2b2\"\n",
            "    },\n",
            "    {\n",
            "        \"index\": 5,\n",
            "        \"previous_hash\": \"f61ac08f3b1090f824befb1e40cf01b8a2102fb4c65465fd862f1ee38299d2b2\",\n",
            "        \"timestamp\": 1721198162,\n",
            "        \"data\": \"Block 2 Data\",\n",
            "        \"hash\": \"1016692d2ff3de9541b0180f18b2ad1e2dcf9175904c484757b071c799983ab0\"\n",
            "    },\n",
            "    {\n",
            "        \"index\": 6,\n",
            "        \"previous_hash\": \"1016692d2ff3de9541b0180f18b2ad1e2dcf9175904c484757b071c799983ab0\",\n",
            "        \"timestamp\": 1721198162,\n",
            "        \"data\": \"\\ndef contract_function(storage):\\n    storage['counter'] = storage.get('counter', 0) + 1\\n    print(f\\\"Counter value: {storage['counter']}\\\")\\ncontract_function(storage)\\n\",\n",
            "        \"hash\": \"53eca47bf6b69ce5e0f72324509439904ffc2b37d7c54cf35d9b1601e439042e\"\n",
            "    }\n",
            "]\n"
          ]
        }
      ]
    },
    {
      "cell_type": "code",
      "source": [
        "# Membuat NFT baru\n",
        "owner_address = \"0xfeedfacefeedfacefeedfacefeedfacefeedface\"\n",
        "asset_uri = \"https://example2.co.id\"\n",
        "mint_block_hash = my_blockchain.mint_nft(owner_address, asset_uri)\n",
        "print(f\"NFT minted in block with hash: {mint_block_hash}\")"
      ],
      "metadata": {
        "colab": {
          "base_uri": "https://localhost:8080/"
        },
        "collapsed": true,
        "id": "nvdMxqpOO2q6",
        "outputId": "4b16aab6-d141-4470-9855-fb06d074d948"
      },
      "execution_count": 24,
      "outputs": [
        {
          "output_type": "stream",
          "name": "stdout",
          "text": [
            "Block #7 created by Alice using PoS\n",
            "NFT minted in block with hash: be921243df3df864830db7a53f21ec9b1b94f868e52b4942f60ed1f8a3467020\n"
          ]
        }
      ]
    },
    {
      "cell_type": "code",
      "source": [
        "# Transfer NFT\n",
        "new_owner_address = \"0xbadc0ffeebadc0ffeebadc0ffeebadc0ffeebadc\"\n",
        "token_id = hashlib.sha256(asset_uri.encode()).hexdigest()\n",
        "transfer_block_hash = my_blockchain.transfer_nft(owner_address, new_owner_address, token_id)\n",
        "print(f\"NFT transferred in block with hash: {transfer_block_hash}\")"
      ],
      "metadata": {
        "colab": {
          "base_uri": "https://localhost:8080/"
        },
        "collapsed": true,
        "id": "_iqCNrexO8Uh",
        "outputId": "ccebff73-9bcf-4a95-8cf7-71e2e656814a"
      },
      "execution_count": 25,
      "outputs": [
        {
          "output_type": "stream",
          "name": "stdout",
          "text": [
            "Block #8 created by Charlie using PoS\n",
            "NFT transferred in block with hash: d5d424efb1ea3e99392ecd887e7523589af6af736fdde76c5bd5b6646cef6d1e\n"
          ]
        }
      ]
    },
    {
      "cell_type": "code",
      "source": [
        "# Mencetak isi blockchain dalam format JSON\n",
        "print(\"Blockchain content in JSON:\")\n",
        "print(my_blockchain.to_json())"
      ],
      "metadata": {
        "colab": {
          "base_uri": "https://localhost:8080/"
        },
        "collapsed": true,
        "id": "bDJLJYSiO-zm",
        "outputId": "c18de335-55a9-4a04-8b34-25546030920f"
      },
      "execution_count": 26,
      "outputs": [
        {
          "output_type": "stream",
          "name": "stdout",
          "text": [
            "Blockchain content in JSON:\n",
            "[\n",
            "    {\n",
            "        \"index\": 0,\n",
            "        \"previous_hash\": \"0\",\n",
            "        \"timestamp\": 1721198153,\n",
            "        \"data\": \"Genesis Block\",\n",
            "        \"hash\": \"febe648ded6e5230405553b9a63b02c23a0629c231988682529bc9104601eca0\"\n",
            "    },\n",
            "    {\n",
            "        \"index\": 1,\n",
            "        \"previous_hash\": \"febe648ded6e5230405553b9a63b02c23a0629c231988682529bc9104601eca0\",\n",
            "        \"timestamp\": 1721198153,\n",
            "        \"data\": \"Block 1 data\",\n",
            "        \"hash\": \"75c7dfeb1729699bf810ec7b48bb578d9cc87fae33c45fef604e063738501816\"\n",
            "    },\n",
            "    {\n",
            "        \"index\": 2,\n",
            "        \"previous_hash\": \"75c7dfeb1729699bf810ec7b48bb578d9cc87fae33c45fef604e063738501816\",\n",
            "        \"timestamp\": 1721198153,\n",
            "        \"data\": \"Block 2 data\",\n",
            "        \"hash\": \"47b272f4ae590dc89331bc74353cab3de39b0d870e6cea012dbaa65b5ce2e591\"\n",
            "    },\n",
            "    {\n",
            "        \"index\": 3,\n",
            "        \"previous_hash\": \"47b272f4ae590dc89331bc74353cab3de39b0d870e6cea012dbaa65b5ce2e591\",\n",
            "        \"timestamp\": 1721198153,\n",
            "        \"data\": \"Block 3 data\",\n",
            "        \"hash\": \"e1a1ddcb2a50bc977108c0c3267023b717c37377428e822840ec22689936aee5\"\n",
            "    },\n",
            "    {\n",
            "        \"index\": 4,\n",
            "        \"previous_hash\": \"e1a1ddcb2a50bc977108c0c3267023b717c37377428e822840ec22689936aee5\",\n",
            "        \"timestamp\": 1721198162,\n",
            "        \"data\": \"Block 1 Data\",\n",
            "        \"hash\": \"f61ac08f3b1090f824befb1e40cf01b8a2102fb4c65465fd862f1ee38299d2b2\"\n",
            "    },\n",
            "    {\n",
            "        \"index\": 5,\n",
            "        \"previous_hash\": \"f61ac08f3b1090f824befb1e40cf01b8a2102fb4c65465fd862f1ee38299d2b2\",\n",
            "        \"timestamp\": 1721198162,\n",
            "        \"data\": \"Block 2 Data\",\n",
            "        \"hash\": \"1016692d2ff3de9541b0180f18b2ad1e2dcf9175904c484757b071c799983ab0\"\n",
            "    },\n",
            "    {\n",
            "        \"index\": 6,\n",
            "        \"previous_hash\": \"1016692d2ff3de9541b0180f18b2ad1e2dcf9175904c484757b071c799983ab0\",\n",
            "        \"timestamp\": 1721198162,\n",
            "        \"data\": \"\\ndef contract_function(storage):\\n    storage['counter'] = storage.get('counter', 0) + 1\\n    print(f\\\"Counter value: {storage['counter']}\\\")\\ncontract_function(storage)\\n\",\n",
            "        \"hash\": \"53eca47bf6b69ce5e0f72324509439904ffc2b37d7c54cf35d9b1601e439042e\"\n",
            "    },\n",
            "    {\n",
            "        \"index\": 7,\n",
            "        \"previous_hash\": \"53eca47bf6b69ce5e0f72324509439904ffc2b37d7c54cf35d9b1601e439042e\",\n",
            "        \"timestamp\": 1721198162,\n",
            "        \"data\": \"{\\\"type\\\": \\\"mint\\\", \\\"owner\\\": \\\"0xfeedfacefeedfacefeedfacefeedfacefeedface\\\", \\\"tokenId\\\": \\\"8b77fa5c5a4ba9119bd9258672bc9f59884b884ff9f187002d635b1d1a773aa8\\\", \\\"metadata\\\": \\\"https://example2.co.id\\\"}\",\n",
            "        \"hash\": \"be921243df3df864830db7a53f21ec9b1b94f868e52b4942f60ed1f8a3467020\"\n",
            "    },\n",
            "    {\n",
            "        \"index\": 8,\n",
            "        \"previous_hash\": \"be921243df3df864830db7a53f21ec9b1b94f868e52b4942f60ed1f8a3467020\",\n",
            "        \"timestamp\": 1721198162,\n",
            "        \"data\": \"{\\\"type\\\": \\\"transfer\\\", \\\"from\\\": \\\"0xfeedfacefeedfacefeedfacefeedfacefeedface\\\", \\\"to\\\": \\\"0xbadc0ffeebadc0ffeebadc0ffeebadc0ffeebadc\\\", \\\"tokenId\\\": \\\"8b77fa5c5a4ba9119bd9258672bc9f59884b884ff9f187002d635b1d1a773aa8\\\"}\",\n",
            "        \"hash\": \"d5d424efb1ea3e99392ecd887e7523589af6af736fdde76c5bd5b6646cef6d1e\"\n",
            "    }\n",
            "]\n"
          ]
        }
      ]
    },
    {
      "cell_type": "code",
      "source": [
        "# Demonstrasi Token Fungible (ERC20)\n",
        "my_blockchain.mint_fungible_token(\"0xabc\", 1000)\n",
        "my_blockchain.mint_fungible_token(\"0xdef\", 500)"
      ],
      "metadata": {
        "colab": {
          "base_uri": "https://localhost:8080/",
          "height": 70
        },
        "collapsed": true,
        "id": "nSEQjGcJPA_G",
        "outputId": "1e260b29-456f-451b-afe1-f8635382e90d"
      },
      "execution_count": 27,
      "outputs": [
        {
          "output_type": "stream",
          "name": "stdout",
          "text": [
            "Block #9 created by Bob using PoS\n",
            "Block #10 created by Charlie using PoS\n"
          ]
        },
        {
          "output_type": "execute_result",
          "data": {
            "text/plain": [
              "'df99ea558a675e2485ad40ed894173d894edc841d61f40682171e4e3b99ff853'"
            ],
            "application/vnd.google.colaboratory.intrinsic+json": {
              "type": "string"
            }
          },
          "metadata": {},
          "execution_count": 27
        }
      ]
    },
    {
      "cell_type": "code",
      "source": [
        "print(\"Balance of 0xabc:\", my_blockchain.fungible_token_contract.balance_of(\"0xabc\"))\n",
        "print(\"Balance of 0xdef:\", my_blockchain.fungible_token_contract.balance_of(\"0xdef\"))"
      ],
      "metadata": {
        "colab": {
          "base_uri": "https://localhost:8080/"
        },
        "collapsed": true,
        "id": "M6tJE8FiPD3k",
        "outputId": "313e65c5-4e57-4f4f-9b70-3b0f2ba685f6"
      },
      "execution_count": 28,
      "outputs": [
        {
          "output_type": "stream",
          "name": "stdout",
          "text": [
            "Balance of 0xabc: 1000\n",
            "Balance of 0xdef: 500\n"
          ]
        }
      ]
    },
    {
      "cell_type": "code",
      "source": [
        "my_blockchain.transfer_fungible_token(\"0xabc\", \"0xdef\", 200)"
      ],
      "metadata": {
        "colab": {
          "base_uri": "https://localhost:8080/",
          "height": 53
        },
        "collapsed": true,
        "id": "HLZDRUDDPGsy",
        "outputId": "f1b4c2b1-e749-45db-c1f2-ca110e36b912"
      },
      "execution_count": 29,
      "outputs": [
        {
          "output_type": "stream",
          "name": "stdout",
          "text": [
            "Block #11 created by Bob using PoS\n"
          ]
        },
        {
          "output_type": "execute_result",
          "data": {
            "text/plain": [
              "'34e2e3635e5b5b05e5fcc1e28cb214a69c5f1ea88f9d4c132f071b1478a7745c'"
            ],
            "application/vnd.google.colaboratory.intrinsic+json": {
              "type": "string"
            }
          },
          "metadata": {},
          "execution_count": 29
        }
      ]
    },
    {
      "cell_type": "code",
      "source": [
        "print(\"Balance of 0xabc after transfer:\", my_blockchain.fungible_token_contract.balance_of(\"0xabc\"))\n",
        "print(\"Balance of 0xdef after transfer:\", my_blockchain.fungible_token_contract.balance_of(\"0xdef\"))"
      ],
      "metadata": {
        "colab": {
          "base_uri": "https://localhost:8080/"
        },
        "id": "g7mUVou0PHwg",
        "outputId": "8501b98a-bf5e-43ee-d6d1-f1e739e0f8f4"
      },
      "execution_count": 30,
      "outputs": [
        {
          "output_type": "stream",
          "name": "stdout",
          "text": [
            "Balance of 0xabc after transfer: 800\n",
            "Balance of 0xdef after transfer: 700\n"
          ]
        }
      ]
    },
    {
      "cell_type": "code",
      "source": [
        "# Mencetak isi blockchain dalam format JSON\n",
        "print(\"Blockchain content in JSON:\")\n",
        "print(my_blockchain.to_json())"
      ],
      "metadata": {
        "colab": {
          "base_uri": "https://localhost:8080/"
        },
        "collapsed": true,
        "id": "uiZLt1NcPJyi",
        "outputId": "d75017e7-c3ce-4e8c-921d-fe3536e665dc"
      },
      "execution_count": 31,
      "outputs": [
        {
          "output_type": "stream",
          "name": "stdout",
          "text": [
            "Blockchain content in JSON:\n",
            "[\n",
            "    {\n",
            "        \"index\": 0,\n",
            "        \"previous_hash\": \"0\",\n",
            "        \"timestamp\": 1721198153,\n",
            "        \"data\": \"Genesis Block\",\n",
            "        \"hash\": \"febe648ded6e5230405553b9a63b02c23a0629c231988682529bc9104601eca0\"\n",
            "    },\n",
            "    {\n",
            "        \"index\": 1,\n",
            "        \"previous_hash\": \"febe648ded6e5230405553b9a63b02c23a0629c231988682529bc9104601eca0\",\n",
            "        \"timestamp\": 1721198153,\n",
            "        \"data\": \"Block 1 data\",\n",
            "        \"hash\": \"75c7dfeb1729699bf810ec7b48bb578d9cc87fae33c45fef604e063738501816\"\n",
            "    },\n",
            "    {\n",
            "        \"index\": 2,\n",
            "        \"previous_hash\": \"75c7dfeb1729699bf810ec7b48bb578d9cc87fae33c45fef604e063738501816\",\n",
            "        \"timestamp\": 1721198153,\n",
            "        \"data\": \"Block 2 data\",\n",
            "        \"hash\": \"47b272f4ae590dc89331bc74353cab3de39b0d870e6cea012dbaa65b5ce2e591\"\n",
            "    },\n",
            "    {\n",
            "        \"index\": 3,\n",
            "        \"previous_hash\": \"47b272f4ae590dc89331bc74353cab3de39b0d870e6cea012dbaa65b5ce2e591\",\n",
            "        \"timestamp\": 1721198153,\n",
            "        \"data\": \"Block 3 data\",\n",
            "        \"hash\": \"e1a1ddcb2a50bc977108c0c3267023b717c37377428e822840ec22689936aee5\"\n",
            "    },\n",
            "    {\n",
            "        \"index\": 4,\n",
            "        \"previous_hash\": \"e1a1ddcb2a50bc977108c0c3267023b717c37377428e822840ec22689936aee5\",\n",
            "        \"timestamp\": 1721198162,\n",
            "        \"data\": \"Block 1 Data\",\n",
            "        \"hash\": \"f61ac08f3b1090f824befb1e40cf01b8a2102fb4c65465fd862f1ee38299d2b2\"\n",
            "    },\n",
            "    {\n",
            "        \"index\": 5,\n",
            "        \"previous_hash\": \"f61ac08f3b1090f824befb1e40cf01b8a2102fb4c65465fd862f1ee38299d2b2\",\n",
            "        \"timestamp\": 1721198162,\n",
            "        \"data\": \"Block 2 Data\",\n",
            "        \"hash\": \"1016692d2ff3de9541b0180f18b2ad1e2dcf9175904c484757b071c799983ab0\"\n",
            "    },\n",
            "    {\n",
            "        \"index\": 6,\n",
            "        \"previous_hash\": \"1016692d2ff3de9541b0180f18b2ad1e2dcf9175904c484757b071c799983ab0\",\n",
            "        \"timestamp\": 1721198162,\n",
            "        \"data\": \"\\ndef contract_function(storage):\\n    storage['counter'] = storage.get('counter', 0) + 1\\n    print(f\\\"Counter value: {storage['counter']}\\\")\\ncontract_function(storage)\\n\",\n",
            "        \"hash\": \"53eca47bf6b69ce5e0f72324509439904ffc2b37d7c54cf35d9b1601e439042e\"\n",
            "    },\n",
            "    {\n",
            "        \"index\": 7,\n",
            "        \"previous_hash\": \"53eca47bf6b69ce5e0f72324509439904ffc2b37d7c54cf35d9b1601e439042e\",\n",
            "        \"timestamp\": 1721198162,\n",
            "        \"data\": \"{\\\"type\\\": \\\"mint\\\", \\\"owner\\\": \\\"0xfeedfacefeedfacefeedfacefeedfacefeedface\\\", \\\"tokenId\\\": \\\"8b77fa5c5a4ba9119bd9258672bc9f59884b884ff9f187002d635b1d1a773aa8\\\", \\\"metadata\\\": \\\"https://example2.co.id\\\"}\",\n",
            "        \"hash\": \"be921243df3df864830db7a53f21ec9b1b94f868e52b4942f60ed1f8a3467020\"\n",
            "    },\n",
            "    {\n",
            "        \"index\": 8,\n",
            "        \"previous_hash\": \"be921243df3df864830db7a53f21ec9b1b94f868e52b4942f60ed1f8a3467020\",\n",
            "        \"timestamp\": 1721198162,\n",
            "        \"data\": \"{\\\"type\\\": \\\"transfer\\\", \\\"from\\\": \\\"0xfeedfacefeedfacefeedfacefeedfacefeedface\\\", \\\"to\\\": \\\"0xbadc0ffeebadc0ffeebadc0ffeebadc0ffeebadc\\\", \\\"tokenId\\\": \\\"8b77fa5c5a4ba9119bd9258672bc9f59884b884ff9f187002d635b1d1a773aa8\\\"}\",\n",
            "        \"hash\": \"d5d424efb1ea3e99392ecd887e7523589af6af736fdde76c5bd5b6646cef6d1e\"\n",
            "    },\n",
            "    {\n",
            "        \"index\": 9,\n",
            "        \"previous_hash\": \"d5d424efb1ea3e99392ecd887e7523589af6af736fdde76c5bd5b6646cef6d1e\",\n",
            "        \"timestamp\": 1721198162,\n",
            "        \"data\": \"{\\\"type\\\": \\\"mint_fungible\\\", \\\"to\\\": \\\"0xabc\\\", \\\"amount\\\": 1000}\",\n",
            "        \"hash\": \"72a1768cc4bff4bff81fbff211073a937410e333198c7061c635481ce30718ff\"\n",
            "    },\n",
            "    {\n",
            "        \"index\": 10,\n",
            "        \"previous_hash\": \"72a1768cc4bff4bff81fbff211073a937410e333198c7061c635481ce30718ff\",\n",
            "        \"timestamp\": 1721198162,\n",
            "        \"data\": \"{\\\"type\\\": \\\"mint_fungible\\\", \\\"to\\\": \\\"0xdef\\\", \\\"amount\\\": 500}\",\n",
            "        \"hash\": \"df99ea558a675e2485ad40ed894173d894edc841d61f40682171e4e3b99ff853\"\n",
            "    },\n",
            "    {\n",
            "        \"index\": 11,\n",
            "        \"previous_hash\": \"df99ea558a675e2485ad40ed894173d894edc841d61f40682171e4e3b99ff853\",\n",
            "        \"timestamp\": 1721198162,\n",
            "        \"data\": \"{\\\"type\\\": \\\"transfer_fungible\\\", \\\"from\\\": \\\"0xabc\\\", \\\"to\\\": \\\"0xdef\\\", \\\"amount\\\": 200}\",\n",
            "        \"hash\": \"34e2e3635e5b5b05e5fcc1e28cb214a69c5f1ea88f9d4c132f071b1478a7745c\"\n",
            "    }\n",
            "]\n"
          ]
        }
      ]
    },
    {
      "cell_type": "markdown",
      "source": [
        "### Demo Proof of Burn"
      ],
      "metadata": {
        "id": "h9Y6nsTYZyaz"
      }
    },
    {
      "cell_type": "code",
      "source": [
        "pob = ProofOfBurn()"
      ],
      "metadata": {
        "collapsed": true,
        "id": "IIk0ZdYKS_1O"
      },
      "execution_count": 32,
      "outputs": []
    },
    {
      "cell_type": "code",
      "source": [
        "pob.burn_coins('Alice', 10)\n",
        "pob.burn_coins('Bob', 20)\n",
        "pob.burn_coins('Charlie', 30)"
      ],
      "metadata": {
        "id": "unYQmdC0Pggo"
      },
      "execution_count": 33,
      "outputs": []
    },
    {
      "cell_type": "code",
      "source": [
        "blockchain_pob = Blockchain(pob)\n",
        "blockchain_pob.add_block('Block 1 Data')\n",
        "blockchain_pob.add_block('Block 2 Data')"
      ],
      "metadata": {
        "colab": {
          "base_uri": "https://localhost:8080/"
        },
        "id": "BHGiSJcmPjDp",
        "outputId": "0b756fd6-8ba6-4956-e723-8ea7dcf24079"
      },
      "execution_count": 34,
      "outputs": [
        {
          "output_type": "stream",
          "name": "stdout",
          "text": [
            "Block #12 created by Charlie using PoB\n",
            "Block #13 created by Bob using PoB\n"
          ]
        }
      ]
    },
    {
      "cell_type": "code",
      "source": [
        "print(\"Blockchain content with PoB in JSON:\")\n",
        "print(blockchain_pob.to_json())"
      ],
      "metadata": {
        "colab": {
          "base_uri": "https://localhost:8080/"
        },
        "collapsed": true,
        "id": "EUw1nlzKPl1I",
        "outputId": "01b7a4e3-0065-4f11-d2f5-836002e44956"
      },
      "execution_count": 35,
      "outputs": [
        {
          "output_type": "stream",
          "name": "stdout",
          "text": [
            "Blockchain content with PoB in JSON:\n",
            "[\n",
            "    {\n",
            "        \"index\": 0,\n",
            "        \"previous_hash\": \"0\",\n",
            "        \"timestamp\": 1721198153,\n",
            "        \"data\": \"Genesis Block\",\n",
            "        \"hash\": \"febe648ded6e5230405553b9a63b02c23a0629c231988682529bc9104601eca0\"\n",
            "    },\n",
            "    {\n",
            "        \"index\": 1,\n",
            "        \"previous_hash\": \"febe648ded6e5230405553b9a63b02c23a0629c231988682529bc9104601eca0\",\n",
            "        \"timestamp\": 1721198153,\n",
            "        \"data\": \"Block 1 data\",\n",
            "        \"hash\": \"75c7dfeb1729699bf810ec7b48bb578d9cc87fae33c45fef604e063738501816\"\n",
            "    },\n",
            "    {\n",
            "        \"index\": 2,\n",
            "        \"previous_hash\": \"75c7dfeb1729699bf810ec7b48bb578d9cc87fae33c45fef604e063738501816\",\n",
            "        \"timestamp\": 1721198153,\n",
            "        \"data\": \"Block 2 data\",\n",
            "        \"hash\": \"47b272f4ae590dc89331bc74353cab3de39b0d870e6cea012dbaa65b5ce2e591\"\n",
            "    },\n",
            "    {\n",
            "        \"index\": 3,\n",
            "        \"previous_hash\": \"47b272f4ae590dc89331bc74353cab3de39b0d870e6cea012dbaa65b5ce2e591\",\n",
            "        \"timestamp\": 1721198153,\n",
            "        \"data\": \"Block 3 data\",\n",
            "        \"hash\": \"e1a1ddcb2a50bc977108c0c3267023b717c37377428e822840ec22689936aee5\"\n",
            "    },\n",
            "    {\n",
            "        \"index\": 4,\n",
            "        \"previous_hash\": \"e1a1ddcb2a50bc977108c0c3267023b717c37377428e822840ec22689936aee5\",\n",
            "        \"timestamp\": 1721198162,\n",
            "        \"data\": \"Block 1 Data\",\n",
            "        \"hash\": \"f61ac08f3b1090f824befb1e40cf01b8a2102fb4c65465fd862f1ee38299d2b2\"\n",
            "    },\n",
            "    {\n",
            "        \"index\": 5,\n",
            "        \"previous_hash\": \"f61ac08f3b1090f824befb1e40cf01b8a2102fb4c65465fd862f1ee38299d2b2\",\n",
            "        \"timestamp\": 1721198162,\n",
            "        \"data\": \"Block 2 Data\",\n",
            "        \"hash\": \"1016692d2ff3de9541b0180f18b2ad1e2dcf9175904c484757b071c799983ab0\"\n",
            "    },\n",
            "    {\n",
            "        \"index\": 6,\n",
            "        \"previous_hash\": \"1016692d2ff3de9541b0180f18b2ad1e2dcf9175904c484757b071c799983ab0\",\n",
            "        \"timestamp\": 1721198162,\n",
            "        \"data\": \"\\ndef contract_function(storage):\\n    storage['counter'] = storage.get('counter', 0) + 1\\n    print(f\\\"Counter value: {storage['counter']}\\\")\\ncontract_function(storage)\\n\",\n",
            "        \"hash\": \"53eca47bf6b69ce5e0f72324509439904ffc2b37d7c54cf35d9b1601e439042e\"\n",
            "    },\n",
            "    {\n",
            "        \"index\": 7,\n",
            "        \"previous_hash\": \"53eca47bf6b69ce5e0f72324509439904ffc2b37d7c54cf35d9b1601e439042e\",\n",
            "        \"timestamp\": 1721198162,\n",
            "        \"data\": \"{\\\"type\\\": \\\"mint\\\", \\\"owner\\\": \\\"0xfeedfacefeedfacefeedfacefeedfacefeedface\\\", \\\"tokenId\\\": \\\"8b77fa5c5a4ba9119bd9258672bc9f59884b884ff9f187002d635b1d1a773aa8\\\", \\\"metadata\\\": \\\"https://example2.co.id\\\"}\",\n",
            "        \"hash\": \"be921243df3df864830db7a53f21ec9b1b94f868e52b4942f60ed1f8a3467020\"\n",
            "    },\n",
            "    {\n",
            "        \"index\": 8,\n",
            "        \"previous_hash\": \"be921243df3df864830db7a53f21ec9b1b94f868e52b4942f60ed1f8a3467020\",\n",
            "        \"timestamp\": 1721198162,\n",
            "        \"data\": \"{\\\"type\\\": \\\"transfer\\\", \\\"from\\\": \\\"0xfeedfacefeedfacefeedfacefeedfacefeedface\\\", \\\"to\\\": \\\"0xbadc0ffeebadc0ffeebadc0ffeebadc0ffeebadc\\\", \\\"tokenId\\\": \\\"8b77fa5c5a4ba9119bd9258672bc9f59884b884ff9f187002d635b1d1a773aa8\\\"}\",\n",
            "        \"hash\": \"d5d424efb1ea3e99392ecd887e7523589af6af736fdde76c5bd5b6646cef6d1e\"\n",
            "    },\n",
            "    {\n",
            "        \"index\": 9,\n",
            "        \"previous_hash\": \"d5d424efb1ea3e99392ecd887e7523589af6af736fdde76c5bd5b6646cef6d1e\",\n",
            "        \"timestamp\": 1721198162,\n",
            "        \"data\": \"{\\\"type\\\": \\\"mint_fungible\\\", \\\"to\\\": \\\"0xabc\\\", \\\"amount\\\": 1000}\",\n",
            "        \"hash\": \"72a1768cc4bff4bff81fbff211073a937410e333198c7061c635481ce30718ff\"\n",
            "    },\n",
            "    {\n",
            "        \"index\": 10,\n",
            "        \"previous_hash\": \"72a1768cc4bff4bff81fbff211073a937410e333198c7061c635481ce30718ff\",\n",
            "        \"timestamp\": 1721198162,\n",
            "        \"data\": \"{\\\"type\\\": \\\"mint_fungible\\\", \\\"to\\\": \\\"0xdef\\\", \\\"amount\\\": 500}\",\n",
            "        \"hash\": \"df99ea558a675e2485ad40ed894173d894edc841d61f40682171e4e3b99ff853\"\n",
            "    },\n",
            "    {\n",
            "        \"index\": 11,\n",
            "        \"previous_hash\": \"df99ea558a675e2485ad40ed894173d894edc841d61f40682171e4e3b99ff853\",\n",
            "        \"timestamp\": 1721198162,\n",
            "        \"data\": \"{\\\"type\\\": \\\"transfer_fungible\\\", \\\"from\\\": \\\"0xabc\\\", \\\"to\\\": \\\"0xdef\\\", \\\"amount\\\": 200}\",\n",
            "        \"hash\": \"34e2e3635e5b5b05e5fcc1e28cb214a69c5f1ea88f9d4c132f071b1478a7745c\"\n",
            "    },\n",
            "    {\n",
            "        \"index\": 12,\n",
            "        \"previous_hash\": \"34e2e3635e5b5b05e5fcc1e28cb214a69c5f1ea88f9d4c132f071b1478a7745c\",\n",
            "        \"timestamp\": 1721198170,\n",
            "        \"data\": \"Block 1 Data\",\n",
            "        \"hash\": \"cf5f39494365e35bb3f51a240cb400e9a5a5d015b81cbc60ab2a2c97839bc558\"\n",
            "    },\n",
            "    {\n",
            "        \"index\": 13,\n",
            "        \"previous_hash\": \"cf5f39494365e35bb3f51a240cb400e9a5a5d015b81cbc60ab2a2c97839bc558\",\n",
            "        \"timestamp\": 1721198170,\n",
            "        \"data\": \"Block 2 Data\",\n",
            "        \"hash\": \"f0f5087984ad11d754790109ee18d86809feed26e425e7741c28d5f6d1b755da\"\n",
            "    }\n",
            "]\n"
          ]
        }
      ]
    },
    {
      "cell_type": "markdown",
      "source": [
        "### Demo Proof of Elapsed Time"
      ],
      "metadata": {
        "id": "WZu-8LnFZ65B"
      }
    },
    {
      "cell_type": "code",
      "source": [
        "poet = ProofOfElapsedTime()\n",
        "poet.wait_times = {'Alice': 0, 'Bob': 0, 'Charlie': 0}"
      ],
      "metadata": {
        "id": "pjWGTUQIPnP1"
      },
      "execution_count": 36,
      "outputs": []
    },
    {
      "cell_type": "code",
      "source": [
        "blockchain_poet = Blockchain(poet)\n",
        "blockchain_poet.add_block('Block 1 Data')\n",
        "blockchain_poet.add_block('Block 2 Data')"
      ],
      "metadata": {
        "colab": {
          "base_uri": "https://localhost:8080/"
        },
        "id": "Dnl82Dw_QFcj",
        "outputId": "db15e79c-a2c2-423c-dafc-3973967ec42d"
      },
      "execution_count": 37,
      "outputs": [
        {
          "output_type": "stream",
          "name": "stdout",
          "text": [
            "Block #14 created by Bob using PoET\n",
            "Block #15 created by Alice using PoET\n"
          ]
        }
      ]
    },
    {
      "cell_type": "code",
      "source": [
        "print(\"Blockchain content with PoET in JSON:\")\n",
        "print(blockchain_poet.to_json())"
      ],
      "metadata": {
        "colab": {
          "base_uri": "https://localhost:8080/"
        },
        "collapsed": true,
        "id": "OC47SJYoQGsQ",
        "outputId": "0c027d6a-ecfb-4173-b603-956e647fbc26"
      },
      "execution_count": 38,
      "outputs": [
        {
          "output_type": "stream",
          "name": "stdout",
          "text": [
            "Blockchain content with PoET in JSON:\n",
            "[\n",
            "    {\n",
            "        \"index\": 0,\n",
            "        \"previous_hash\": \"0\",\n",
            "        \"timestamp\": 1721198153,\n",
            "        \"data\": \"Genesis Block\",\n",
            "        \"hash\": \"febe648ded6e5230405553b9a63b02c23a0629c231988682529bc9104601eca0\"\n",
            "    },\n",
            "    {\n",
            "        \"index\": 1,\n",
            "        \"previous_hash\": \"febe648ded6e5230405553b9a63b02c23a0629c231988682529bc9104601eca0\",\n",
            "        \"timestamp\": 1721198153,\n",
            "        \"data\": \"Block 1 data\",\n",
            "        \"hash\": \"75c7dfeb1729699bf810ec7b48bb578d9cc87fae33c45fef604e063738501816\"\n",
            "    },\n",
            "    {\n",
            "        \"index\": 2,\n",
            "        \"previous_hash\": \"75c7dfeb1729699bf810ec7b48bb578d9cc87fae33c45fef604e063738501816\",\n",
            "        \"timestamp\": 1721198153,\n",
            "        \"data\": \"Block 2 data\",\n",
            "        \"hash\": \"47b272f4ae590dc89331bc74353cab3de39b0d870e6cea012dbaa65b5ce2e591\"\n",
            "    },\n",
            "    {\n",
            "        \"index\": 3,\n",
            "        \"previous_hash\": \"47b272f4ae590dc89331bc74353cab3de39b0d870e6cea012dbaa65b5ce2e591\",\n",
            "        \"timestamp\": 1721198153,\n",
            "        \"data\": \"Block 3 data\",\n",
            "        \"hash\": \"e1a1ddcb2a50bc977108c0c3267023b717c37377428e822840ec22689936aee5\"\n",
            "    },\n",
            "    {\n",
            "        \"index\": 4,\n",
            "        \"previous_hash\": \"e1a1ddcb2a50bc977108c0c3267023b717c37377428e822840ec22689936aee5\",\n",
            "        \"timestamp\": 1721198162,\n",
            "        \"data\": \"Block 1 Data\",\n",
            "        \"hash\": \"f61ac08f3b1090f824befb1e40cf01b8a2102fb4c65465fd862f1ee38299d2b2\"\n",
            "    },\n",
            "    {\n",
            "        \"index\": 5,\n",
            "        \"previous_hash\": \"f61ac08f3b1090f824befb1e40cf01b8a2102fb4c65465fd862f1ee38299d2b2\",\n",
            "        \"timestamp\": 1721198162,\n",
            "        \"data\": \"Block 2 Data\",\n",
            "        \"hash\": \"1016692d2ff3de9541b0180f18b2ad1e2dcf9175904c484757b071c799983ab0\"\n",
            "    },\n",
            "    {\n",
            "        \"index\": 6,\n",
            "        \"previous_hash\": \"1016692d2ff3de9541b0180f18b2ad1e2dcf9175904c484757b071c799983ab0\",\n",
            "        \"timestamp\": 1721198162,\n",
            "        \"data\": \"\\ndef contract_function(storage):\\n    storage['counter'] = storage.get('counter', 0) + 1\\n    print(f\\\"Counter value: {storage['counter']}\\\")\\ncontract_function(storage)\\n\",\n",
            "        \"hash\": \"53eca47bf6b69ce5e0f72324509439904ffc2b37d7c54cf35d9b1601e439042e\"\n",
            "    },\n",
            "    {\n",
            "        \"index\": 7,\n",
            "        \"previous_hash\": \"53eca47bf6b69ce5e0f72324509439904ffc2b37d7c54cf35d9b1601e439042e\",\n",
            "        \"timestamp\": 1721198162,\n",
            "        \"data\": \"{\\\"type\\\": \\\"mint\\\", \\\"owner\\\": \\\"0xfeedfacefeedfacefeedfacefeedfacefeedface\\\", \\\"tokenId\\\": \\\"8b77fa5c5a4ba9119bd9258672bc9f59884b884ff9f187002d635b1d1a773aa8\\\", \\\"metadata\\\": \\\"https://example2.co.id\\\"}\",\n",
            "        \"hash\": \"be921243df3df864830db7a53f21ec9b1b94f868e52b4942f60ed1f8a3467020\"\n",
            "    },\n",
            "    {\n",
            "        \"index\": 8,\n",
            "        \"previous_hash\": \"be921243df3df864830db7a53f21ec9b1b94f868e52b4942f60ed1f8a3467020\",\n",
            "        \"timestamp\": 1721198162,\n",
            "        \"data\": \"{\\\"type\\\": \\\"transfer\\\", \\\"from\\\": \\\"0xfeedfacefeedfacefeedfacefeedfacefeedface\\\", \\\"to\\\": \\\"0xbadc0ffeebadc0ffeebadc0ffeebadc0ffeebadc\\\", \\\"tokenId\\\": \\\"8b77fa5c5a4ba9119bd9258672bc9f59884b884ff9f187002d635b1d1a773aa8\\\"}\",\n",
            "        \"hash\": \"d5d424efb1ea3e99392ecd887e7523589af6af736fdde76c5bd5b6646cef6d1e\"\n",
            "    },\n",
            "    {\n",
            "        \"index\": 9,\n",
            "        \"previous_hash\": \"d5d424efb1ea3e99392ecd887e7523589af6af736fdde76c5bd5b6646cef6d1e\",\n",
            "        \"timestamp\": 1721198162,\n",
            "        \"data\": \"{\\\"type\\\": \\\"mint_fungible\\\", \\\"to\\\": \\\"0xabc\\\", \\\"amount\\\": 1000}\",\n",
            "        \"hash\": \"72a1768cc4bff4bff81fbff211073a937410e333198c7061c635481ce30718ff\"\n",
            "    },\n",
            "    {\n",
            "        \"index\": 10,\n",
            "        \"previous_hash\": \"72a1768cc4bff4bff81fbff211073a937410e333198c7061c635481ce30718ff\",\n",
            "        \"timestamp\": 1721198162,\n",
            "        \"data\": \"{\\\"type\\\": \\\"mint_fungible\\\", \\\"to\\\": \\\"0xdef\\\", \\\"amount\\\": 500}\",\n",
            "        \"hash\": \"df99ea558a675e2485ad40ed894173d894edc841d61f40682171e4e3b99ff853\"\n",
            "    },\n",
            "    {\n",
            "        \"index\": 11,\n",
            "        \"previous_hash\": \"df99ea558a675e2485ad40ed894173d894edc841d61f40682171e4e3b99ff853\",\n",
            "        \"timestamp\": 1721198162,\n",
            "        \"data\": \"{\\\"type\\\": \\\"transfer_fungible\\\", \\\"from\\\": \\\"0xabc\\\", \\\"to\\\": \\\"0xdef\\\", \\\"amount\\\": 200}\",\n",
            "        \"hash\": \"34e2e3635e5b5b05e5fcc1e28cb214a69c5f1ea88f9d4c132f071b1478a7745c\"\n",
            "    },\n",
            "    {\n",
            "        \"index\": 12,\n",
            "        \"previous_hash\": \"34e2e3635e5b5b05e5fcc1e28cb214a69c5f1ea88f9d4c132f071b1478a7745c\",\n",
            "        \"timestamp\": 1721198170,\n",
            "        \"data\": \"Block 1 Data\",\n",
            "        \"hash\": \"cf5f39494365e35bb3f51a240cb400e9a5a5d015b81cbc60ab2a2c97839bc558\"\n",
            "    },\n",
            "    {\n",
            "        \"index\": 13,\n",
            "        \"previous_hash\": \"cf5f39494365e35bb3f51a240cb400e9a5a5d015b81cbc60ab2a2c97839bc558\",\n",
            "        \"timestamp\": 1721198170,\n",
            "        \"data\": \"Block 2 Data\",\n",
            "        \"hash\": \"f0f5087984ad11d754790109ee18d86809feed26e425e7741c28d5f6d1b755da\"\n",
            "    },\n",
            "    {\n",
            "        \"index\": 14,\n",
            "        \"previous_hash\": \"f0f5087984ad11d754790109ee18d86809feed26e425e7741c28d5f6d1b755da\",\n",
            "        \"timestamp\": 1721198184,\n",
            "        \"data\": \"Block 1 Data\",\n",
            "        \"hash\": \"e1d3c0fc9db6284df086527f556eec22148f4173eb713a3500185b57c3c3cc10\"\n",
            "    },\n",
            "    {\n",
            "        \"index\": 15,\n",
            "        \"previous_hash\": \"e1d3c0fc9db6284df086527f556eec22148f4173eb713a3500185b57c3c3cc10\",\n",
            "        \"timestamp\": 1721198202,\n",
            "        \"data\": \"Block 2 Data\",\n",
            "        \"hash\": \"fd7a1c98dc55e59266de0e6d8e0d66157afebf0825c397508a06a10a3498e52f\"\n",
            "    }\n",
            "]\n"
          ]
        }
      ]
    },
    {
      "cell_type": "markdown",
      "source": [
        "### Demo Proof of Byzantine Fault Tolerance"
      ],
      "metadata": {
        "id": "bXOPxGgXaNXW"
      }
    },
    {
      "cell_type": "code",
      "source": [
        "validators = [\"Alice\", \"Bob\", \"Charlie\", \"David\"]\n",
        "faulty_validators = [\"Charlie\"]\n",
        "\n",
        "bft = ByzantineFaultTolerance(validators, faulty_validators)"
      ],
      "metadata": {
        "id": "4UdoPgxOYorf"
      },
      "execution_count": 39,
      "outputs": []
    },
    {
      "cell_type": "code",
      "source": [
        "blockchain_bft = Blockchain(bft)\n",
        "blockchain_bft.add_block('Block 1 Data')\n",
        "blockchain_bft.add_block('Block 2 Data')"
      ],
      "metadata": {
        "colab": {
          "base_uri": "https://localhost:8080/"
        },
        "id": "g5iIhUlKYvyw",
        "outputId": "ba491634-1a73-403c-e0e7-19df042ac8a1"
      },
      "execution_count": 40,
      "outputs": [
        {
          "output_type": "stream",
          "name": "stdout",
          "text": [
            "Block #16 created by Bob using BFT\n",
            "Block #17 created by David using BFT\n"
          ]
        }
      ]
    },
    {
      "cell_type": "code",
      "source": [
        "print(\"Blockchain content with BFT in JSON:\")\n",
        "print(blockchain_bft.to_json())"
      ],
      "metadata": {
        "collapsed": true,
        "colab": {
          "base_uri": "https://localhost:8080/"
        },
        "id": "zYR3HMtKYyBU",
        "outputId": "eb4a0331-5fef-4f9e-ef54-a733c5f9e001"
      },
      "execution_count": 41,
      "outputs": [
        {
          "output_type": "stream",
          "name": "stdout",
          "text": [
            "Blockchain content with BFT in JSON:\n",
            "[\n",
            "    {\n",
            "        \"index\": 0,\n",
            "        \"previous_hash\": \"0\",\n",
            "        \"timestamp\": 1721198153,\n",
            "        \"data\": \"Genesis Block\",\n",
            "        \"hash\": \"febe648ded6e5230405553b9a63b02c23a0629c231988682529bc9104601eca0\"\n",
            "    },\n",
            "    {\n",
            "        \"index\": 1,\n",
            "        \"previous_hash\": \"febe648ded6e5230405553b9a63b02c23a0629c231988682529bc9104601eca0\",\n",
            "        \"timestamp\": 1721198153,\n",
            "        \"data\": \"Block 1 data\",\n",
            "        \"hash\": \"75c7dfeb1729699bf810ec7b48bb578d9cc87fae33c45fef604e063738501816\"\n",
            "    },\n",
            "    {\n",
            "        \"index\": 2,\n",
            "        \"previous_hash\": \"75c7dfeb1729699bf810ec7b48bb578d9cc87fae33c45fef604e063738501816\",\n",
            "        \"timestamp\": 1721198153,\n",
            "        \"data\": \"Block 2 data\",\n",
            "        \"hash\": \"47b272f4ae590dc89331bc74353cab3de39b0d870e6cea012dbaa65b5ce2e591\"\n",
            "    },\n",
            "    {\n",
            "        \"index\": 3,\n",
            "        \"previous_hash\": \"47b272f4ae590dc89331bc74353cab3de39b0d870e6cea012dbaa65b5ce2e591\",\n",
            "        \"timestamp\": 1721198153,\n",
            "        \"data\": \"Block 3 data\",\n",
            "        \"hash\": \"e1a1ddcb2a50bc977108c0c3267023b717c37377428e822840ec22689936aee5\"\n",
            "    },\n",
            "    {\n",
            "        \"index\": 4,\n",
            "        \"previous_hash\": \"e1a1ddcb2a50bc977108c0c3267023b717c37377428e822840ec22689936aee5\",\n",
            "        \"timestamp\": 1721198162,\n",
            "        \"data\": \"Block 1 Data\",\n",
            "        \"hash\": \"f61ac08f3b1090f824befb1e40cf01b8a2102fb4c65465fd862f1ee38299d2b2\"\n",
            "    },\n",
            "    {\n",
            "        \"index\": 5,\n",
            "        \"previous_hash\": \"f61ac08f3b1090f824befb1e40cf01b8a2102fb4c65465fd862f1ee38299d2b2\",\n",
            "        \"timestamp\": 1721198162,\n",
            "        \"data\": \"Block 2 Data\",\n",
            "        \"hash\": \"1016692d2ff3de9541b0180f18b2ad1e2dcf9175904c484757b071c799983ab0\"\n",
            "    },\n",
            "    {\n",
            "        \"index\": 6,\n",
            "        \"previous_hash\": \"1016692d2ff3de9541b0180f18b2ad1e2dcf9175904c484757b071c799983ab0\",\n",
            "        \"timestamp\": 1721198162,\n",
            "        \"data\": \"\\ndef contract_function(storage):\\n    storage['counter'] = storage.get('counter', 0) + 1\\n    print(f\\\"Counter value: {storage['counter']}\\\")\\ncontract_function(storage)\\n\",\n",
            "        \"hash\": \"53eca47bf6b69ce5e0f72324509439904ffc2b37d7c54cf35d9b1601e439042e\"\n",
            "    },\n",
            "    {\n",
            "        \"index\": 7,\n",
            "        \"previous_hash\": \"53eca47bf6b69ce5e0f72324509439904ffc2b37d7c54cf35d9b1601e439042e\",\n",
            "        \"timestamp\": 1721198162,\n",
            "        \"data\": \"{\\\"type\\\": \\\"mint\\\", \\\"owner\\\": \\\"0xfeedfacefeedfacefeedfacefeedfacefeedface\\\", \\\"tokenId\\\": \\\"8b77fa5c5a4ba9119bd9258672bc9f59884b884ff9f187002d635b1d1a773aa8\\\", \\\"metadata\\\": \\\"https://example2.co.id\\\"}\",\n",
            "        \"hash\": \"be921243df3df864830db7a53f21ec9b1b94f868e52b4942f60ed1f8a3467020\"\n",
            "    },\n",
            "    {\n",
            "        \"index\": 8,\n",
            "        \"previous_hash\": \"be921243df3df864830db7a53f21ec9b1b94f868e52b4942f60ed1f8a3467020\",\n",
            "        \"timestamp\": 1721198162,\n",
            "        \"data\": \"{\\\"type\\\": \\\"transfer\\\", \\\"from\\\": \\\"0xfeedfacefeedfacefeedfacefeedfacefeedface\\\", \\\"to\\\": \\\"0xbadc0ffeebadc0ffeebadc0ffeebadc0ffeebadc\\\", \\\"tokenId\\\": \\\"8b77fa5c5a4ba9119bd9258672bc9f59884b884ff9f187002d635b1d1a773aa8\\\"}\",\n",
            "        \"hash\": \"d5d424efb1ea3e99392ecd887e7523589af6af736fdde76c5bd5b6646cef6d1e\"\n",
            "    },\n",
            "    {\n",
            "        \"index\": 9,\n",
            "        \"previous_hash\": \"d5d424efb1ea3e99392ecd887e7523589af6af736fdde76c5bd5b6646cef6d1e\",\n",
            "        \"timestamp\": 1721198162,\n",
            "        \"data\": \"{\\\"type\\\": \\\"mint_fungible\\\", \\\"to\\\": \\\"0xabc\\\", \\\"amount\\\": 1000}\",\n",
            "        \"hash\": \"72a1768cc4bff4bff81fbff211073a937410e333198c7061c635481ce30718ff\"\n",
            "    },\n",
            "    {\n",
            "        \"index\": 10,\n",
            "        \"previous_hash\": \"72a1768cc4bff4bff81fbff211073a937410e333198c7061c635481ce30718ff\",\n",
            "        \"timestamp\": 1721198162,\n",
            "        \"data\": \"{\\\"type\\\": \\\"mint_fungible\\\", \\\"to\\\": \\\"0xdef\\\", \\\"amount\\\": 500}\",\n",
            "        \"hash\": \"df99ea558a675e2485ad40ed894173d894edc841d61f40682171e4e3b99ff853\"\n",
            "    },\n",
            "    {\n",
            "        \"index\": 11,\n",
            "        \"previous_hash\": \"df99ea558a675e2485ad40ed894173d894edc841d61f40682171e4e3b99ff853\",\n",
            "        \"timestamp\": 1721198162,\n",
            "        \"data\": \"{\\\"type\\\": \\\"transfer_fungible\\\", \\\"from\\\": \\\"0xabc\\\", \\\"to\\\": \\\"0xdef\\\", \\\"amount\\\": 200}\",\n",
            "        \"hash\": \"34e2e3635e5b5b05e5fcc1e28cb214a69c5f1ea88f9d4c132f071b1478a7745c\"\n",
            "    },\n",
            "    {\n",
            "        \"index\": 12,\n",
            "        \"previous_hash\": \"34e2e3635e5b5b05e5fcc1e28cb214a69c5f1ea88f9d4c132f071b1478a7745c\",\n",
            "        \"timestamp\": 1721198170,\n",
            "        \"data\": \"Block 1 Data\",\n",
            "        \"hash\": \"cf5f39494365e35bb3f51a240cb400e9a5a5d015b81cbc60ab2a2c97839bc558\"\n",
            "    },\n",
            "    {\n",
            "        \"index\": 13,\n",
            "        \"previous_hash\": \"cf5f39494365e35bb3f51a240cb400e9a5a5d015b81cbc60ab2a2c97839bc558\",\n",
            "        \"timestamp\": 1721198170,\n",
            "        \"data\": \"Block 2 Data\",\n",
            "        \"hash\": \"f0f5087984ad11d754790109ee18d86809feed26e425e7741c28d5f6d1b755da\"\n",
            "    },\n",
            "    {\n",
            "        \"index\": 14,\n",
            "        \"previous_hash\": \"f0f5087984ad11d754790109ee18d86809feed26e425e7741c28d5f6d1b755da\",\n",
            "        \"timestamp\": 1721198184,\n",
            "        \"data\": \"Block 1 Data\",\n",
            "        \"hash\": \"e1d3c0fc9db6284df086527f556eec22148f4173eb713a3500185b57c3c3cc10\"\n",
            "    },\n",
            "    {\n",
            "        \"index\": 15,\n",
            "        \"previous_hash\": \"e1d3c0fc9db6284df086527f556eec22148f4173eb713a3500185b57c3c3cc10\",\n",
            "        \"timestamp\": 1721198202,\n",
            "        \"data\": \"Block 2 Data\",\n",
            "        \"hash\": \"fd7a1c98dc55e59266de0e6d8e0d66157afebf0825c397508a06a10a3498e52f\"\n",
            "    },\n",
            "    {\n",
            "        \"index\": 16,\n",
            "        \"previous_hash\": \"fd7a1c98dc55e59266de0e6d8e0d66157afebf0825c397508a06a10a3498e52f\",\n",
            "        \"timestamp\": 1721198244,\n",
            "        \"data\": \"Block 1 Data\",\n",
            "        \"hash\": \"fb99cd699219529d88a1b903e043cb28f8446418a8874f89f5aa3f5f23208789\"\n",
            "    },\n",
            "    {\n",
            "        \"index\": 17,\n",
            "        \"previous_hash\": \"fb99cd699219529d88a1b903e043cb28f8446418a8874f89f5aa3f5f23208789\",\n",
            "        \"timestamp\": 1721198244,\n",
            "        \"data\": \"Block 2 Data\",\n",
            "        \"hash\": \"4cd6aa99b6fe473a2163787892b45874678bcac619593b1946a815da16f34c58\"\n",
            "    }\n",
            "]\n"
          ]
        }
      ]
    },
    {
      "cell_type": "markdown",
      "source": [
        "### Demo Proof of Authority"
      ],
      "metadata": {
        "id": "DDY_SVlNgEdf"
      }
    },
    {
      "cell_type": "code",
      "source": [
        "authorities = [\"Alice\", \"Bob\", \"Charlie\"]\n",
        "\n",
        "poa = ProofOfAuthority(authorities)"
      ],
      "metadata": {
        "id": "WqeS53y2f-OU"
      },
      "execution_count": 42,
      "outputs": []
    },
    {
      "cell_type": "code",
      "source": [
        "blockchain_poa = Blockchain(poa)\n",
        "blockchain_poa.add_block('Block 1 Data')\n",
        "blockchain_poa.add_block('Block 2 Data')"
      ],
      "metadata": {
        "id": "PSoOsXZCgq1p",
        "outputId": "f522c464-d591-43fc-dd26-a5a44ef51856",
        "colab": {
          "base_uri": "https://localhost:8080/"
        }
      },
      "execution_count": 43,
      "outputs": [
        {
          "output_type": "stream",
          "name": "stdout",
          "text": [
            "Block #18 created by Bob using PoA\n",
            "Block #19 created by Alice using PoA\n"
          ]
        }
      ]
    },
    {
      "cell_type": "code",
      "source": [
        "print(\"Blockchain content with PoA in JSON:\")\n",
        "print(blockchain_poa.to_json())"
      ],
      "metadata": {
        "collapsed": true,
        "id": "mqi0bAcChL7w",
        "outputId": "5d6c953a-4642-411a-9c36-8280a7fa454a",
        "colab": {
          "base_uri": "https://localhost:8080/"
        }
      },
      "execution_count": 44,
      "outputs": [
        {
          "output_type": "stream",
          "name": "stdout",
          "text": [
            "Blockchain content with PoA in JSON:\n",
            "[\n",
            "    {\n",
            "        \"index\": 0,\n",
            "        \"previous_hash\": \"0\",\n",
            "        \"timestamp\": 1721198153,\n",
            "        \"data\": \"Genesis Block\",\n",
            "        \"hash\": \"febe648ded6e5230405553b9a63b02c23a0629c231988682529bc9104601eca0\"\n",
            "    },\n",
            "    {\n",
            "        \"index\": 1,\n",
            "        \"previous_hash\": \"febe648ded6e5230405553b9a63b02c23a0629c231988682529bc9104601eca0\",\n",
            "        \"timestamp\": 1721198153,\n",
            "        \"data\": \"Block 1 data\",\n",
            "        \"hash\": \"75c7dfeb1729699bf810ec7b48bb578d9cc87fae33c45fef604e063738501816\"\n",
            "    },\n",
            "    {\n",
            "        \"index\": 2,\n",
            "        \"previous_hash\": \"75c7dfeb1729699bf810ec7b48bb578d9cc87fae33c45fef604e063738501816\",\n",
            "        \"timestamp\": 1721198153,\n",
            "        \"data\": \"Block 2 data\",\n",
            "        \"hash\": \"47b272f4ae590dc89331bc74353cab3de39b0d870e6cea012dbaa65b5ce2e591\"\n",
            "    },\n",
            "    {\n",
            "        \"index\": 3,\n",
            "        \"previous_hash\": \"47b272f4ae590dc89331bc74353cab3de39b0d870e6cea012dbaa65b5ce2e591\",\n",
            "        \"timestamp\": 1721198153,\n",
            "        \"data\": \"Block 3 data\",\n",
            "        \"hash\": \"e1a1ddcb2a50bc977108c0c3267023b717c37377428e822840ec22689936aee5\"\n",
            "    },\n",
            "    {\n",
            "        \"index\": 4,\n",
            "        \"previous_hash\": \"e1a1ddcb2a50bc977108c0c3267023b717c37377428e822840ec22689936aee5\",\n",
            "        \"timestamp\": 1721198162,\n",
            "        \"data\": \"Block 1 Data\",\n",
            "        \"hash\": \"f61ac08f3b1090f824befb1e40cf01b8a2102fb4c65465fd862f1ee38299d2b2\"\n",
            "    },\n",
            "    {\n",
            "        \"index\": 5,\n",
            "        \"previous_hash\": \"f61ac08f3b1090f824befb1e40cf01b8a2102fb4c65465fd862f1ee38299d2b2\",\n",
            "        \"timestamp\": 1721198162,\n",
            "        \"data\": \"Block 2 Data\",\n",
            "        \"hash\": \"1016692d2ff3de9541b0180f18b2ad1e2dcf9175904c484757b071c799983ab0\"\n",
            "    },\n",
            "    {\n",
            "        \"index\": 6,\n",
            "        \"previous_hash\": \"1016692d2ff3de9541b0180f18b2ad1e2dcf9175904c484757b071c799983ab0\",\n",
            "        \"timestamp\": 1721198162,\n",
            "        \"data\": \"\\ndef contract_function(storage):\\n    storage['counter'] = storage.get('counter', 0) + 1\\n    print(f\\\"Counter value: {storage['counter']}\\\")\\ncontract_function(storage)\\n\",\n",
            "        \"hash\": \"53eca47bf6b69ce5e0f72324509439904ffc2b37d7c54cf35d9b1601e439042e\"\n",
            "    },\n",
            "    {\n",
            "        \"index\": 7,\n",
            "        \"previous_hash\": \"53eca47bf6b69ce5e0f72324509439904ffc2b37d7c54cf35d9b1601e439042e\",\n",
            "        \"timestamp\": 1721198162,\n",
            "        \"data\": \"{\\\"type\\\": \\\"mint\\\", \\\"owner\\\": \\\"0xfeedfacefeedfacefeedfacefeedfacefeedface\\\", \\\"tokenId\\\": \\\"8b77fa5c5a4ba9119bd9258672bc9f59884b884ff9f187002d635b1d1a773aa8\\\", \\\"metadata\\\": \\\"https://example2.co.id\\\"}\",\n",
            "        \"hash\": \"be921243df3df864830db7a53f21ec9b1b94f868e52b4942f60ed1f8a3467020\"\n",
            "    },\n",
            "    {\n",
            "        \"index\": 8,\n",
            "        \"previous_hash\": \"be921243df3df864830db7a53f21ec9b1b94f868e52b4942f60ed1f8a3467020\",\n",
            "        \"timestamp\": 1721198162,\n",
            "        \"data\": \"{\\\"type\\\": \\\"transfer\\\", \\\"from\\\": \\\"0xfeedfacefeedfacefeedfacefeedfacefeedface\\\", \\\"to\\\": \\\"0xbadc0ffeebadc0ffeebadc0ffeebadc0ffeebadc\\\", \\\"tokenId\\\": \\\"8b77fa5c5a4ba9119bd9258672bc9f59884b884ff9f187002d635b1d1a773aa8\\\"}\",\n",
            "        \"hash\": \"d5d424efb1ea3e99392ecd887e7523589af6af736fdde76c5bd5b6646cef6d1e\"\n",
            "    },\n",
            "    {\n",
            "        \"index\": 9,\n",
            "        \"previous_hash\": \"d5d424efb1ea3e99392ecd887e7523589af6af736fdde76c5bd5b6646cef6d1e\",\n",
            "        \"timestamp\": 1721198162,\n",
            "        \"data\": \"{\\\"type\\\": \\\"mint_fungible\\\", \\\"to\\\": \\\"0xabc\\\", \\\"amount\\\": 1000}\",\n",
            "        \"hash\": \"72a1768cc4bff4bff81fbff211073a937410e333198c7061c635481ce30718ff\"\n",
            "    },\n",
            "    {\n",
            "        \"index\": 10,\n",
            "        \"previous_hash\": \"72a1768cc4bff4bff81fbff211073a937410e333198c7061c635481ce30718ff\",\n",
            "        \"timestamp\": 1721198162,\n",
            "        \"data\": \"{\\\"type\\\": \\\"mint_fungible\\\", \\\"to\\\": \\\"0xdef\\\", \\\"amount\\\": 500}\",\n",
            "        \"hash\": \"df99ea558a675e2485ad40ed894173d894edc841d61f40682171e4e3b99ff853\"\n",
            "    },\n",
            "    {\n",
            "        \"index\": 11,\n",
            "        \"previous_hash\": \"df99ea558a675e2485ad40ed894173d894edc841d61f40682171e4e3b99ff853\",\n",
            "        \"timestamp\": 1721198162,\n",
            "        \"data\": \"{\\\"type\\\": \\\"transfer_fungible\\\", \\\"from\\\": \\\"0xabc\\\", \\\"to\\\": \\\"0xdef\\\", \\\"amount\\\": 200}\",\n",
            "        \"hash\": \"34e2e3635e5b5b05e5fcc1e28cb214a69c5f1ea88f9d4c132f071b1478a7745c\"\n",
            "    },\n",
            "    {\n",
            "        \"index\": 12,\n",
            "        \"previous_hash\": \"34e2e3635e5b5b05e5fcc1e28cb214a69c5f1ea88f9d4c132f071b1478a7745c\",\n",
            "        \"timestamp\": 1721198170,\n",
            "        \"data\": \"Block 1 Data\",\n",
            "        \"hash\": \"cf5f39494365e35bb3f51a240cb400e9a5a5d015b81cbc60ab2a2c97839bc558\"\n",
            "    },\n",
            "    {\n",
            "        \"index\": 13,\n",
            "        \"previous_hash\": \"cf5f39494365e35bb3f51a240cb400e9a5a5d015b81cbc60ab2a2c97839bc558\",\n",
            "        \"timestamp\": 1721198170,\n",
            "        \"data\": \"Block 2 Data\",\n",
            "        \"hash\": \"f0f5087984ad11d754790109ee18d86809feed26e425e7741c28d5f6d1b755da\"\n",
            "    },\n",
            "    {\n",
            "        \"index\": 14,\n",
            "        \"previous_hash\": \"f0f5087984ad11d754790109ee18d86809feed26e425e7741c28d5f6d1b755da\",\n",
            "        \"timestamp\": 1721198184,\n",
            "        \"data\": \"Block 1 Data\",\n",
            "        \"hash\": \"e1d3c0fc9db6284df086527f556eec22148f4173eb713a3500185b57c3c3cc10\"\n",
            "    },\n",
            "    {\n",
            "        \"index\": 15,\n",
            "        \"previous_hash\": \"e1d3c0fc9db6284df086527f556eec22148f4173eb713a3500185b57c3c3cc10\",\n",
            "        \"timestamp\": 1721198202,\n",
            "        \"data\": \"Block 2 Data\",\n",
            "        \"hash\": \"fd7a1c98dc55e59266de0e6d8e0d66157afebf0825c397508a06a10a3498e52f\"\n",
            "    },\n",
            "    {\n",
            "        \"index\": 16,\n",
            "        \"previous_hash\": \"fd7a1c98dc55e59266de0e6d8e0d66157afebf0825c397508a06a10a3498e52f\",\n",
            "        \"timestamp\": 1721198244,\n",
            "        \"data\": \"Block 1 Data\",\n",
            "        \"hash\": \"fb99cd699219529d88a1b903e043cb28f8446418a8874f89f5aa3f5f23208789\"\n",
            "    },\n",
            "    {\n",
            "        \"index\": 17,\n",
            "        \"previous_hash\": \"fb99cd699219529d88a1b903e043cb28f8446418a8874f89f5aa3f5f23208789\",\n",
            "        \"timestamp\": 1721198244,\n",
            "        \"data\": \"Block 2 Data\",\n",
            "        \"hash\": \"4cd6aa99b6fe473a2163787892b45874678bcac619593b1946a815da16f34c58\"\n",
            "    },\n",
            "    {\n",
            "        \"index\": 18,\n",
            "        \"previous_hash\": \"4cd6aa99b6fe473a2163787892b45874678bcac619593b1946a815da16f34c58\",\n",
            "        \"timestamp\": 1721198249,\n",
            "        \"data\": \"Block 1 Data\",\n",
            "        \"hash\": \"11d647a79b6eb3576c62c1c1b970fdd4b2913fc7d3b5aff6a8a85db7fec03bfa\"\n",
            "    },\n",
            "    {\n",
            "        \"index\": 19,\n",
            "        \"previous_hash\": \"11d647a79b6eb3576c62c1c1b970fdd4b2913fc7d3b5aff6a8a85db7fec03bfa\",\n",
            "        \"timestamp\": 1721198249,\n",
            "        \"data\": \"Block 2 Data\",\n",
            "        \"hash\": \"45e8024d7caaae97c7c1f9efd2def0256e1a14dff6734ef317bb7894b0edd451\"\n",
            "    }\n",
            "]\n"
          ]
        }
      ]
    },
    {
      "cell_type": "markdown",
      "source": [
        "### Demo Proof Of Participants"
      ],
      "metadata": {
        "id": "BULh502-v2D0"
      }
    },
    {
      "cell_type": "code",
      "source": [
        "# Create a Proof of Participants consensus protocol\n",
        "pop_protocol = ProofOfParticipants()\n",
        "\n",
        "# Register participants\n",
        "pop_protocol.add_participant(\"Alice\")\n",
        "pop_protocol.add_participant(\"Bob\")\n",
        "pop_protocol.add_participant(\"Charlie\")\n",
        "\n",
        "# Create a MyBlockchain instance using the Proof of Participants consensus protocol\n",
        "blockchain_pop = MyBlockchain(pop_protocol)\n",
        "\n",
        "# Add some blocks to the blockchain\n",
        "blockchain_pop.add_block(\"Block 1 data\")\n",
        "blockchain_pop.add_block(\"Block 2 data\")\n",
        "blockchain_pop.add_block(\"Block 3 data\")\n",
        "\n",
        "# Print the blockchain\n",
        "for block in blockchain_pop.chain:\n",
        "    print(block.to_dict())\n",
        "\n",
        "print(blockchain_pop.to_json())"
      ],
      "metadata": {
        "colab": {
          "base_uri": "https://localhost:8080/"
        },
        "collapsed": true,
        "id": "-zHUdf9zYHxl",
        "outputId": "7777569e-cd97-420e-de2d-85a3178b71ed"
      },
      "execution_count": 45,
      "outputs": [
        {
          "output_type": "stream",
          "name": "stdout",
          "text": [
            "Block #20 created by Charlie using PoP\n",
            "Block #21 created by Alice using PoP\n",
            "Block #22 created by Bob using PoP\n",
            "{'index': 0, 'previous_hash': '0', 'timestamp': 1721198153, 'data': 'Genesis Block', 'hash': 'febe648ded6e5230405553b9a63b02c23a0629c231988682529bc9104601eca0'}\n",
            "{'index': 1, 'previous_hash': 'febe648ded6e5230405553b9a63b02c23a0629c231988682529bc9104601eca0', 'timestamp': 1721198153, 'data': 'Block 1 data', 'hash': '75c7dfeb1729699bf810ec7b48bb578d9cc87fae33c45fef604e063738501816'}\n",
            "{'index': 2, 'previous_hash': '75c7dfeb1729699bf810ec7b48bb578d9cc87fae33c45fef604e063738501816', 'timestamp': 1721198153, 'data': 'Block 2 data', 'hash': '47b272f4ae590dc89331bc74353cab3de39b0d870e6cea012dbaa65b5ce2e591'}\n",
            "{'index': 3, 'previous_hash': '47b272f4ae590dc89331bc74353cab3de39b0d870e6cea012dbaa65b5ce2e591', 'timestamp': 1721198153, 'data': 'Block 3 data', 'hash': 'e1a1ddcb2a50bc977108c0c3267023b717c37377428e822840ec22689936aee5'}\n",
            "{'index': 4, 'previous_hash': 'e1a1ddcb2a50bc977108c0c3267023b717c37377428e822840ec22689936aee5', 'timestamp': 1721198162, 'data': 'Block 1 Data', 'hash': 'f61ac08f3b1090f824befb1e40cf01b8a2102fb4c65465fd862f1ee38299d2b2'}\n",
            "{'index': 5, 'previous_hash': 'f61ac08f3b1090f824befb1e40cf01b8a2102fb4c65465fd862f1ee38299d2b2', 'timestamp': 1721198162, 'data': 'Block 2 Data', 'hash': '1016692d2ff3de9541b0180f18b2ad1e2dcf9175904c484757b071c799983ab0'}\n",
            "{'index': 6, 'previous_hash': '1016692d2ff3de9541b0180f18b2ad1e2dcf9175904c484757b071c799983ab0', 'timestamp': 1721198162, 'data': '\\ndef contract_function(storage):\\n    storage[\\'counter\\'] = storage.get(\\'counter\\', 0) + 1\\n    print(f\"Counter value: {storage[\\'counter\\']}\")\\ncontract_function(storage)\\n', 'hash': '53eca47bf6b69ce5e0f72324509439904ffc2b37d7c54cf35d9b1601e439042e'}\n",
            "{'index': 7, 'previous_hash': '53eca47bf6b69ce5e0f72324509439904ffc2b37d7c54cf35d9b1601e439042e', 'timestamp': 1721198162, 'data': '{\"type\": \"mint\", \"owner\": \"0xfeedfacefeedfacefeedfacefeedfacefeedface\", \"tokenId\": \"8b77fa5c5a4ba9119bd9258672bc9f59884b884ff9f187002d635b1d1a773aa8\", \"metadata\": \"https://example2.co.id\"}', 'hash': 'be921243df3df864830db7a53f21ec9b1b94f868e52b4942f60ed1f8a3467020'}\n",
            "{'index': 8, 'previous_hash': 'be921243df3df864830db7a53f21ec9b1b94f868e52b4942f60ed1f8a3467020', 'timestamp': 1721198162, 'data': '{\"type\": \"transfer\", \"from\": \"0xfeedfacefeedfacefeedfacefeedfacefeedface\", \"to\": \"0xbadc0ffeebadc0ffeebadc0ffeebadc0ffeebadc\", \"tokenId\": \"8b77fa5c5a4ba9119bd9258672bc9f59884b884ff9f187002d635b1d1a773aa8\"}', 'hash': 'd5d424efb1ea3e99392ecd887e7523589af6af736fdde76c5bd5b6646cef6d1e'}\n",
            "{'index': 9, 'previous_hash': 'd5d424efb1ea3e99392ecd887e7523589af6af736fdde76c5bd5b6646cef6d1e', 'timestamp': 1721198162, 'data': '{\"type\": \"mint_fungible\", \"to\": \"0xabc\", \"amount\": 1000}', 'hash': '72a1768cc4bff4bff81fbff211073a937410e333198c7061c635481ce30718ff'}\n",
            "{'index': 10, 'previous_hash': '72a1768cc4bff4bff81fbff211073a937410e333198c7061c635481ce30718ff', 'timestamp': 1721198162, 'data': '{\"type\": \"mint_fungible\", \"to\": \"0xdef\", \"amount\": 500}', 'hash': 'df99ea558a675e2485ad40ed894173d894edc841d61f40682171e4e3b99ff853'}\n",
            "{'index': 11, 'previous_hash': 'df99ea558a675e2485ad40ed894173d894edc841d61f40682171e4e3b99ff853', 'timestamp': 1721198162, 'data': '{\"type\": \"transfer_fungible\", \"from\": \"0xabc\", \"to\": \"0xdef\", \"amount\": 200}', 'hash': '34e2e3635e5b5b05e5fcc1e28cb214a69c5f1ea88f9d4c132f071b1478a7745c'}\n",
            "{'index': 12, 'previous_hash': '34e2e3635e5b5b05e5fcc1e28cb214a69c5f1ea88f9d4c132f071b1478a7745c', 'timestamp': 1721198170, 'data': 'Block 1 Data', 'hash': 'cf5f39494365e35bb3f51a240cb400e9a5a5d015b81cbc60ab2a2c97839bc558'}\n",
            "{'index': 13, 'previous_hash': 'cf5f39494365e35bb3f51a240cb400e9a5a5d015b81cbc60ab2a2c97839bc558', 'timestamp': 1721198170, 'data': 'Block 2 Data', 'hash': 'f0f5087984ad11d754790109ee18d86809feed26e425e7741c28d5f6d1b755da'}\n",
            "{'index': 14, 'previous_hash': 'f0f5087984ad11d754790109ee18d86809feed26e425e7741c28d5f6d1b755da', 'timestamp': 1721198184, 'data': 'Block 1 Data', 'hash': 'e1d3c0fc9db6284df086527f556eec22148f4173eb713a3500185b57c3c3cc10'}\n",
            "{'index': 15, 'previous_hash': 'e1d3c0fc9db6284df086527f556eec22148f4173eb713a3500185b57c3c3cc10', 'timestamp': 1721198202, 'data': 'Block 2 Data', 'hash': 'fd7a1c98dc55e59266de0e6d8e0d66157afebf0825c397508a06a10a3498e52f'}\n",
            "{'index': 16, 'previous_hash': 'fd7a1c98dc55e59266de0e6d8e0d66157afebf0825c397508a06a10a3498e52f', 'timestamp': 1721198244, 'data': 'Block 1 Data', 'hash': 'fb99cd699219529d88a1b903e043cb28f8446418a8874f89f5aa3f5f23208789'}\n",
            "{'index': 17, 'previous_hash': 'fb99cd699219529d88a1b903e043cb28f8446418a8874f89f5aa3f5f23208789', 'timestamp': 1721198244, 'data': 'Block 2 Data', 'hash': '4cd6aa99b6fe473a2163787892b45874678bcac619593b1946a815da16f34c58'}\n",
            "{'index': 18, 'previous_hash': '4cd6aa99b6fe473a2163787892b45874678bcac619593b1946a815da16f34c58', 'timestamp': 1721198249, 'data': 'Block 1 Data', 'hash': '11d647a79b6eb3576c62c1c1b970fdd4b2913fc7d3b5aff6a8a85db7fec03bfa'}\n",
            "{'index': 19, 'previous_hash': '11d647a79b6eb3576c62c1c1b970fdd4b2913fc7d3b5aff6a8a85db7fec03bfa', 'timestamp': 1721198249, 'data': 'Block 2 Data', 'hash': '45e8024d7caaae97c7c1f9efd2def0256e1a14dff6734ef317bb7894b0edd451'}\n",
            "{'index': 20, 'previous_hash': '45e8024d7caaae97c7c1f9efd2def0256e1a14dff6734ef317bb7894b0edd451', 'timestamp': 1721198252, 'data': 'Block 1 data', 'hash': '370523c205e0aecb93606983e53e2282b0f91922f411d265f5237d04b398d3b9'}\n",
            "{'index': 21, 'previous_hash': '370523c205e0aecb93606983e53e2282b0f91922f411d265f5237d04b398d3b9', 'timestamp': 1721198252, 'data': 'Block 2 data', 'hash': '4aa935aec363b94a8783d9c09a24af3e8f961dac24979703c0e1cf4786b532de'}\n",
            "{'index': 22, 'previous_hash': '4aa935aec363b94a8783d9c09a24af3e8f961dac24979703c0e1cf4786b532de', 'timestamp': 1721198252, 'data': 'Block 3 data', 'hash': 'ed4591da2a3accb496f67fe663e276716574d304e16066501ad89b2164f1390b'}\n",
            "[\n",
            "    {\n",
            "        \"index\": 0,\n",
            "        \"previous_hash\": \"0\",\n",
            "        \"timestamp\": 1721198153,\n",
            "        \"data\": \"Genesis Block\",\n",
            "        \"hash\": \"febe648ded6e5230405553b9a63b02c23a0629c231988682529bc9104601eca0\"\n",
            "    },\n",
            "    {\n",
            "        \"index\": 1,\n",
            "        \"previous_hash\": \"febe648ded6e5230405553b9a63b02c23a0629c231988682529bc9104601eca0\",\n",
            "        \"timestamp\": 1721198153,\n",
            "        \"data\": \"Block 1 data\",\n",
            "        \"hash\": \"75c7dfeb1729699bf810ec7b48bb578d9cc87fae33c45fef604e063738501816\"\n",
            "    },\n",
            "    {\n",
            "        \"index\": 2,\n",
            "        \"previous_hash\": \"75c7dfeb1729699bf810ec7b48bb578d9cc87fae33c45fef604e063738501816\",\n",
            "        \"timestamp\": 1721198153,\n",
            "        \"data\": \"Block 2 data\",\n",
            "        \"hash\": \"47b272f4ae590dc89331bc74353cab3de39b0d870e6cea012dbaa65b5ce2e591\"\n",
            "    },\n",
            "    {\n",
            "        \"index\": 3,\n",
            "        \"previous_hash\": \"47b272f4ae590dc89331bc74353cab3de39b0d870e6cea012dbaa65b5ce2e591\",\n",
            "        \"timestamp\": 1721198153,\n",
            "        \"data\": \"Block 3 data\",\n",
            "        \"hash\": \"e1a1ddcb2a50bc977108c0c3267023b717c37377428e822840ec22689936aee5\"\n",
            "    },\n",
            "    {\n",
            "        \"index\": 4,\n",
            "        \"previous_hash\": \"e1a1ddcb2a50bc977108c0c3267023b717c37377428e822840ec22689936aee5\",\n",
            "        \"timestamp\": 1721198162,\n",
            "        \"data\": \"Block 1 Data\",\n",
            "        \"hash\": \"f61ac08f3b1090f824befb1e40cf01b8a2102fb4c65465fd862f1ee38299d2b2\"\n",
            "    },\n",
            "    {\n",
            "        \"index\": 5,\n",
            "        \"previous_hash\": \"f61ac08f3b1090f824befb1e40cf01b8a2102fb4c65465fd862f1ee38299d2b2\",\n",
            "        \"timestamp\": 1721198162,\n",
            "        \"data\": \"Block 2 Data\",\n",
            "        \"hash\": \"1016692d2ff3de9541b0180f18b2ad1e2dcf9175904c484757b071c799983ab0\"\n",
            "    },\n",
            "    {\n",
            "        \"index\": 6,\n",
            "        \"previous_hash\": \"1016692d2ff3de9541b0180f18b2ad1e2dcf9175904c484757b071c799983ab0\",\n",
            "        \"timestamp\": 1721198162,\n",
            "        \"data\": \"\\ndef contract_function(storage):\\n    storage['counter'] = storage.get('counter', 0) + 1\\n    print(f\\\"Counter value: {storage['counter']}\\\")\\ncontract_function(storage)\\n\",\n",
            "        \"hash\": \"53eca47bf6b69ce5e0f72324509439904ffc2b37d7c54cf35d9b1601e439042e\"\n",
            "    },\n",
            "    {\n",
            "        \"index\": 7,\n",
            "        \"previous_hash\": \"53eca47bf6b69ce5e0f72324509439904ffc2b37d7c54cf35d9b1601e439042e\",\n",
            "        \"timestamp\": 1721198162,\n",
            "        \"data\": \"{\\\"type\\\": \\\"mint\\\", \\\"owner\\\": \\\"0xfeedfacefeedfacefeedfacefeedfacefeedface\\\", \\\"tokenId\\\": \\\"8b77fa5c5a4ba9119bd9258672bc9f59884b884ff9f187002d635b1d1a773aa8\\\", \\\"metadata\\\": \\\"https://example2.co.id\\\"}\",\n",
            "        \"hash\": \"be921243df3df864830db7a53f21ec9b1b94f868e52b4942f60ed1f8a3467020\"\n",
            "    },\n",
            "    {\n",
            "        \"index\": 8,\n",
            "        \"previous_hash\": \"be921243df3df864830db7a53f21ec9b1b94f868e52b4942f60ed1f8a3467020\",\n",
            "        \"timestamp\": 1721198162,\n",
            "        \"data\": \"{\\\"type\\\": \\\"transfer\\\", \\\"from\\\": \\\"0xfeedfacefeedfacefeedfacefeedfacefeedface\\\", \\\"to\\\": \\\"0xbadc0ffeebadc0ffeebadc0ffeebadc0ffeebadc\\\", \\\"tokenId\\\": \\\"8b77fa5c5a4ba9119bd9258672bc9f59884b884ff9f187002d635b1d1a773aa8\\\"}\",\n",
            "        \"hash\": \"d5d424efb1ea3e99392ecd887e7523589af6af736fdde76c5bd5b6646cef6d1e\"\n",
            "    },\n",
            "    {\n",
            "        \"index\": 9,\n",
            "        \"previous_hash\": \"d5d424efb1ea3e99392ecd887e7523589af6af736fdde76c5bd5b6646cef6d1e\",\n",
            "        \"timestamp\": 1721198162,\n",
            "        \"data\": \"{\\\"type\\\": \\\"mint_fungible\\\", \\\"to\\\": \\\"0xabc\\\", \\\"amount\\\": 1000}\",\n",
            "        \"hash\": \"72a1768cc4bff4bff81fbff211073a937410e333198c7061c635481ce30718ff\"\n",
            "    },\n",
            "    {\n",
            "        \"index\": 10,\n",
            "        \"previous_hash\": \"72a1768cc4bff4bff81fbff211073a937410e333198c7061c635481ce30718ff\",\n",
            "        \"timestamp\": 1721198162,\n",
            "        \"data\": \"{\\\"type\\\": \\\"mint_fungible\\\", \\\"to\\\": \\\"0xdef\\\", \\\"amount\\\": 500}\",\n",
            "        \"hash\": \"df99ea558a675e2485ad40ed894173d894edc841d61f40682171e4e3b99ff853\"\n",
            "    },\n",
            "    {\n",
            "        \"index\": 11,\n",
            "        \"previous_hash\": \"df99ea558a675e2485ad40ed894173d894edc841d61f40682171e4e3b99ff853\",\n",
            "        \"timestamp\": 1721198162,\n",
            "        \"data\": \"{\\\"type\\\": \\\"transfer_fungible\\\", \\\"from\\\": \\\"0xabc\\\", \\\"to\\\": \\\"0xdef\\\", \\\"amount\\\": 200}\",\n",
            "        \"hash\": \"34e2e3635e5b5b05e5fcc1e28cb214a69c5f1ea88f9d4c132f071b1478a7745c\"\n",
            "    },\n",
            "    {\n",
            "        \"index\": 12,\n",
            "        \"previous_hash\": \"34e2e3635e5b5b05e5fcc1e28cb214a69c5f1ea88f9d4c132f071b1478a7745c\",\n",
            "        \"timestamp\": 1721198170,\n",
            "        \"data\": \"Block 1 Data\",\n",
            "        \"hash\": \"cf5f39494365e35bb3f51a240cb400e9a5a5d015b81cbc60ab2a2c97839bc558\"\n",
            "    },\n",
            "    {\n",
            "        \"index\": 13,\n",
            "        \"previous_hash\": \"cf5f39494365e35bb3f51a240cb400e9a5a5d015b81cbc60ab2a2c97839bc558\",\n",
            "        \"timestamp\": 1721198170,\n",
            "        \"data\": \"Block 2 Data\",\n",
            "        \"hash\": \"f0f5087984ad11d754790109ee18d86809feed26e425e7741c28d5f6d1b755da\"\n",
            "    },\n",
            "    {\n",
            "        \"index\": 14,\n",
            "        \"previous_hash\": \"f0f5087984ad11d754790109ee18d86809feed26e425e7741c28d5f6d1b755da\",\n",
            "        \"timestamp\": 1721198184,\n",
            "        \"data\": \"Block 1 Data\",\n",
            "        \"hash\": \"e1d3c0fc9db6284df086527f556eec22148f4173eb713a3500185b57c3c3cc10\"\n",
            "    },\n",
            "    {\n",
            "        \"index\": 15,\n",
            "        \"previous_hash\": \"e1d3c0fc9db6284df086527f556eec22148f4173eb713a3500185b57c3c3cc10\",\n",
            "        \"timestamp\": 1721198202,\n",
            "        \"data\": \"Block 2 Data\",\n",
            "        \"hash\": \"fd7a1c98dc55e59266de0e6d8e0d66157afebf0825c397508a06a10a3498e52f\"\n",
            "    },\n",
            "    {\n",
            "        \"index\": 16,\n",
            "        \"previous_hash\": \"fd7a1c98dc55e59266de0e6d8e0d66157afebf0825c397508a06a10a3498e52f\",\n",
            "        \"timestamp\": 1721198244,\n",
            "        \"data\": \"Block 1 Data\",\n",
            "        \"hash\": \"fb99cd699219529d88a1b903e043cb28f8446418a8874f89f5aa3f5f23208789\"\n",
            "    },\n",
            "    {\n",
            "        \"index\": 17,\n",
            "        \"previous_hash\": \"fb99cd699219529d88a1b903e043cb28f8446418a8874f89f5aa3f5f23208789\",\n",
            "        \"timestamp\": 1721198244,\n",
            "        \"data\": \"Block 2 Data\",\n",
            "        \"hash\": \"4cd6aa99b6fe473a2163787892b45874678bcac619593b1946a815da16f34c58\"\n",
            "    },\n",
            "    {\n",
            "        \"index\": 18,\n",
            "        \"previous_hash\": \"4cd6aa99b6fe473a2163787892b45874678bcac619593b1946a815da16f34c58\",\n",
            "        \"timestamp\": 1721198249,\n",
            "        \"data\": \"Block 1 Data\",\n",
            "        \"hash\": \"11d647a79b6eb3576c62c1c1b970fdd4b2913fc7d3b5aff6a8a85db7fec03bfa\"\n",
            "    },\n",
            "    {\n",
            "        \"index\": 19,\n",
            "        \"previous_hash\": \"11d647a79b6eb3576c62c1c1b970fdd4b2913fc7d3b5aff6a8a85db7fec03bfa\",\n",
            "        \"timestamp\": 1721198249,\n",
            "        \"data\": \"Block 2 Data\",\n",
            "        \"hash\": \"45e8024d7caaae97c7c1f9efd2def0256e1a14dff6734ef317bb7894b0edd451\"\n",
            "    },\n",
            "    {\n",
            "        \"index\": 20,\n",
            "        \"previous_hash\": \"45e8024d7caaae97c7c1f9efd2def0256e1a14dff6734ef317bb7894b0edd451\",\n",
            "        \"timestamp\": 1721198252,\n",
            "        \"data\": \"Block 1 data\",\n",
            "        \"hash\": \"370523c205e0aecb93606983e53e2282b0f91922f411d265f5237d04b398d3b9\"\n",
            "    },\n",
            "    {\n",
            "        \"index\": 21,\n",
            "        \"previous_hash\": \"370523c205e0aecb93606983e53e2282b0f91922f411d265f5237d04b398d3b9\",\n",
            "        \"timestamp\": 1721198252,\n",
            "        \"data\": \"Block 2 data\",\n",
            "        \"hash\": \"4aa935aec363b94a8783d9c09a24af3e8f961dac24979703c0e1cf4786b532de\"\n",
            "    },\n",
            "    {\n",
            "        \"index\": 22,\n",
            "        \"previous_hash\": \"4aa935aec363b94a8783d9c09a24af3e8f961dac24979703c0e1cf4786b532de\",\n",
            "        \"timestamp\": 1721198252,\n",
            "        \"data\": \"Block 3 data\",\n",
            "        \"hash\": \"ed4591da2a3accb496f67fe663e276716574d304e16066501ad89b2164f1390b\"\n",
            "    }\n",
            "]\n"
          ]
        }
      ]
    },
    {
      "cell_type": "markdown",
      "source": [
        "## DAO"
      ],
      "metadata": {
        "id": "BuYkdVX09703"
      }
    },
    {
      "cell_type": "markdown",
      "source": [
        "### Demo DAO Grant DAOs"
      ],
      "metadata": {
        "id": "C6Ax7BQ3VvlI"
      }
    },
    {
      "cell_type": "code",
      "source": [
        "class GrantDAOs(MyBlockchain):\n",
        "    def __init__(self,pos):\n",
        "        super().__init__(pos)\n",
        "        self.grants = {}\n",
        "\n",
        "    def create_grant(self, grant_id, proposer, amount, description):\n",
        "        self.grants[grant_id] = {\n",
        "            'proposer': proposer,\n",
        "            'amount': amount,\n",
        "            'description': description,\n",
        "            'votes': {'yes': 0, 'no': 0},\n",
        "            'executed': False\n",
        "        }\n",
        "        data = json.dumps({\n",
        "            \"type\": \"create_grant\",\n",
        "            \"grant_id\": grant_id,\n",
        "            \"proposer\": proposer,\n",
        "            \"amount\": amount,\n",
        "            \"description\": description\n",
        "        })\n",
        "        self.add_block(data)\n",
        "        return self.get_latest_block().hash\n",
        "\n",
        "    def vote_grant(self, grant_id, stakeholder, vote):\n",
        "        if grant_id in self.grants:\n",
        "            if vote not in ['yes', 'no']:\n",
        "                raise ValueError(\"Vote must be 'yes' atau 'no'\")\n",
        "            self.grants[grant_id]['votes'][vote] += 1\n",
        "            data = json.dumps({\n",
        "                \"type\": \"vote_grant\",\n",
        "                \"grant_id\": grant_id,\n",
        "                \"stakeholder\": stakeholder,\n",
        "                \"vote\": vote\n",
        "            })\n",
        "            self.add_block(data)\n",
        "            return self.get_latest_block().hash\n",
        "        else:\n",
        "            raise ValueError(\"Grant ID tidak ditemukan\")\n",
        "\n",
        "    def execute_grant(self, grant_id):\n",
        "        if grant_id in self.grants:\n",
        "            grant = self.grants[grant_id]\n",
        "            if grant['votes']['yes'] > grant['votes']['no'] and not grant['executed']:\n",
        "                self.reward_player(grant['proposer'], grant['amount'])\n",
        "                grant['executed'] = True\n",
        "                data = json.dumps({\n",
        "                    \"type\": \"execute_grant\",\n",
        "                    \"grant_id\": grant_id\n",
        "                })\n",
        "                self.add_block(data)\n",
        "                return self.get_latest_block().hash\n",
        "            else:\n",
        "                raise ValueError(\"Grant belum disetujui atau sudah dieksekusi\")\n",
        "        else:\n",
        "            raise ValueError(\"Grant ID tidak ditemukan\")\n",
        "\n",
        "    def reward_player(self, player, amount):\n",
        "        self.fungible_token_contract.mint(player, amount)\n",
        "        data = json.dumps({\n",
        "            \"type\": \"reward_player\",\n",
        "            \"player\": player,\n",
        "            \"amount\": amount\n",
        "        })\n",
        "        self.add_block(data)\n",
        "        return self.get_latest_block().hash"
      ],
      "metadata": {
        "id": "j9vGwauuVtwm"
      },
      "execution_count": 46,
      "outputs": []
    },
    {
      "cell_type": "code",
      "source": [
        "# Demonstrasi Penggunaan\n",
        "pos = ProofOfStake()\n",
        "grant_daos = GrantDAOs(pos)\n",
        "\n",
        "pos.add_stakeholder('Alice', 10)\n",
        "pos.add_stakeholder('Bob', 20)\n",
        "pos.add_stakeholder('Charlie', 30)\n",
        "pos.add_stakeholder('Herman', 15)\n",
        "pos.add_stakeholder('Hani', 7)\n",
        "pos.add_stakeholder('Dolbi', 50)\n",
        "\n",
        "# Menambahkan blok biasa\n",
        "grant_daos.add_block('Block 1 Data')\n",
        "grant_daos.add_block('Block 2 Data')"
      ],
      "metadata": {
        "colab": {
          "base_uri": "https://localhost:8080/"
        },
        "id": "5bx4JRrBV2-r",
        "outputId": "b7c496aa-0103-4fa8-96bc-eb1598f952d8"
      },
      "execution_count": 47,
      "outputs": [
        {
          "output_type": "stream",
          "name": "stdout",
          "text": [
            "Block #23 created by Charlie using PoS\n",
            "Block #24 created by Hani using PoS\n"
          ]
        }
      ]
    },
    {
      "cell_type": "code",
      "source": [
        "# Membuat proposal grant\n",
        "grant_id = \"grant1\"\n",
        "proposer = \"Alice\"\n",
        "amount = 100\n",
        "description = \"Research on sustainable blockchain solutions\"\n",
        "create_grant_hash = grant_daos.create_grant(grant_id, proposer, amount, description)\n",
        "print(f\"Grant proposal created in block with hash: {create_grant_hash}\")"
      ],
      "metadata": {
        "colab": {
          "base_uri": "https://localhost:8080/"
        },
        "collapsed": true,
        "id": "AJNanA9RWAA8",
        "outputId": "500e1a54-1a4a-461a-d6bd-8e3726daa1eb"
      },
      "execution_count": 48,
      "outputs": [
        {
          "output_type": "stream",
          "name": "stdout",
          "text": [
            "Block #25 created by Hani using PoS\n",
            "Grant proposal created in block with hash: cdb8abd6fe89764caee196528166c3d065db93cf2837d61d9d259ebd6cbc7ab5\n"
          ]
        }
      ]
    },
    {
      "cell_type": "code",
      "source": [
        "# Stakeholder voting\n",
        "vote_hash_1 = grant_daos.vote_grant(grant_id, 'Bob', 'yes')\n",
        "print(f\"Grant vote by Bob in block with hash: {vote_hash_1}\")\n",
        "\n",
        "vote_hash_2 = grant_daos.vote_grant(grant_id, 'Charlie', 'no')\n",
        "print(f\"Grant vote by Charlie in block with hash: {vote_hash_2}\")\n",
        "\n",
        "vote_hash_3 = grant_daos.vote_grant(grant_id, 'Hani', 'no')\n",
        "print(f\"Grant vote by Hani in block with hash: {vote_hash_3}\")"
      ],
      "metadata": {
        "colab": {
          "base_uri": "https://localhost:8080/"
        },
        "collapsed": true,
        "id": "4EAmmnLOWDlJ",
        "outputId": "bff8965d-16bc-4cd1-c81b-878ff735df9b"
      },
      "execution_count": 49,
      "outputs": [
        {
          "output_type": "stream",
          "name": "stdout",
          "text": [
            "Block #26 created by Dolbi using PoS\n",
            "Grant vote by Bob in block with hash: 04242457a29a832dca1521e71a874818c137df5217e584001e6c4a875c742484\n",
            "Block #27 created by Charlie using PoS\n",
            "Grant vote by Charlie in block with hash: 512e4cf5b1f9169034149bd0c4c93a4a0a9e902cb133c6a0136379c9ff21d8d5\n",
            "Block #28 created by Charlie using PoS\n",
            "Grant vote by Hani in block with hash: 1afa577265eeebbf560dc079f51d5530a1f2cf02fd8b795997023f7d5565d603\n"
          ]
        }
      ]
    },
    {
      "cell_type": "code",
      "source": [
        "# Eksekusi grant setelah voting\n",
        "try:\n",
        "    execute_grant_hash = grant_daos.execute_grant(grant_id)\n",
        "    print(f\"Grant executed in block with hash: {execute_grant_hash}\")\n",
        "except ValueError as e:\n",
        "    print(f\"Error executing grant: {e}\")\n",
        "    # Check the votes to see if the grant was approved\n",
        "    grant = grant_daos.grants.get(grant_id)\n",
        "    if grant:\n",
        "        print(f\"Grant votes: {grant['votes']}\")"
      ],
      "metadata": {
        "colab": {
          "base_uri": "https://localhost:8080/"
        },
        "collapsed": true,
        "id": "Nsk1WXTvYBzN",
        "outputId": "33a2de12-238c-4891-f851-3b36f081c681"
      },
      "execution_count": 50,
      "outputs": [
        {
          "output_type": "stream",
          "name": "stdout",
          "text": [
            "Error executing grant: Grant belum disetujui atau sudah dieksekusi\n",
            "Grant votes: {'yes': 1, 'no': 2}\n"
          ]
        }
      ]
    },
    {
      "cell_type": "code",
      "source": [
        "# Mencetak isi blockchain dalam format JSON\n",
        "print(\"Blockchain content in JSON:\")\n",
        "print(grant_daos.to_json())"
      ],
      "metadata": {
        "colab": {
          "base_uri": "https://localhost:8080/"
        },
        "collapsed": true,
        "id": "-3Eor9JDWIm8",
        "outputId": "52786a18-1ede-402f-a353-c5ec388b69c7"
      },
      "execution_count": 51,
      "outputs": [
        {
          "output_type": "stream",
          "name": "stdout",
          "text": [
            "Blockchain content in JSON:\n",
            "[\n",
            "    {\n",
            "        \"index\": 0,\n",
            "        \"previous_hash\": \"0\",\n",
            "        \"timestamp\": 1721198153,\n",
            "        \"data\": \"Genesis Block\",\n",
            "        \"hash\": \"febe648ded6e5230405553b9a63b02c23a0629c231988682529bc9104601eca0\"\n",
            "    },\n",
            "    {\n",
            "        \"index\": 1,\n",
            "        \"previous_hash\": \"febe648ded6e5230405553b9a63b02c23a0629c231988682529bc9104601eca0\",\n",
            "        \"timestamp\": 1721198153,\n",
            "        \"data\": \"Block 1 data\",\n",
            "        \"hash\": \"75c7dfeb1729699bf810ec7b48bb578d9cc87fae33c45fef604e063738501816\"\n",
            "    },\n",
            "    {\n",
            "        \"index\": 2,\n",
            "        \"previous_hash\": \"75c7dfeb1729699bf810ec7b48bb578d9cc87fae33c45fef604e063738501816\",\n",
            "        \"timestamp\": 1721198153,\n",
            "        \"data\": \"Block 2 data\",\n",
            "        \"hash\": \"47b272f4ae590dc89331bc74353cab3de39b0d870e6cea012dbaa65b5ce2e591\"\n",
            "    },\n",
            "    {\n",
            "        \"index\": 3,\n",
            "        \"previous_hash\": \"47b272f4ae590dc89331bc74353cab3de39b0d870e6cea012dbaa65b5ce2e591\",\n",
            "        \"timestamp\": 1721198153,\n",
            "        \"data\": \"Block 3 data\",\n",
            "        \"hash\": \"e1a1ddcb2a50bc977108c0c3267023b717c37377428e822840ec22689936aee5\"\n",
            "    },\n",
            "    {\n",
            "        \"index\": 4,\n",
            "        \"previous_hash\": \"e1a1ddcb2a50bc977108c0c3267023b717c37377428e822840ec22689936aee5\",\n",
            "        \"timestamp\": 1721198162,\n",
            "        \"data\": \"Block 1 Data\",\n",
            "        \"hash\": \"f61ac08f3b1090f824befb1e40cf01b8a2102fb4c65465fd862f1ee38299d2b2\"\n",
            "    },\n",
            "    {\n",
            "        \"index\": 5,\n",
            "        \"previous_hash\": \"f61ac08f3b1090f824befb1e40cf01b8a2102fb4c65465fd862f1ee38299d2b2\",\n",
            "        \"timestamp\": 1721198162,\n",
            "        \"data\": \"Block 2 Data\",\n",
            "        \"hash\": \"1016692d2ff3de9541b0180f18b2ad1e2dcf9175904c484757b071c799983ab0\"\n",
            "    },\n",
            "    {\n",
            "        \"index\": 6,\n",
            "        \"previous_hash\": \"1016692d2ff3de9541b0180f18b2ad1e2dcf9175904c484757b071c799983ab0\",\n",
            "        \"timestamp\": 1721198162,\n",
            "        \"data\": \"\\ndef contract_function(storage):\\n    storage['counter'] = storage.get('counter', 0) + 1\\n    print(f\\\"Counter value: {storage['counter']}\\\")\\ncontract_function(storage)\\n\",\n",
            "        \"hash\": \"53eca47bf6b69ce5e0f72324509439904ffc2b37d7c54cf35d9b1601e439042e\"\n",
            "    },\n",
            "    {\n",
            "        \"index\": 7,\n",
            "        \"previous_hash\": \"53eca47bf6b69ce5e0f72324509439904ffc2b37d7c54cf35d9b1601e439042e\",\n",
            "        \"timestamp\": 1721198162,\n",
            "        \"data\": \"{\\\"type\\\": \\\"mint\\\", \\\"owner\\\": \\\"0xfeedfacefeedfacefeedfacefeedfacefeedface\\\", \\\"tokenId\\\": \\\"8b77fa5c5a4ba9119bd9258672bc9f59884b884ff9f187002d635b1d1a773aa8\\\", \\\"metadata\\\": \\\"https://example2.co.id\\\"}\",\n",
            "        \"hash\": \"be921243df3df864830db7a53f21ec9b1b94f868e52b4942f60ed1f8a3467020\"\n",
            "    },\n",
            "    {\n",
            "        \"index\": 8,\n",
            "        \"previous_hash\": \"be921243df3df864830db7a53f21ec9b1b94f868e52b4942f60ed1f8a3467020\",\n",
            "        \"timestamp\": 1721198162,\n",
            "        \"data\": \"{\\\"type\\\": \\\"transfer\\\", \\\"from\\\": \\\"0xfeedfacefeedfacefeedfacefeedfacefeedface\\\", \\\"to\\\": \\\"0xbadc0ffeebadc0ffeebadc0ffeebadc0ffeebadc\\\", \\\"tokenId\\\": \\\"8b77fa5c5a4ba9119bd9258672bc9f59884b884ff9f187002d635b1d1a773aa8\\\"}\",\n",
            "        \"hash\": \"d5d424efb1ea3e99392ecd887e7523589af6af736fdde76c5bd5b6646cef6d1e\"\n",
            "    },\n",
            "    {\n",
            "        \"index\": 9,\n",
            "        \"previous_hash\": \"d5d424efb1ea3e99392ecd887e7523589af6af736fdde76c5bd5b6646cef6d1e\",\n",
            "        \"timestamp\": 1721198162,\n",
            "        \"data\": \"{\\\"type\\\": \\\"mint_fungible\\\", \\\"to\\\": \\\"0xabc\\\", \\\"amount\\\": 1000}\",\n",
            "        \"hash\": \"72a1768cc4bff4bff81fbff211073a937410e333198c7061c635481ce30718ff\"\n",
            "    },\n",
            "    {\n",
            "        \"index\": 10,\n",
            "        \"previous_hash\": \"72a1768cc4bff4bff81fbff211073a937410e333198c7061c635481ce30718ff\",\n",
            "        \"timestamp\": 1721198162,\n",
            "        \"data\": \"{\\\"type\\\": \\\"mint_fungible\\\", \\\"to\\\": \\\"0xdef\\\", \\\"amount\\\": 500}\",\n",
            "        \"hash\": \"df99ea558a675e2485ad40ed894173d894edc841d61f40682171e4e3b99ff853\"\n",
            "    },\n",
            "    {\n",
            "        \"index\": 11,\n",
            "        \"previous_hash\": \"df99ea558a675e2485ad40ed894173d894edc841d61f40682171e4e3b99ff853\",\n",
            "        \"timestamp\": 1721198162,\n",
            "        \"data\": \"{\\\"type\\\": \\\"transfer_fungible\\\", \\\"from\\\": \\\"0xabc\\\", \\\"to\\\": \\\"0xdef\\\", \\\"amount\\\": 200}\",\n",
            "        \"hash\": \"34e2e3635e5b5b05e5fcc1e28cb214a69c5f1ea88f9d4c132f071b1478a7745c\"\n",
            "    },\n",
            "    {\n",
            "        \"index\": 12,\n",
            "        \"previous_hash\": \"34e2e3635e5b5b05e5fcc1e28cb214a69c5f1ea88f9d4c132f071b1478a7745c\",\n",
            "        \"timestamp\": 1721198170,\n",
            "        \"data\": \"Block 1 Data\",\n",
            "        \"hash\": \"cf5f39494365e35bb3f51a240cb400e9a5a5d015b81cbc60ab2a2c97839bc558\"\n",
            "    },\n",
            "    {\n",
            "        \"index\": 13,\n",
            "        \"previous_hash\": \"cf5f39494365e35bb3f51a240cb400e9a5a5d015b81cbc60ab2a2c97839bc558\",\n",
            "        \"timestamp\": 1721198170,\n",
            "        \"data\": \"Block 2 Data\",\n",
            "        \"hash\": \"f0f5087984ad11d754790109ee18d86809feed26e425e7741c28d5f6d1b755da\"\n",
            "    },\n",
            "    {\n",
            "        \"index\": 14,\n",
            "        \"previous_hash\": \"f0f5087984ad11d754790109ee18d86809feed26e425e7741c28d5f6d1b755da\",\n",
            "        \"timestamp\": 1721198184,\n",
            "        \"data\": \"Block 1 Data\",\n",
            "        \"hash\": \"e1d3c0fc9db6284df086527f556eec22148f4173eb713a3500185b57c3c3cc10\"\n",
            "    },\n",
            "    {\n",
            "        \"index\": 15,\n",
            "        \"previous_hash\": \"e1d3c0fc9db6284df086527f556eec22148f4173eb713a3500185b57c3c3cc10\",\n",
            "        \"timestamp\": 1721198202,\n",
            "        \"data\": \"Block 2 Data\",\n",
            "        \"hash\": \"fd7a1c98dc55e59266de0e6d8e0d66157afebf0825c397508a06a10a3498e52f\"\n",
            "    },\n",
            "    {\n",
            "        \"index\": 16,\n",
            "        \"previous_hash\": \"fd7a1c98dc55e59266de0e6d8e0d66157afebf0825c397508a06a10a3498e52f\",\n",
            "        \"timestamp\": 1721198244,\n",
            "        \"data\": \"Block 1 Data\",\n",
            "        \"hash\": \"fb99cd699219529d88a1b903e043cb28f8446418a8874f89f5aa3f5f23208789\"\n",
            "    },\n",
            "    {\n",
            "        \"index\": 17,\n",
            "        \"previous_hash\": \"fb99cd699219529d88a1b903e043cb28f8446418a8874f89f5aa3f5f23208789\",\n",
            "        \"timestamp\": 1721198244,\n",
            "        \"data\": \"Block 2 Data\",\n",
            "        \"hash\": \"4cd6aa99b6fe473a2163787892b45874678bcac619593b1946a815da16f34c58\"\n",
            "    },\n",
            "    {\n",
            "        \"index\": 18,\n",
            "        \"previous_hash\": \"4cd6aa99b6fe473a2163787892b45874678bcac619593b1946a815da16f34c58\",\n",
            "        \"timestamp\": 1721198249,\n",
            "        \"data\": \"Block 1 Data\",\n",
            "        \"hash\": \"11d647a79b6eb3576c62c1c1b970fdd4b2913fc7d3b5aff6a8a85db7fec03bfa\"\n",
            "    },\n",
            "    {\n",
            "        \"index\": 19,\n",
            "        \"previous_hash\": \"11d647a79b6eb3576c62c1c1b970fdd4b2913fc7d3b5aff6a8a85db7fec03bfa\",\n",
            "        \"timestamp\": 1721198249,\n",
            "        \"data\": \"Block 2 Data\",\n",
            "        \"hash\": \"45e8024d7caaae97c7c1f9efd2def0256e1a14dff6734ef317bb7894b0edd451\"\n",
            "    },\n",
            "    {\n",
            "        \"index\": 20,\n",
            "        \"previous_hash\": \"45e8024d7caaae97c7c1f9efd2def0256e1a14dff6734ef317bb7894b0edd451\",\n",
            "        \"timestamp\": 1721198252,\n",
            "        \"data\": \"Block 1 data\",\n",
            "        \"hash\": \"370523c205e0aecb93606983e53e2282b0f91922f411d265f5237d04b398d3b9\"\n",
            "    },\n",
            "    {\n",
            "        \"index\": 21,\n",
            "        \"previous_hash\": \"370523c205e0aecb93606983e53e2282b0f91922f411d265f5237d04b398d3b9\",\n",
            "        \"timestamp\": 1721198252,\n",
            "        \"data\": \"Block 2 data\",\n",
            "        \"hash\": \"4aa935aec363b94a8783d9c09a24af3e8f961dac24979703c0e1cf4786b532de\"\n",
            "    },\n",
            "    {\n",
            "        \"index\": 22,\n",
            "        \"previous_hash\": \"4aa935aec363b94a8783d9c09a24af3e8f961dac24979703c0e1cf4786b532de\",\n",
            "        \"timestamp\": 1721198252,\n",
            "        \"data\": \"Block 3 data\",\n",
            "        \"hash\": \"ed4591da2a3accb496f67fe663e276716574d304e16066501ad89b2164f1390b\"\n",
            "    },\n",
            "    {\n",
            "        \"index\": 23,\n",
            "        \"previous_hash\": \"ed4591da2a3accb496f67fe663e276716574d304e16066501ad89b2164f1390b\",\n",
            "        \"timestamp\": 1721198259,\n",
            "        \"data\": \"Block 1 Data\",\n",
            "        \"hash\": \"d9f854a5a6b0cebb063ff0cbd53e6582df019a4934756dc8185a21579789f33b\"\n",
            "    },\n",
            "    {\n",
            "        \"index\": 24,\n",
            "        \"previous_hash\": \"d9f854a5a6b0cebb063ff0cbd53e6582df019a4934756dc8185a21579789f33b\",\n",
            "        \"timestamp\": 1721198259,\n",
            "        \"data\": \"Block 2 Data\",\n",
            "        \"hash\": \"2633030ebf60cd55088b891c5ad346dc0f21c7ff582f68e4150ecc9bb7c7554b\"\n",
            "    },\n",
            "    {\n",
            "        \"index\": 25,\n",
            "        \"previous_hash\": \"2633030ebf60cd55088b891c5ad346dc0f21c7ff582f68e4150ecc9bb7c7554b\",\n",
            "        \"timestamp\": 1721198259,\n",
            "        \"data\": \"{\\\"type\\\": \\\"create_grant\\\", \\\"grant_id\\\": \\\"grant1\\\", \\\"proposer\\\": \\\"Alice\\\", \\\"amount\\\": 100, \\\"description\\\": \\\"Research on sustainable blockchain solutions\\\"}\",\n",
            "        \"hash\": \"cdb8abd6fe89764caee196528166c3d065db93cf2837d61d9d259ebd6cbc7ab5\"\n",
            "    },\n",
            "    {\n",
            "        \"index\": 26,\n",
            "        \"previous_hash\": \"cdb8abd6fe89764caee196528166c3d065db93cf2837d61d9d259ebd6cbc7ab5\",\n",
            "        \"timestamp\": 1721198259,\n",
            "        \"data\": \"{\\\"type\\\": \\\"vote_grant\\\", \\\"grant_id\\\": \\\"grant1\\\", \\\"stakeholder\\\": \\\"Bob\\\", \\\"vote\\\": \\\"yes\\\"}\",\n",
            "        \"hash\": \"04242457a29a832dca1521e71a874818c137df5217e584001e6c4a875c742484\"\n",
            "    },\n",
            "    {\n",
            "        \"index\": 27,\n",
            "        \"previous_hash\": \"04242457a29a832dca1521e71a874818c137df5217e584001e6c4a875c742484\",\n",
            "        \"timestamp\": 1721198259,\n",
            "        \"data\": \"{\\\"type\\\": \\\"vote_grant\\\", \\\"grant_id\\\": \\\"grant1\\\", \\\"stakeholder\\\": \\\"Charlie\\\", \\\"vote\\\": \\\"no\\\"}\",\n",
            "        \"hash\": \"512e4cf5b1f9169034149bd0c4c93a4a0a9e902cb133c6a0136379c9ff21d8d5\"\n",
            "    },\n",
            "    {\n",
            "        \"index\": 28,\n",
            "        \"previous_hash\": \"512e4cf5b1f9169034149bd0c4c93a4a0a9e902cb133c6a0136379c9ff21d8d5\",\n",
            "        \"timestamp\": 1721198259,\n",
            "        \"data\": \"{\\\"type\\\": \\\"vote_grant\\\", \\\"grant_id\\\": \\\"grant1\\\", \\\"stakeholder\\\": \\\"Hani\\\", \\\"vote\\\": \\\"no\\\"}\",\n",
            "        \"hash\": \"1afa577265eeebbf560dc079f51d5530a1f2cf02fd8b795997023f7d5565d603\"\n",
            "    }\n",
            "]\n"
          ]
        }
      ]
    },
    {
      "cell_type": "markdown",
      "source": [
        "Demo DAO Grant DAOs Versi Smart Contract"
      ],
      "metadata": {
        "id": "NdFX1BTFJ3CJ"
      }
    },
    {
      "cell_type": "code",
      "source": [
        "# Smart Contract Code for DeFi DAO\n",
        "dao_code = \"\"\"\n",
        "grants = {}\n",
        "fungible_token_contract = None\n",
        "\n",
        "def initialize(fungible_token_contract_):\n",
        "    global fungible_token_contract\n",
        "    fungible_token_contract = fungible_token_contract_\n",
        "\n",
        "def create_grant(grant_id, proposer, amount, description):\n",
        "    if grant_id in grants:\n",
        "        raise ValueError(\"Grant ID already exists\")\n",
        "    grants[grant_id] = {\n",
        "        'proposer': proposer,\n",
        "        'amount': amount,\n",
        "        'description': description,\n",
        "        'votes': {'yes': 0, 'no': 0},\n",
        "        'executed': False\n",
        "    }\n",
        "\n",
        "def vote_grant(grant_id, stakeholder, vote):\n",
        "    if grant_id not in grants:\n",
        "        raise ValueError(\"Grant ID not found\")\n",
        "    if vote not in ['yes', 'no']:\n",
        "        raise ValueError(\"Vote must be 'yes' or 'no'\")\n",
        "    grants[grant_id]['votes'][vote] += 1\n",
        "\n",
        "def execute_grant(grant_id):\n",
        "    if grant_id not in grants:\n",
        "        raise ValueError(\"Grant ID not found\")\n",
        "    grant = grants[grant_id]\n",
        "    if grant['votes']['yes'] > grant['votes']['no'] and not grant['executed']:\n",
        "        fungible_token_contract.mint(grant['proposer'], grant['amount'])\n",
        "        grant['executed'] = True\n",
        "    else:\n",
        "        raise ValueError(\"Grant not approved or already executed\")\n",
        "\"\"\""
      ],
      "metadata": {
        "id": "mQedl_bHJ1ZA"
      },
      "execution_count": 75,
      "outputs": []
    },
    {
      "cell_type": "code",
      "source": [
        "import time as t\n",
        "\n",
        "# Deploying the smart contract\n",
        "pos = ProofOfStake()\n",
        "blockchain = GrantDAOs(pos)\n",
        "contract_hash = blockchain.store_smart_contract(dao_code)\n",
        "\n",
        "# Initialize the DAO contract with the fungible token contract\n",
        "blockchain.execute_smart_contract_from_block(contract_hash, function=\"initialize\", fungible_token_contract=blockchain.fungible_token_contract)\n",
        "\n",
        "# Add stakeholders\n",
        "pos.add_stakeholder('Alice', 10)\n",
        "pos.add_stakeholder('Bob', 20)\n",
        "pos.add_stakeholder('Charlie', 30)\n",
        "pos.add_stakeholder('Herman', 15)\n",
        "pos.add_stakeholder('Hani', 7)\n",
        "pos.add_stakeholder('Dolbi', 50)\n",
        "\n",
        "# Adding normal blocks\n",
        "blockchain.add_block('Block 1 Data')\n",
        "blockchain.add_block('Block 2 Data')\n",
        "\n",
        "# Create grant proposal\n",
        "grant_id = \"grant1\"\n",
        "proposer = \"Alice\"\n",
        "amount = 100\n",
        "description = \"Research on sustainable blockchain solutions\"\n",
        "blockchain.execute_smart_contract_from_block(contract_hash, function=\"create_grant\", grant_id=grant_id, proposer=proposer, amount=amount, description=description)\n",
        "\n",
        "# Stakeholder voting\n",
        "blockchain.execute_smart_contract_from_block(contract_hash, function=\"vote_grant\", grant_id=grant_id, stakeholder='Bob', vote='yes')\n",
        "blockchain.execute_smart_contract_from_block(contract_hash, function=\"vote_grant\", grant_id=grant_id, stakeholder='Charlie', vote='no')\n",
        "blockchain.execute_smart_contract_from_block(contract_hash, function=\"vote_grant\", grant_id=grant_id, stakeholder='Hani', vote='no')\n",
        "\n",
        "# Execute grant after voting\n",
        "try:\n",
        "    blockchain.execute_smart_contract_from_block(contract_hash, function=\"execute_grant\", grant_id=grant_id)\n",
        "    print(f\"Grant executed successfully.\")\n",
        "except ValueError as e:\n",
        "    print(f\"Error executing grant: {e}\")\n",
        "    # Check the votes to see if the grant was approved\n",
        "    grant = blockchain.smart_contracts[contract_hash].grants.get(grant_id)\n",
        "    if grant:\n",
        "        print(f\"Grant votes: {grant['votes']}\")"
      ],
      "metadata": {
        "id": "wdGm2smqJ4K-",
        "outputId": "d50b1605-3e5b-4079-f926-c10ef5a64e76",
        "colab": {
          "base_uri": "https://localhost:8080/"
        }
      },
      "execution_count": 76,
      "outputs": [
        {
          "output_type": "stream",
          "name": "stdout",
          "text": [
            "Smart Contract Block #36 created by None using PoS\n",
            "Block #37 created by Charlie using PoS\n",
            "Block #38 created by Charlie using PoS\n",
            "Grant executed successfully.\n"
          ]
        }
      ]
    },
    {
      "cell_type": "markdown",
      "source": [
        "### Demo DAO untuk MediaDAOs"
      ],
      "metadata": {
        "id": "zCFnsAXLben3"
      }
    },
    {
      "cell_type": "code",
      "source": [
        "class MediaDAOs(MyBlockchain):\n",
        "    def __init__(self,pos):\n",
        "        super().__init__(pos)\n",
        "        self.proposals = {}\n",
        "\n",
        "    def create_proposal(self, proposal_id, proposer, description):\n",
        "        self.proposals[proposal_id] = {\n",
        "            'proposer': proposer,\n",
        "            'description': description,\n",
        "            'votes': {'yes': 0, 'no': 0},\n",
        "            'executed': False\n",
        "        }\n",
        "        data = json.dumps({\n",
        "            \"type\": \"create_proposal\",\n",
        "            \"proposal_id\": proposal_id,\n",
        "            \"proposer\": proposer,\n",
        "            \"description\": description\n",
        "        })\n",
        "        self.add_block(data)\n",
        "        return self.get_latest_block().hash\n",
        "\n",
        "    def vote_proposal(self, proposal_id, stakeholder, vote):\n",
        "        if proposal_id in self.proposals:\n",
        "            if vote not in ['yes', 'no']:\n",
        "                raise ValueError(\"Vote must be 'yes' or 'no'\")\n",
        "            self.proposals[proposal_id]['votes'][vote] += 1\n",
        "            data = json.dumps({\n",
        "                \"type\": \"vote_proposal\",\n",
        "                \"proposal_id\": proposal_id,\n",
        "                \"stakeholder\": stakeholder,\n",
        "                \"vote\": vote\n",
        "            })\n",
        "            self.add_block(data)\n",
        "            return self.get_latest_block().hash\n",
        "        else:\n",
        "            raise ValueError(\"Proposal ID not found\")\n",
        "\n",
        "    def execute_proposal(self, proposal_id):\n",
        "        if proposal_id in self.proposals:\n",
        "            proposal = self.proposals[proposal_id]\n",
        "            if proposal['votes']['yes'] > proposal['votes']['no'] and not proposal['executed']:\n",
        "                # Logic to reward or execute the proposal\n",
        "                proposal['executed'] = True\n",
        "                data = json.dumps({\n",
        "                    \"type\": \"execute_proposal\",\n",
        "                    \"proposal_id\": proposal_id\n",
        "                })\n",
        "                self.add_block(data)\n",
        "                return self.get_latest_block().hash\n",
        "            else:\n",
        "                raise ValueError(\"Proposal not approved or already executed\")\n",
        "        else:\n",
        "            raise ValueError(\"Proposal ID not found\")"
      ],
      "metadata": {
        "id": "2QMfw02lbIAp"
      },
      "execution_count": 52,
      "outputs": []
    },
    {
      "cell_type": "code",
      "source": [
        "# Demonstrasi Penggunaan\n",
        "pos = ProofOfStake()\n",
        "media_daos = MediaDAOs(pos)\n",
        "\n",
        "pos.add_stakeholder('Alice', 10)\n",
        "pos.add_stakeholder('Bob', 20)\n",
        "pos.add_stakeholder('Charlie', 30)\n",
        "pos.add_stakeholder('Hani', 25)"
      ],
      "metadata": {
        "id": "AwTrP8TvbKrQ"
      },
      "execution_count": 53,
      "outputs": []
    },
    {
      "cell_type": "code",
      "source": [
        "# Menambahkan blok biasa\n",
        "media_daos.add_block('Block 1 Data')\n",
        "media_daos.add_block('Block 2 Data')"
      ],
      "metadata": {
        "colab": {
          "base_uri": "https://localhost:8080/"
        },
        "id": "wazADrZTbM5B",
        "outputId": "e7b929e3-9633-42a4-dce3-47fdb9287feb"
      },
      "execution_count": 54,
      "outputs": [
        {
          "output_type": "stream",
          "name": "stdout",
          "text": [
            "Block #29 created by Charlie using PoS\n",
            "Block #30 created by Charlie using PoS\n"
          ]
        }
      ]
    },
    {
      "cell_type": "code",
      "source": [
        "# Membuat proposal media\n",
        "proposal_id = \"proposal1\"\n",
        "proposer = \"Alice\"\n",
        "description = \"Create a documentary on blockchain technology\"\n",
        "create_proposal_hash = media_daos.create_proposal(proposal_id, proposer, description)\n",
        "print(f\"Media proposal created in block with hash: {create_proposal_hash}\")"
      ],
      "metadata": {
        "colab": {
          "base_uri": "https://localhost:8080/"
        },
        "collapsed": true,
        "id": "x_efktRmbOuO",
        "outputId": "d89ee810-ee21-4e9b-d28e-06fbb220e372"
      },
      "execution_count": 55,
      "outputs": [
        {
          "output_type": "stream",
          "name": "stdout",
          "text": [
            "Block #31 created by Charlie using PoS\n",
            "Media proposal created in block with hash: 970d8398aa62cf88590c6d220c24457f571915d9b58d4694554afd6e6ee60bf8\n"
          ]
        }
      ]
    },
    {
      "cell_type": "code",
      "source": [
        "# Stakeholder voting\n",
        "vote_hash_1 = media_daos.vote_proposal(proposal_id, 'Bob', 'yes')\n",
        "print(f\"Proposal vote by Bob in block with hash: {vote_hash_1}\")\n",
        "\n",
        "vote_hash_2 = media_daos.vote_proposal(proposal_id, 'Charlie', 'yes')\n",
        "print(f\"Proposal vote by Charlie in block with hash: {vote_hash_2}\")\n",
        "\n",
        "vote_hash_3 = media_daos.vote_proposal(proposal_id, 'Hani', 'yes')\n",
        "print(f\"Proposal vote by Hani in block with hash: {vote_hash_3}\")"
      ],
      "metadata": {
        "colab": {
          "base_uri": "https://localhost:8080/"
        },
        "collapsed": true,
        "id": "LOFtsEjRbQeN",
        "outputId": "e2f1f4c7-2d72-49fa-c520-c7ab3b74bf11"
      },
      "execution_count": 56,
      "outputs": [
        {
          "output_type": "stream",
          "name": "stdout",
          "text": [
            "Block #32 created by Hani using PoS\n",
            "Proposal vote by Bob in block with hash: e623b6a63d5b7c958bc388a65f97870639d3e3390dcdeca71155d943fd97bef6\n",
            "Block #33 created by Charlie using PoS\n",
            "Proposal vote by Charlie in block with hash: d59553f2e55c4c99741a0758e1b1c80ee31d2a412c646452ca5d8a14ef205444\n",
            "Block #34 created by Bob using PoS\n",
            "Proposal vote by Hani in block with hash: 0b3e061c710948146b431b06fffa274c412132f4e111cc1e4ffb85128649b3b4\n"
          ]
        }
      ]
    },
    {
      "cell_type": "code",
      "source": [
        "# Eksekusi proposal setelah voting\n",
        "try:\n",
        "    execute_proposal_hash = media_daos.execute_proposal(proposal_id)\n",
        "    print(f\"Proposal executed in block with hash: {execute_proposal_hash}\")\n",
        "except ValueError as e:\n",
        "    print(f\"Error executing proposal: {e}\")\n",
        "    # Check the votes to see if the proposal was approved\n",
        "    proposal = media_daos.proposals.get(proposal_id)\n",
        "    if proposal:\n",
        "        print(f\"Grant votes: {proposal['votes']}\")"
      ],
      "metadata": {
        "colab": {
          "base_uri": "https://localhost:8080/"
        },
        "collapsed": true,
        "id": "FK5jf7Ypb_EJ",
        "outputId": "aa5a5a8d-9692-413c-89af-d56c3ad46b02"
      },
      "execution_count": 57,
      "outputs": [
        {
          "output_type": "stream",
          "name": "stdout",
          "text": [
            "Block #35 created by Charlie using PoS\n",
            "Proposal executed in block with hash: 11d9958c33f867d1a8f2a7f9374cb355baf187d7488d53796cf5b8a73ec6f556\n"
          ]
        }
      ]
    },
    {
      "cell_type": "code",
      "source": [
        "# Mencetak isi blockchain dalam format JSON\n",
        "print(\"Blockchain content in JSON:\")\n",
        "print(media_daos.to_json())"
      ],
      "metadata": {
        "colab": {
          "base_uri": "https://localhost:8080/"
        },
        "collapsed": true,
        "id": "vXMPoQJVbTDU",
        "outputId": "5b2410b1-ac30-49ca-842c-6f44dcccef6c"
      },
      "execution_count": 58,
      "outputs": [
        {
          "output_type": "stream",
          "name": "stdout",
          "text": [
            "Blockchain content in JSON:\n",
            "[\n",
            "    {\n",
            "        \"index\": 0,\n",
            "        \"previous_hash\": \"0\",\n",
            "        \"timestamp\": 1721198153,\n",
            "        \"data\": \"Genesis Block\",\n",
            "        \"hash\": \"febe648ded6e5230405553b9a63b02c23a0629c231988682529bc9104601eca0\"\n",
            "    },\n",
            "    {\n",
            "        \"index\": 1,\n",
            "        \"previous_hash\": \"febe648ded6e5230405553b9a63b02c23a0629c231988682529bc9104601eca0\",\n",
            "        \"timestamp\": 1721198153,\n",
            "        \"data\": \"Block 1 data\",\n",
            "        \"hash\": \"75c7dfeb1729699bf810ec7b48bb578d9cc87fae33c45fef604e063738501816\"\n",
            "    },\n",
            "    {\n",
            "        \"index\": 2,\n",
            "        \"previous_hash\": \"75c7dfeb1729699bf810ec7b48bb578d9cc87fae33c45fef604e063738501816\",\n",
            "        \"timestamp\": 1721198153,\n",
            "        \"data\": \"Block 2 data\",\n",
            "        \"hash\": \"47b272f4ae590dc89331bc74353cab3de39b0d870e6cea012dbaa65b5ce2e591\"\n",
            "    },\n",
            "    {\n",
            "        \"index\": 3,\n",
            "        \"previous_hash\": \"47b272f4ae590dc89331bc74353cab3de39b0d870e6cea012dbaa65b5ce2e591\",\n",
            "        \"timestamp\": 1721198153,\n",
            "        \"data\": \"Block 3 data\",\n",
            "        \"hash\": \"e1a1ddcb2a50bc977108c0c3267023b717c37377428e822840ec22689936aee5\"\n",
            "    },\n",
            "    {\n",
            "        \"index\": 4,\n",
            "        \"previous_hash\": \"e1a1ddcb2a50bc977108c0c3267023b717c37377428e822840ec22689936aee5\",\n",
            "        \"timestamp\": 1721198162,\n",
            "        \"data\": \"Block 1 Data\",\n",
            "        \"hash\": \"f61ac08f3b1090f824befb1e40cf01b8a2102fb4c65465fd862f1ee38299d2b2\"\n",
            "    },\n",
            "    {\n",
            "        \"index\": 5,\n",
            "        \"previous_hash\": \"f61ac08f3b1090f824befb1e40cf01b8a2102fb4c65465fd862f1ee38299d2b2\",\n",
            "        \"timestamp\": 1721198162,\n",
            "        \"data\": \"Block 2 Data\",\n",
            "        \"hash\": \"1016692d2ff3de9541b0180f18b2ad1e2dcf9175904c484757b071c799983ab0\"\n",
            "    },\n",
            "    {\n",
            "        \"index\": 6,\n",
            "        \"previous_hash\": \"1016692d2ff3de9541b0180f18b2ad1e2dcf9175904c484757b071c799983ab0\",\n",
            "        \"timestamp\": 1721198162,\n",
            "        \"data\": \"\\ndef contract_function(storage):\\n    storage['counter'] = storage.get('counter', 0) + 1\\n    print(f\\\"Counter value: {storage['counter']}\\\")\\ncontract_function(storage)\\n\",\n",
            "        \"hash\": \"53eca47bf6b69ce5e0f72324509439904ffc2b37d7c54cf35d9b1601e439042e\"\n",
            "    },\n",
            "    {\n",
            "        \"index\": 7,\n",
            "        \"previous_hash\": \"53eca47bf6b69ce5e0f72324509439904ffc2b37d7c54cf35d9b1601e439042e\",\n",
            "        \"timestamp\": 1721198162,\n",
            "        \"data\": \"{\\\"type\\\": \\\"mint\\\", \\\"owner\\\": \\\"0xfeedfacefeedfacefeedfacefeedfacefeedface\\\", \\\"tokenId\\\": \\\"8b77fa5c5a4ba9119bd9258672bc9f59884b884ff9f187002d635b1d1a773aa8\\\", \\\"metadata\\\": \\\"https://example2.co.id\\\"}\",\n",
            "        \"hash\": \"be921243df3df864830db7a53f21ec9b1b94f868e52b4942f60ed1f8a3467020\"\n",
            "    },\n",
            "    {\n",
            "        \"index\": 8,\n",
            "        \"previous_hash\": \"be921243df3df864830db7a53f21ec9b1b94f868e52b4942f60ed1f8a3467020\",\n",
            "        \"timestamp\": 1721198162,\n",
            "        \"data\": \"{\\\"type\\\": \\\"transfer\\\", \\\"from\\\": \\\"0xfeedfacefeedfacefeedfacefeedfacefeedface\\\", \\\"to\\\": \\\"0xbadc0ffeebadc0ffeebadc0ffeebadc0ffeebadc\\\", \\\"tokenId\\\": \\\"8b77fa5c5a4ba9119bd9258672bc9f59884b884ff9f187002d635b1d1a773aa8\\\"}\",\n",
            "        \"hash\": \"d5d424efb1ea3e99392ecd887e7523589af6af736fdde76c5bd5b6646cef6d1e\"\n",
            "    },\n",
            "    {\n",
            "        \"index\": 9,\n",
            "        \"previous_hash\": \"d5d424efb1ea3e99392ecd887e7523589af6af736fdde76c5bd5b6646cef6d1e\",\n",
            "        \"timestamp\": 1721198162,\n",
            "        \"data\": \"{\\\"type\\\": \\\"mint_fungible\\\", \\\"to\\\": \\\"0xabc\\\", \\\"amount\\\": 1000}\",\n",
            "        \"hash\": \"72a1768cc4bff4bff81fbff211073a937410e333198c7061c635481ce30718ff\"\n",
            "    },\n",
            "    {\n",
            "        \"index\": 10,\n",
            "        \"previous_hash\": \"72a1768cc4bff4bff81fbff211073a937410e333198c7061c635481ce30718ff\",\n",
            "        \"timestamp\": 1721198162,\n",
            "        \"data\": \"{\\\"type\\\": \\\"mint_fungible\\\", \\\"to\\\": \\\"0xdef\\\", \\\"amount\\\": 500}\",\n",
            "        \"hash\": \"df99ea558a675e2485ad40ed894173d894edc841d61f40682171e4e3b99ff853\"\n",
            "    },\n",
            "    {\n",
            "        \"index\": 11,\n",
            "        \"previous_hash\": \"df99ea558a675e2485ad40ed894173d894edc841d61f40682171e4e3b99ff853\",\n",
            "        \"timestamp\": 1721198162,\n",
            "        \"data\": \"{\\\"type\\\": \\\"transfer_fungible\\\", \\\"from\\\": \\\"0xabc\\\", \\\"to\\\": \\\"0xdef\\\", \\\"amount\\\": 200}\",\n",
            "        \"hash\": \"34e2e3635e5b5b05e5fcc1e28cb214a69c5f1ea88f9d4c132f071b1478a7745c\"\n",
            "    },\n",
            "    {\n",
            "        \"index\": 12,\n",
            "        \"previous_hash\": \"34e2e3635e5b5b05e5fcc1e28cb214a69c5f1ea88f9d4c132f071b1478a7745c\",\n",
            "        \"timestamp\": 1721198170,\n",
            "        \"data\": \"Block 1 Data\",\n",
            "        \"hash\": \"cf5f39494365e35bb3f51a240cb400e9a5a5d015b81cbc60ab2a2c97839bc558\"\n",
            "    },\n",
            "    {\n",
            "        \"index\": 13,\n",
            "        \"previous_hash\": \"cf5f39494365e35bb3f51a240cb400e9a5a5d015b81cbc60ab2a2c97839bc558\",\n",
            "        \"timestamp\": 1721198170,\n",
            "        \"data\": \"Block 2 Data\",\n",
            "        \"hash\": \"f0f5087984ad11d754790109ee18d86809feed26e425e7741c28d5f6d1b755da\"\n",
            "    },\n",
            "    {\n",
            "        \"index\": 14,\n",
            "        \"previous_hash\": \"f0f5087984ad11d754790109ee18d86809feed26e425e7741c28d5f6d1b755da\",\n",
            "        \"timestamp\": 1721198184,\n",
            "        \"data\": \"Block 1 Data\",\n",
            "        \"hash\": \"e1d3c0fc9db6284df086527f556eec22148f4173eb713a3500185b57c3c3cc10\"\n",
            "    },\n",
            "    {\n",
            "        \"index\": 15,\n",
            "        \"previous_hash\": \"e1d3c0fc9db6284df086527f556eec22148f4173eb713a3500185b57c3c3cc10\",\n",
            "        \"timestamp\": 1721198202,\n",
            "        \"data\": \"Block 2 Data\",\n",
            "        \"hash\": \"fd7a1c98dc55e59266de0e6d8e0d66157afebf0825c397508a06a10a3498e52f\"\n",
            "    },\n",
            "    {\n",
            "        \"index\": 16,\n",
            "        \"previous_hash\": \"fd7a1c98dc55e59266de0e6d8e0d66157afebf0825c397508a06a10a3498e52f\",\n",
            "        \"timestamp\": 1721198244,\n",
            "        \"data\": \"Block 1 Data\",\n",
            "        \"hash\": \"fb99cd699219529d88a1b903e043cb28f8446418a8874f89f5aa3f5f23208789\"\n",
            "    },\n",
            "    {\n",
            "        \"index\": 17,\n",
            "        \"previous_hash\": \"fb99cd699219529d88a1b903e043cb28f8446418a8874f89f5aa3f5f23208789\",\n",
            "        \"timestamp\": 1721198244,\n",
            "        \"data\": \"Block 2 Data\",\n",
            "        \"hash\": \"4cd6aa99b6fe473a2163787892b45874678bcac619593b1946a815da16f34c58\"\n",
            "    },\n",
            "    {\n",
            "        \"index\": 18,\n",
            "        \"previous_hash\": \"4cd6aa99b6fe473a2163787892b45874678bcac619593b1946a815da16f34c58\",\n",
            "        \"timestamp\": 1721198249,\n",
            "        \"data\": \"Block 1 Data\",\n",
            "        \"hash\": \"11d647a79b6eb3576c62c1c1b970fdd4b2913fc7d3b5aff6a8a85db7fec03bfa\"\n",
            "    },\n",
            "    {\n",
            "        \"index\": 19,\n",
            "        \"previous_hash\": \"11d647a79b6eb3576c62c1c1b970fdd4b2913fc7d3b5aff6a8a85db7fec03bfa\",\n",
            "        \"timestamp\": 1721198249,\n",
            "        \"data\": \"Block 2 Data\",\n",
            "        \"hash\": \"45e8024d7caaae97c7c1f9efd2def0256e1a14dff6734ef317bb7894b0edd451\"\n",
            "    },\n",
            "    {\n",
            "        \"index\": 20,\n",
            "        \"previous_hash\": \"45e8024d7caaae97c7c1f9efd2def0256e1a14dff6734ef317bb7894b0edd451\",\n",
            "        \"timestamp\": 1721198252,\n",
            "        \"data\": \"Block 1 data\",\n",
            "        \"hash\": \"370523c205e0aecb93606983e53e2282b0f91922f411d265f5237d04b398d3b9\"\n",
            "    },\n",
            "    {\n",
            "        \"index\": 21,\n",
            "        \"previous_hash\": \"370523c205e0aecb93606983e53e2282b0f91922f411d265f5237d04b398d3b9\",\n",
            "        \"timestamp\": 1721198252,\n",
            "        \"data\": \"Block 2 data\",\n",
            "        \"hash\": \"4aa935aec363b94a8783d9c09a24af3e8f961dac24979703c0e1cf4786b532de\"\n",
            "    },\n",
            "    {\n",
            "        \"index\": 22,\n",
            "        \"previous_hash\": \"4aa935aec363b94a8783d9c09a24af3e8f961dac24979703c0e1cf4786b532de\",\n",
            "        \"timestamp\": 1721198252,\n",
            "        \"data\": \"Block 3 data\",\n",
            "        \"hash\": \"ed4591da2a3accb496f67fe663e276716574d304e16066501ad89b2164f1390b\"\n",
            "    },\n",
            "    {\n",
            "        \"index\": 23,\n",
            "        \"previous_hash\": \"ed4591da2a3accb496f67fe663e276716574d304e16066501ad89b2164f1390b\",\n",
            "        \"timestamp\": 1721198259,\n",
            "        \"data\": \"Block 1 Data\",\n",
            "        \"hash\": \"d9f854a5a6b0cebb063ff0cbd53e6582df019a4934756dc8185a21579789f33b\"\n",
            "    },\n",
            "    {\n",
            "        \"index\": 24,\n",
            "        \"previous_hash\": \"d9f854a5a6b0cebb063ff0cbd53e6582df019a4934756dc8185a21579789f33b\",\n",
            "        \"timestamp\": 1721198259,\n",
            "        \"data\": \"Block 2 Data\",\n",
            "        \"hash\": \"2633030ebf60cd55088b891c5ad346dc0f21c7ff582f68e4150ecc9bb7c7554b\"\n",
            "    },\n",
            "    {\n",
            "        \"index\": 25,\n",
            "        \"previous_hash\": \"2633030ebf60cd55088b891c5ad346dc0f21c7ff582f68e4150ecc9bb7c7554b\",\n",
            "        \"timestamp\": 1721198259,\n",
            "        \"data\": \"{\\\"type\\\": \\\"create_grant\\\", \\\"grant_id\\\": \\\"grant1\\\", \\\"proposer\\\": \\\"Alice\\\", \\\"amount\\\": 100, \\\"description\\\": \\\"Research on sustainable blockchain solutions\\\"}\",\n",
            "        \"hash\": \"cdb8abd6fe89764caee196528166c3d065db93cf2837d61d9d259ebd6cbc7ab5\"\n",
            "    },\n",
            "    {\n",
            "        \"index\": 26,\n",
            "        \"previous_hash\": \"cdb8abd6fe89764caee196528166c3d065db93cf2837d61d9d259ebd6cbc7ab5\",\n",
            "        \"timestamp\": 1721198259,\n",
            "        \"data\": \"{\\\"type\\\": \\\"vote_grant\\\", \\\"grant_id\\\": \\\"grant1\\\", \\\"stakeholder\\\": \\\"Bob\\\", \\\"vote\\\": \\\"yes\\\"}\",\n",
            "        \"hash\": \"04242457a29a832dca1521e71a874818c137df5217e584001e6c4a875c742484\"\n",
            "    },\n",
            "    {\n",
            "        \"index\": 27,\n",
            "        \"previous_hash\": \"04242457a29a832dca1521e71a874818c137df5217e584001e6c4a875c742484\",\n",
            "        \"timestamp\": 1721198259,\n",
            "        \"data\": \"{\\\"type\\\": \\\"vote_grant\\\", \\\"grant_id\\\": \\\"grant1\\\", \\\"stakeholder\\\": \\\"Charlie\\\", \\\"vote\\\": \\\"no\\\"}\",\n",
            "        \"hash\": \"512e4cf5b1f9169034149bd0c4c93a4a0a9e902cb133c6a0136379c9ff21d8d5\"\n",
            "    },\n",
            "    {\n",
            "        \"index\": 28,\n",
            "        \"previous_hash\": \"512e4cf5b1f9169034149bd0c4c93a4a0a9e902cb133c6a0136379c9ff21d8d5\",\n",
            "        \"timestamp\": 1721198259,\n",
            "        \"data\": \"{\\\"type\\\": \\\"vote_grant\\\", \\\"grant_id\\\": \\\"grant1\\\", \\\"stakeholder\\\": \\\"Hani\\\", \\\"vote\\\": \\\"no\\\"}\",\n",
            "        \"hash\": \"1afa577265eeebbf560dc079f51d5530a1f2cf02fd8b795997023f7d5565d603\"\n",
            "    },\n",
            "    {\n",
            "        \"index\": 29,\n",
            "        \"previous_hash\": \"1afa577265eeebbf560dc079f51d5530a1f2cf02fd8b795997023f7d5565d603\",\n",
            "        \"timestamp\": 1721198259,\n",
            "        \"data\": \"Block 1 Data\",\n",
            "        \"hash\": \"aba072118b3ac65b165fbaf0a476563319d35b5527a5b1880413dac9349a51e1\"\n",
            "    },\n",
            "    {\n",
            "        \"index\": 30,\n",
            "        \"previous_hash\": \"aba072118b3ac65b165fbaf0a476563319d35b5527a5b1880413dac9349a51e1\",\n",
            "        \"timestamp\": 1721198259,\n",
            "        \"data\": \"Block 2 Data\",\n",
            "        \"hash\": \"1a699d9c71f9690b8886eb77e264d225ab6b5f66b114cc933a8452aae0761106\"\n",
            "    },\n",
            "    {\n",
            "        \"index\": 31,\n",
            "        \"previous_hash\": \"1a699d9c71f9690b8886eb77e264d225ab6b5f66b114cc933a8452aae0761106\",\n",
            "        \"timestamp\": 1721198259,\n",
            "        \"data\": \"{\\\"type\\\": \\\"create_proposal\\\", \\\"proposal_id\\\": \\\"proposal1\\\", \\\"proposer\\\": \\\"Alice\\\", \\\"description\\\": \\\"Create a documentary on blockchain technology\\\"}\",\n",
            "        \"hash\": \"970d8398aa62cf88590c6d220c24457f571915d9b58d4694554afd6e6ee60bf8\"\n",
            "    },\n",
            "    {\n",
            "        \"index\": 32,\n",
            "        \"previous_hash\": \"970d8398aa62cf88590c6d220c24457f571915d9b58d4694554afd6e6ee60bf8\",\n",
            "        \"timestamp\": 1721198259,\n",
            "        \"data\": \"{\\\"type\\\": \\\"vote_proposal\\\", \\\"proposal_id\\\": \\\"proposal1\\\", \\\"stakeholder\\\": \\\"Bob\\\", \\\"vote\\\": \\\"yes\\\"}\",\n",
            "        \"hash\": \"e623b6a63d5b7c958bc388a65f97870639d3e3390dcdeca71155d943fd97bef6\"\n",
            "    },\n",
            "    {\n",
            "        \"index\": 33,\n",
            "        \"previous_hash\": \"e623b6a63d5b7c958bc388a65f97870639d3e3390dcdeca71155d943fd97bef6\",\n",
            "        \"timestamp\": 1721198259,\n",
            "        \"data\": \"{\\\"type\\\": \\\"vote_proposal\\\", \\\"proposal_id\\\": \\\"proposal1\\\", \\\"stakeholder\\\": \\\"Charlie\\\", \\\"vote\\\": \\\"yes\\\"}\",\n",
            "        \"hash\": \"d59553f2e55c4c99741a0758e1b1c80ee31d2a412c646452ca5d8a14ef205444\"\n",
            "    },\n",
            "    {\n",
            "        \"index\": 34,\n",
            "        \"previous_hash\": \"d59553f2e55c4c99741a0758e1b1c80ee31d2a412c646452ca5d8a14ef205444\",\n",
            "        \"timestamp\": 1721198259,\n",
            "        \"data\": \"{\\\"type\\\": \\\"vote_proposal\\\", \\\"proposal_id\\\": \\\"proposal1\\\", \\\"stakeholder\\\": \\\"Hani\\\", \\\"vote\\\": \\\"yes\\\"}\",\n",
            "        \"hash\": \"0b3e061c710948146b431b06fffa274c412132f4e111cc1e4ffb85128649b3b4\"\n",
            "    },\n",
            "    {\n",
            "        \"index\": 35,\n",
            "        \"previous_hash\": \"0b3e061c710948146b431b06fffa274c412132f4e111cc1e4ffb85128649b3b4\",\n",
            "        \"timestamp\": 1721198259,\n",
            "        \"data\": \"{\\\"type\\\": \\\"execute_proposal\\\", \\\"proposal_id\\\": \\\"proposal1\\\"}\",\n",
            "        \"hash\": \"11d9958c33f867d1a8f2a7f9374cb355baf187d7488d53796cf5b8a73ec6f556\"\n",
            "    }\n",
            "]\n"
          ]
        }
      ]
    },
    {
      "cell_type": "code",
      "source": [
        "# Smart Contract Code for Media DAO\n",
        "media_dao_code = \"\"\"\n",
        "proposals = {}\n",
        "\n",
        "def create_proposal(proposal_id, proposer, description):\n",
        "    if proposal_id in proposals:\n",
        "        raise ValueError(\"Proposal ID already exists\")\n",
        "    proposals[proposal_id] = {\n",
        "        'proposer': proposer,\n",
        "        'description': description,\n",
        "        'votes': {'yes': 0, 'no': 0},\n",
        "        'executed': False\n",
        "    }\n",
        "\n",
        "def vote_proposal(proposal_id, stakeholder, vote):\n",
        "    if proposal_id not in proposals:\n",
        "        raise ValueError(\"Proposal ID not found\")\n",
        "    if vote not in ['yes', 'no']:\n",
        "        raise ValueError(\"Vote must be 'yes' or 'no'\")\n",
        "    proposals[proposal_id]['votes'][vote] += 1\n",
        "\n",
        "def execute_proposal(proposal_id):\n",
        "    if proposal_id not in proposals:\n",
        "        raise ValueError(\"Proposal ID not found\")\n",
        "    proposal = proposals[proposal_id]\n",
        "    if proposal['votes']['yes'] > proposal['votes']['no'] and not proposal['executed']:\n",
        "        # Logic to reward or execute the proposal\n",
        "        proposal['executed'] = True\n",
        "    else:\n",
        "        raise ValueError(\"Proposal not approved or already executed\")\n",
        "\"\"\""
      ],
      "metadata": {
        "id": "NHWuPr2CK-bD"
      },
      "execution_count": 77,
      "outputs": []
    },
    {
      "cell_type": "code",
      "source": [
        "import time as t\n",
        "\n",
        "# Deploying the smart contract\n",
        "pos = ProofOfStake()\n",
        "blockchain = MediaDAOs(pos)\n",
        "contract_hash = blockchain.store_smart_contract(media_dao_code)\n",
        "\n",
        "# Add stakeholders\n",
        "pos.add_stakeholder('Alice', 10)\n",
        "pos.add_stakeholder('Bob', 20)\n",
        "pos.add_stakeholder('Charlie', 30)\n",
        "pos.add_stakeholder('Hani', 25)\n",
        "\n",
        "# Create media proposal\n",
        "proposal_id = \"proposal1\"\n",
        "proposer = \"Alice\"\n",
        "description = \"Create a documentary on blockchain technology\"\n",
        "blockchain.execute_smart_contract_from_block(contract_hash, function=\"create_proposal\", proposal_id=proposal_id, proposer=proposer, description=description)\n",
        "\n",
        "# Stakeholder voting\n",
        "blockchain.execute_smart_contract_from_block(contract_hash, function=\"vote_proposal\", proposal_id=proposal_id, stakeholder='Bob', vote='yes')\n",
        "blockchain.execute_smart_contract_from_block(contract_hash, function=\"vote_proposal\", proposal_id=proposal_id, stakeholder='Charlie', vote='yes')\n",
        "blockchain.execute_smart_contract_from_block(contract_hash, function=\"vote_proposal\", proposal_id=proposal_id, stakeholder='Hani', vote='yes')\n",
        "\n",
        "# Execute proposal after voting\n",
        "try:\n",
        "    blockchain.execute_smart_contract_from_block(contract_hash, function=\"execute_proposal\", proposal_id=proposal_id)\n",
        "    print(f\"Proposal executed successfully.\")\n",
        "except ValueError as e:\n",
        "    print(f\"Error executing proposal: {e}\")\n",
        "    # Check the votes to see if the proposal was approved\n",
        "    proposal = blockchain.smart_contracts[contract_hash].proposals.get(proposal_id)\n",
        "    if proposal:\n",
        "        print(f\"Proposal votes: {proposal['votes']}\")\n",
        "\n",
        "# Print blockchain content in JSON format\n",
        "print(\"Blockchain content in JSON:\")\n",
        "print(blockchain.to_json())"
      ],
      "metadata": {
        "collapsed": true,
        "id": "2TyoEeSqLABA",
        "outputId": "0597cca1-a507-4827-eead-86ec3166f9ed",
        "colab": {
          "base_uri": "https://localhost:8080/"
        }
      },
      "execution_count": 78,
      "outputs": [
        {
          "output_type": "stream",
          "name": "stdout",
          "text": [
            "Smart Contract Block #39 created by None using PoS\n",
            "Proposal executed successfully.\n",
            "Blockchain content in JSON:\n",
            "[\n",
            "    {\n",
            "        \"index\": 0,\n",
            "        \"previous_hash\": \"0\",\n",
            "        \"timestamp\": 1721198153,\n",
            "        \"data\": \"Genesis Block\",\n",
            "        \"hash\": \"febe648ded6e5230405553b9a63b02c23a0629c231988682529bc9104601eca0\"\n",
            "    },\n",
            "    {\n",
            "        \"index\": 1,\n",
            "        \"previous_hash\": \"febe648ded6e5230405553b9a63b02c23a0629c231988682529bc9104601eca0\",\n",
            "        \"timestamp\": 1721198153,\n",
            "        \"data\": \"Block 1 data\",\n",
            "        \"hash\": \"75c7dfeb1729699bf810ec7b48bb578d9cc87fae33c45fef604e063738501816\"\n",
            "    },\n",
            "    {\n",
            "        \"index\": 2,\n",
            "        \"previous_hash\": \"75c7dfeb1729699bf810ec7b48bb578d9cc87fae33c45fef604e063738501816\",\n",
            "        \"timestamp\": 1721198153,\n",
            "        \"data\": \"Block 2 data\",\n",
            "        \"hash\": \"47b272f4ae590dc89331bc74353cab3de39b0d870e6cea012dbaa65b5ce2e591\"\n",
            "    },\n",
            "    {\n",
            "        \"index\": 3,\n",
            "        \"previous_hash\": \"47b272f4ae590dc89331bc74353cab3de39b0d870e6cea012dbaa65b5ce2e591\",\n",
            "        \"timestamp\": 1721198153,\n",
            "        \"data\": \"Block 3 data\",\n",
            "        \"hash\": \"e1a1ddcb2a50bc977108c0c3267023b717c37377428e822840ec22689936aee5\"\n",
            "    },\n",
            "    {\n",
            "        \"index\": 4,\n",
            "        \"previous_hash\": \"e1a1ddcb2a50bc977108c0c3267023b717c37377428e822840ec22689936aee5\",\n",
            "        \"timestamp\": 1721198162,\n",
            "        \"data\": \"Block 1 Data\",\n",
            "        \"hash\": \"f61ac08f3b1090f824befb1e40cf01b8a2102fb4c65465fd862f1ee38299d2b2\"\n",
            "    },\n",
            "    {\n",
            "        \"index\": 5,\n",
            "        \"previous_hash\": \"f61ac08f3b1090f824befb1e40cf01b8a2102fb4c65465fd862f1ee38299d2b2\",\n",
            "        \"timestamp\": 1721198162,\n",
            "        \"data\": \"Block 2 Data\",\n",
            "        \"hash\": \"1016692d2ff3de9541b0180f18b2ad1e2dcf9175904c484757b071c799983ab0\"\n",
            "    },\n",
            "    {\n",
            "        \"index\": 6,\n",
            "        \"previous_hash\": \"1016692d2ff3de9541b0180f18b2ad1e2dcf9175904c484757b071c799983ab0\",\n",
            "        \"timestamp\": 1721198162,\n",
            "        \"data\": \"\\ndef contract_function(storage):\\n    storage['counter'] = storage.get('counter', 0) + 1\\n    print(f\\\"Counter value: {storage['counter']}\\\")\\ncontract_function(storage)\\n\",\n",
            "        \"hash\": \"53eca47bf6b69ce5e0f72324509439904ffc2b37d7c54cf35d9b1601e439042e\"\n",
            "    },\n",
            "    {\n",
            "        \"index\": 7,\n",
            "        \"previous_hash\": \"53eca47bf6b69ce5e0f72324509439904ffc2b37d7c54cf35d9b1601e439042e\",\n",
            "        \"timestamp\": 1721198162,\n",
            "        \"data\": \"{\\\"type\\\": \\\"mint\\\", \\\"owner\\\": \\\"0xfeedfacefeedfacefeedfacefeedfacefeedface\\\", \\\"tokenId\\\": \\\"8b77fa5c5a4ba9119bd9258672bc9f59884b884ff9f187002d635b1d1a773aa8\\\", \\\"metadata\\\": \\\"https://example2.co.id\\\"}\",\n",
            "        \"hash\": \"be921243df3df864830db7a53f21ec9b1b94f868e52b4942f60ed1f8a3467020\"\n",
            "    },\n",
            "    {\n",
            "        \"index\": 8,\n",
            "        \"previous_hash\": \"be921243df3df864830db7a53f21ec9b1b94f868e52b4942f60ed1f8a3467020\",\n",
            "        \"timestamp\": 1721198162,\n",
            "        \"data\": \"{\\\"type\\\": \\\"transfer\\\", \\\"from\\\": \\\"0xfeedfacefeedfacefeedfacefeedfacefeedface\\\", \\\"to\\\": \\\"0xbadc0ffeebadc0ffeebadc0ffeebadc0ffeebadc\\\", \\\"tokenId\\\": \\\"8b77fa5c5a4ba9119bd9258672bc9f59884b884ff9f187002d635b1d1a773aa8\\\"}\",\n",
            "        \"hash\": \"d5d424efb1ea3e99392ecd887e7523589af6af736fdde76c5bd5b6646cef6d1e\"\n",
            "    },\n",
            "    {\n",
            "        \"index\": 9,\n",
            "        \"previous_hash\": \"d5d424efb1ea3e99392ecd887e7523589af6af736fdde76c5bd5b6646cef6d1e\",\n",
            "        \"timestamp\": 1721198162,\n",
            "        \"data\": \"{\\\"type\\\": \\\"mint_fungible\\\", \\\"to\\\": \\\"0xabc\\\", \\\"amount\\\": 1000}\",\n",
            "        \"hash\": \"72a1768cc4bff4bff81fbff211073a937410e333198c7061c635481ce30718ff\"\n",
            "    },\n",
            "    {\n",
            "        \"index\": 10,\n",
            "        \"previous_hash\": \"72a1768cc4bff4bff81fbff211073a937410e333198c7061c635481ce30718ff\",\n",
            "        \"timestamp\": 1721198162,\n",
            "        \"data\": \"{\\\"type\\\": \\\"mint_fungible\\\", \\\"to\\\": \\\"0xdef\\\", \\\"amount\\\": 500}\",\n",
            "        \"hash\": \"df99ea558a675e2485ad40ed894173d894edc841d61f40682171e4e3b99ff853\"\n",
            "    },\n",
            "    {\n",
            "        \"index\": 11,\n",
            "        \"previous_hash\": \"df99ea558a675e2485ad40ed894173d894edc841d61f40682171e4e3b99ff853\",\n",
            "        \"timestamp\": 1721198162,\n",
            "        \"data\": \"{\\\"type\\\": \\\"transfer_fungible\\\", \\\"from\\\": \\\"0xabc\\\", \\\"to\\\": \\\"0xdef\\\", \\\"amount\\\": 200}\",\n",
            "        \"hash\": \"34e2e3635e5b5b05e5fcc1e28cb214a69c5f1ea88f9d4c132f071b1478a7745c\"\n",
            "    },\n",
            "    {\n",
            "        \"index\": 12,\n",
            "        \"previous_hash\": \"34e2e3635e5b5b05e5fcc1e28cb214a69c5f1ea88f9d4c132f071b1478a7745c\",\n",
            "        \"timestamp\": 1721198170,\n",
            "        \"data\": \"Block 1 Data\",\n",
            "        \"hash\": \"cf5f39494365e35bb3f51a240cb400e9a5a5d015b81cbc60ab2a2c97839bc558\"\n",
            "    },\n",
            "    {\n",
            "        \"index\": 13,\n",
            "        \"previous_hash\": \"cf5f39494365e35bb3f51a240cb400e9a5a5d015b81cbc60ab2a2c97839bc558\",\n",
            "        \"timestamp\": 1721198170,\n",
            "        \"data\": \"Block 2 Data\",\n",
            "        \"hash\": \"f0f5087984ad11d754790109ee18d86809feed26e425e7741c28d5f6d1b755da\"\n",
            "    },\n",
            "    {\n",
            "        \"index\": 14,\n",
            "        \"previous_hash\": \"f0f5087984ad11d754790109ee18d86809feed26e425e7741c28d5f6d1b755da\",\n",
            "        \"timestamp\": 1721198184,\n",
            "        \"data\": \"Block 1 Data\",\n",
            "        \"hash\": \"e1d3c0fc9db6284df086527f556eec22148f4173eb713a3500185b57c3c3cc10\"\n",
            "    },\n",
            "    {\n",
            "        \"index\": 15,\n",
            "        \"previous_hash\": \"e1d3c0fc9db6284df086527f556eec22148f4173eb713a3500185b57c3c3cc10\",\n",
            "        \"timestamp\": 1721198202,\n",
            "        \"data\": \"Block 2 Data\",\n",
            "        \"hash\": \"fd7a1c98dc55e59266de0e6d8e0d66157afebf0825c397508a06a10a3498e52f\"\n",
            "    },\n",
            "    {\n",
            "        \"index\": 16,\n",
            "        \"previous_hash\": \"fd7a1c98dc55e59266de0e6d8e0d66157afebf0825c397508a06a10a3498e52f\",\n",
            "        \"timestamp\": 1721198244,\n",
            "        \"data\": \"Block 1 Data\",\n",
            "        \"hash\": \"fb99cd699219529d88a1b903e043cb28f8446418a8874f89f5aa3f5f23208789\"\n",
            "    },\n",
            "    {\n",
            "        \"index\": 17,\n",
            "        \"previous_hash\": \"fb99cd699219529d88a1b903e043cb28f8446418a8874f89f5aa3f5f23208789\",\n",
            "        \"timestamp\": 1721198244,\n",
            "        \"data\": \"Block 2 Data\",\n",
            "        \"hash\": \"4cd6aa99b6fe473a2163787892b45874678bcac619593b1946a815da16f34c58\"\n",
            "    },\n",
            "    {\n",
            "        \"index\": 18,\n",
            "        \"previous_hash\": \"4cd6aa99b6fe473a2163787892b45874678bcac619593b1946a815da16f34c58\",\n",
            "        \"timestamp\": 1721198249,\n",
            "        \"data\": \"Block 1 Data\",\n",
            "        \"hash\": \"11d647a79b6eb3576c62c1c1b970fdd4b2913fc7d3b5aff6a8a85db7fec03bfa\"\n",
            "    },\n",
            "    {\n",
            "        \"index\": 19,\n",
            "        \"previous_hash\": \"11d647a79b6eb3576c62c1c1b970fdd4b2913fc7d3b5aff6a8a85db7fec03bfa\",\n",
            "        \"timestamp\": 1721198249,\n",
            "        \"data\": \"Block 2 Data\",\n",
            "        \"hash\": \"45e8024d7caaae97c7c1f9efd2def0256e1a14dff6734ef317bb7894b0edd451\"\n",
            "    },\n",
            "    {\n",
            "        \"index\": 20,\n",
            "        \"previous_hash\": \"45e8024d7caaae97c7c1f9efd2def0256e1a14dff6734ef317bb7894b0edd451\",\n",
            "        \"timestamp\": 1721198252,\n",
            "        \"data\": \"Block 1 data\",\n",
            "        \"hash\": \"370523c205e0aecb93606983e53e2282b0f91922f411d265f5237d04b398d3b9\"\n",
            "    },\n",
            "    {\n",
            "        \"index\": 21,\n",
            "        \"previous_hash\": \"370523c205e0aecb93606983e53e2282b0f91922f411d265f5237d04b398d3b9\",\n",
            "        \"timestamp\": 1721198252,\n",
            "        \"data\": \"Block 2 data\",\n",
            "        \"hash\": \"4aa935aec363b94a8783d9c09a24af3e8f961dac24979703c0e1cf4786b532de\"\n",
            "    },\n",
            "    {\n",
            "        \"index\": 22,\n",
            "        \"previous_hash\": \"4aa935aec363b94a8783d9c09a24af3e8f961dac24979703c0e1cf4786b532de\",\n",
            "        \"timestamp\": 1721198252,\n",
            "        \"data\": \"Block 3 data\",\n",
            "        \"hash\": \"ed4591da2a3accb496f67fe663e276716574d304e16066501ad89b2164f1390b\"\n",
            "    },\n",
            "    {\n",
            "        \"index\": 23,\n",
            "        \"previous_hash\": \"ed4591da2a3accb496f67fe663e276716574d304e16066501ad89b2164f1390b\",\n",
            "        \"timestamp\": 1721198259,\n",
            "        \"data\": \"Block 1 Data\",\n",
            "        \"hash\": \"d9f854a5a6b0cebb063ff0cbd53e6582df019a4934756dc8185a21579789f33b\"\n",
            "    },\n",
            "    {\n",
            "        \"index\": 24,\n",
            "        \"previous_hash\": \"d9f854a5a6b0cebb063ff0cbd53e6582df019a4934756dc8185a21579789f33b\",\n",
            "        \"timestamp\": 1721198259,\n",
            "        \"data\": \"Block 2 Data\",\n",
            "        \"hash\": \"2633030ebf60cd55088b891c5ad346dc0f21c7ff582f68e4150ecc9bb7c7554b\"\n",
            "    },\n",
            "    {\n",
            "        \"index\": 25,\n",
            "        \"previous_hash\": \"2633030ebf60cd55088b891c5ad346dc0f21c7ff582f68e4150ecc9bb7c7554b\",\n",
            "        \"timestamp\": 1721198259,\n",
            "        \"data\": \"{\\\"type\\\": \\\"create_grant\\\", \\\"grant_id\\\": \\\"grant1\\\", \\\"proposer\\\": \\\"Alice\\\", \\\"amount\\\": 100, \\\"description\\\": \\\"Research on sustainable blockchain solutions\\\"}\",\n",
            "        \"hash\": \"cdb8abd6fe89764caee196528166c3d065db93cf2837d61d9d259ebd6cbc7ab5\"\n",
            "    },\n",
            "    {\n",
            "        \"index\": 26,\n",
            "        \"previous_hash\": \"cdb8abd6fe89764caee196528166c3d065db93cf2837d61d9d259ebd6cbc7ab5\",\n",
            "        \"timestamp\": 1721198259,\n",
            "        \"data\": \"{\\\"type\\\": \\\"vote_grant\\\", \\\"grant_id\\\": \\\"grant1\\\", \\\"stakeholder\\\": \\\"Bob\\\", \\\"vote\\\": \\\"yes\\\"}\",\n",
            "        \"hash\": \"04242457a29a832dca1521e71a874818c137df5217e584001e6c4a875c742484\"\n",
            "    },\n",
            "    {\n",
            "        \"index\": 27,\n",
            "        \"previous_hash\": \"04242457a29a832dca1521e71a874818c137df5217e584001e6c4a875c742484\",\n",
            "        \"timestamp\": 1721198259,\n",
            "        \"data\": \"{\\\"type\\\": \\\"vote_grant\\\", \\\"grant_id\\\": \\\"grant1\\\", \\\"stakeholder\\\": \\\"Charlie\\\", \\\"vote\\\": \\\"no\\\"}\",\n",
            "        \"hash\": \"512e4cf5b1f9169034149bd0c4c93a4a0a9e902cb133c6a0136379c9ff21d8d5\"\n",
            "    },\n",
            "    {\n",
            "        \"index\": 28,\n",
            "        \"previous_hash\": \"512e4cf5b1f9169034149bd0c4c93a4a0a9e902cb133c6a0136379c9ff21d8d5\",\n",
            "        \"timestamp\": 1721198259,\n",
            "        \"data\": \"{\\\"type\\\": \\\"vote_grant\\\", \\\"grant_id\\\": \\\"grant1\\\", \\\"stakeholder\\\": \\\"Hani\\\", \\\"vote\\\": \\\"no\\\"}\",\n",
            "        \"hash\": \"1afa577265eeebbf560dc079f51d5530a1f2cf02fd8b795997023f7d5565d603\"\n",
            "    },\n",
            "    {\n",
            "        \"index\": 29,\n",
            "        \"previous_hash\": \"1afa577265eeebbf560dc079f51d5530a1f2cf02fd8b795997023f7d5565d603\",\n",
            "        \"timestamp\": 1721198259,\n",
            "        \"data\": \"Block 1 Data\",\n",
            "        \"hash\": \"aba072118b3ac65b165fbaf0a476563319d35b5527a5b1880413dac9349a51e1\"\n",
            "    },\n",
            "    {\n",
            "        \"index\": 30,\n",
            "        \"previous_hash\": \"aba072118b3ac65b165fbaf0a476563319d35b5527a5b1880413dac9349a51e1\",\n",
            "        \"timestamp\": 1721198259,\n",
            "        \"data\": \"Block 2 Data\",\n",
            "        \"hash\": \"1a699d9c71f9690b8886eb77e264d225ab6b5f66b114cc933a8452aae0761106\"\n",
            "    },\n",
            "    {\n",
            "        \"index\": 31,\n",
            "        \"previous_hash\": \"1a699d9c71f9690b8886eb77e264d225ab6b5f66b114cc933a8452aae0761106\",\n",
            "        \"timestamp\": 1721198259,\n",
            "        \"data\": \"{\\\"type\\\": \\\"create_proposal\\\", \\\"proposal_id\\\": \\\"proposal1\\\", \\\"proposer\\\": \\\"Alice\\\", \\\"description\\\": \\\"Create a documentary on blockchain technology\\\"}\",\n",
            "        \"hash\": \"970d8398aa62cf88590c6d220c24457f571915d9b58d4694554afd6e6ee60bf8\"\n",
            "    },\n",
            "    {\n",
            "        \"index\": 32,\n",
            "        \"previous_hash\": \"970d8398aa62cf88590c6d220c24457f571915d9b58d4694554afd6e6ee60bf8\",\n",
            "        \"timestamp\": 1721198259,\n",
            "        \"data\": \"{\\\"type\\\": \\\"vote_proposal\\\", \\\"proposal_id\\\": \\\"proposal1\\\", \\\"stakeholder\\\": \\\"Bob\\\", \\\"vote\\\": \\\"yes\\\"}\",\n",
            "        \"hash\": \"e623b6a63d5b7c958bc388a65f97870639d3e3390dcdeca71155d943fd97bef6\"\n",
            "    },\n",
            "    {\n",
            "        \"index\": 33,\n",
            "        \"previous_hash\": \"e623b6a63d5b7c958bc388a65f97870639d3e3390dcdeca71155d943fd97bef6\",\n",
            "        \"timestamp\": 1721198259,\n",
            "        \"data\": \"{\\\"type\\\": \\\"vote_proposal\\\", \\\"proposal_id\\\": \\\"proposal1\\\", \\\"stakeholder\\\": \\\"Charlie\\\", \\\"vote\\\": \\\"yes\\\"}\",\n",
            "        \"hash\": \"d59553f2e55c4c99741a0758e1b1c80ee31d2a412c646452ca5d8a14ef205444\"\n",
            "    },\n",
            "    {\n",
            "        \"index\": 34,\n",
            "        \"previous_hash\": \"d59553f2e55c4c99741a0758e1b1c80ee31d2a412c646452ca5d8a14ef205444\",\n",
            "        \"timestamp\": 1721198259,\n",
            "        \"data\": \"{\\\"type\\\": \\\"vote_proposal\\\", \\\"proposal_id\\\": \\\"proposal1\\\", \\\"stakeholder\\\": \\\"Hani\\\", \\\"vote\\\": \\\"yes\\\"}\",\n",
            "        \"hash\": \"0b3e061c710948146b431b06fffa274c412132f4e111cc1e4ffb85128649b3b4\"\n",
            "    },\n",
            "    {\n",
            "        \"index\": 35,\n",
            "        \"previous_hash\": \"0b3e061c710948146b431b06fffa274c412132f4e111cc1e4ffb85128649b3b4\",\n",
            "        \"timestamp\": 1721198259,\n",
            "        \"data\": \"{\\\"type\\\": \\\"execute_proposal\\\", \\\"proposal_id\\\": \\\"proposal1\\\"}\",\n",
            "        \"hash\": \"11d9958c33f867d1a8f2a7f9374cb355baf187d7488d53796cf5b8a73ec6f556\"\n",
            "    },\n",
            "    {\n",
            "        \"index\": 36,\n",
            "        \"previous_hash\": \"11d9958c33f867d1a8f2a7f9374cb355baf187d7488d53796cf5b8a73ec6f556\",\n",
            "        \"timestamp\": 1721210778,\n",
            "        \"data\": \"\\ngrants = {}\\nfungible_token_contract = None\\n\\ndef initialize(fungible_token_contract_):\\n    global fungible_token_contract\\n    fungible_token_contract = fungible_token_contract_\\n\\ndef create_grant(grant_id, proposer, amount, description):\\n    if grant_id in grants:\\n        raise ValueError(\\\"Grant ID already exists\\\")\\n    grants[grant_id] = {\\n        'proposer': proposer,\\n        'amount': amount,\\n        'description': description,\\n        'votes': {'yes': 0, 'no': 0},\\n        'executed': False\\n    }\\n\\ndef vote_grant(grant_id, stakeholder, vote):\\n    if grant_id not in grants:\\n        raise ValueError(\\\"Grant ID not found\\\")\\n    if vote not in ['yes', 'no']:\\n        raise ValueError(\\\"Vote must be 'yes' or 'no'\\\")\\n    grants[grant_id]['votes'][vote] += 1\\n\\ndef execute_grant(grant_id):\\n    if grant_id not in grants:\\n        raise ValueError(\\\"Grant ID not found\\\")\\n    grant = grants[grant_id]\\n    if grant['votes']['yes'] > grant['votes']['no'] and not grant['executed']:\\n        fungible_token_contract.mint(grant['proposer'], grant['amount'])\\n        grant['executed'] = True\\n    else:\\n        raise ValueError(\\\"Grant not approved or already executed\\\")\\n\",\n",
            "        \"hash\": \"d4084af0eefc4193bf86d76f5e00d60e5abd77e71d76e6cb0385cdc1b6ec570b\"\n",
            "    },\n",
            "    {\n",
            "        \"index\": 37,\n",
            "        \"previous_hash\": \"d4084af0eefc4193bf86d76f5e00d60e5abd77e71d76e6cb0385cdc1b6ec570b\",\n",
            "        \"timestamp\": 1721210778,\n",
            "        \"data\": \"Block 1 Data\",\n",
            "        \"hash\": \"f4861dd49b9507c1c4aeec49a6245426dcdf997f82bbd4ced3606822862e3232\"\n",
            "    },\n",
            "    {\n",
            "        \"index\": 38,\n",
            "        \"previous_hash\": \"f4861dd49b9507c1c4aeec49a6245426dcdf997f82bbd4ced3606822862e3232\",\n",
            "        \"timestamp\": 1721210778,\n",
            "        \"data\": \"Block 2 Data\",\n",
            "        \"hash\": \"341ebcff9100eb8b70b48b5c142dd2aa889e88fed9d02042ae30b4d89d82b8fa\"\n",
            "    },\n",
            "    {\n",
            "        \"index\": 39,\n",
            "        \"previous_hash\": \"341ebcff9100eb8b70b48b5c142dd2aa889e88fed9d02042ae30b4d89d82b8fa\",\n",
            "        \"timestamp\": 1721211055,\n",
            "        \"data\": \"\\nproposals = {}\\n\\ndef create_proposal(proposal_id, proposer, description):\\n    if proposal_id in proposals:\\n        raise ValueError(\\\"Proposal ID already exists\\\")\\n    proposals[proposal_id] = {\\n        'proposer': proposer,\\n        'description': description,\\n        'votes': {'yes': 0, 'no': 0},\\n        'executed': False\\n    }\\n\\ndef vote_proposal(proposal_id, stakeholder, vote):\\n    if proposal_id not in proposals:\\n        raise ValueError(\\\"Proposal ID not found\\\")\\n    if vote not in ['yes', 'no']:\\n        raise ValueError(\\\"Vote must be 'yes' or 'no'\\\")\\n    proposals[proposal_id]['votes'][vote] += 1\\n\\ndef execute_proposal(proposal_id):\\n    if proposal_id not in proposals:\\n        raise ValueError(\\\"Proposal ID not found\\\")\\n    proposal = proposals[proposal_id]\\n    if proposal['votes']['yes'] > proposal['votes']['no'] and not proposal['executed']:\\n        # Logic to reward or execute the proposal\\n        proposal['executed'] = True\\n    else:\\n        raise ValueError(\\\"Proposal not approved or already executed\\\")\\n\",\n",
            "        \"hash\": \"b091b55cc8c5f14b4108a8a3c436ac1fb7458a5b8dd5da742061c908d47fdb88\"\n",
            "    }\n",
            "]\n"
          ]
        }
      ]
    },
    {
      "cell_type": "markdown",
      "source": [
        "## DEFI"
      ],
      "metadata": {
        "id": "EFYM7nHB9Gv_"
      }
    },
    {
      "cell_type": "markdown",
      "source": [
        "### Demo DeFi Yield Farming Platform"
      ],
      "metadata": {
        "id": "qj0b4RmO9wWn"
      }
    },
    {
      "cell_type": "code",
      "source": [
        "# DeFi Yield Farming Platform\n",
        "class DeFiYieldFarming:\n",
        "    def __init__(self, staking_token: ERC20, reward_token: ERC20, reward_rate: float):\n",
        "        self.staking_token = staking_token\n",
        "        self.reward_token = reward_token\n",
        "        self.reward_rate = reward_rate\n",
        "        self.stakes = {}\n",
        "        self.rewards = {}\n",
        "        self.last_update_time = {}\n",
        "\n",
        "    def _update_rewards(self, user):\n",
        "        if user in self.stakes:\n",
        "            time_now = time.time()\n",
        "            staked_time = time_now - self.last_update_time.get(user, time_now)\n",
        "            self.rewards[user] = self.rewards.get(user, 0.0) + staked_time * self.stakes[user] * self.reward_rate\n",
        "            self.last_update_time[user] = time_now\n",
        "\n",
        "    def stake(self, user, amount):\n",
        "        self._update_rewards(user)\n",
        "        if self.staking_token.transfer(user, self, amount):\n",
        "            self.stakes[user] = self.stakes.get(user, 0) + amount\n",
        "            return True\n",
        "        return False\n",
        "\n",
        "    def unstake(self, user, amount):\n",
        "        self._update_rewards(user)\n",
        "        if self.stakes.get(user, 0) >= amount:\n",
        "            self.stakes[user] -= amount\n",
        "            if self.staking_token.transfer(self, user, amount):\n",
        "                return True\n",
        "            else:\n",
        "                self.stakes[user] += amount  # Rollback on failure\n",
        "        return False\n",
        "\n",
        "    def claim_rewards(self, user):\n",
        "        self._update_rewards(user)\n",
        "        reward = self.rewards.get(user, 0.0)\n",
        "        if reward > 0:\n",
        "            self.rewards[user] = 0.0\n",
        "            self.reward_token.balances[self] -= reward\n",
        "            self.reward_token.balances[user] += reward\n",
        "            return reward\n",
        "        return 0.0"
      ],
      "metadata": {
        "id": "fsGf1MVp9uph"
      },
      "execution_count": 61,
      "outputs": []
    },
    {
      "cell_type": "code",
      "source": [
        "# Demo DeFi Yield Farming Platform\n",
        "pos_protocol = ProofOfStake()\n",
        "blockchain = MyBlockchain(pos_protocol)\n",
        "\n",
        "reward_token = ERC20()\n",
        "yield_farming_platform = DeFiYieldFarming(staking_token=blockchain.fungible_token_contract, reward_token=reward_token, reward_rate=0.1)\n",
        "reward_token.mint(\"yield_farming_contract\", 1000)\n",
        "\n",
        "pos_protocol.add_stakeholder(\"alice\", 100)\n",
        "\n",
        "# Mint tokens for Alice so she has enough balance to stake\n",
        "blockchain.fungible_token_contract.mint(\"alice\", 100)  # Add this line\n",
        "\n",
        "print(\"\\nAlice stakes 100 fungible tokens into Yield Farming\")\n",
        "success = yield_farming_platform.stake(\"alice\", 100) # Check if stake was successful\n",
        "print(f\"Staking successful: {success}\") # Print the result\n",
        "if success: # Only print balance if staking was successful\n",
        "    print(f\"Alice's staked balance: {yield_farming_platform.stakes['alice']}\")\n",
        "\n",
        "# Simulate time passing for rewards\n",
        "import time as t\n",
        "t.sleep(2)  # Simulate 2 seconds passing\n",
        "\n",
        "print(\"\\nAlice claims rewards from Yield Farming\")\n",
        "rewards = yield_farming_platform.claim_rewards(\"alice\")\n",
        "print(f\"Alice's rewards: {rewards} fungible tokens\")"
      ],
      "metadata": {
        "colab": {
          "base_uri": "https://localhost:8080/"
        },
        "id": "rJEwbZgvamBL",
        "outputId": "ffbc31ec-a0ef-44aa-e08d-3567ca203312"
      },
      "execution_count": 62,
      "outputs": [
        {
          "output_type": "stream",
          "name": "stdout",
          "text": [
            "\n",
            "Alice stakes 100 fungible tokens into Yield Farming\n",
            "Staking successful: False\n",
            "\n",
            "Alice claims rewards from Yield Farming\n",
            "Alice's rewards: 0.0 fungible tokens\n"
          ]
        }
      ]
    },
    {
      "cell_type": "markdown",
      "source": [
        "Demo DeFi Yield Farming Platform dalam konteks smart contract"
      ],
      "metadata": {
        "id": "MwFCJmjqb0dN"
      }
    },
    {
      "cell_type": "code",
      "source": [
        "# Smart Contract Code for DeFi Yield Farming\n",
        "yield_farming_code = \"\"\"\n",
        "staking_token = None\n",
        "reward_token = None\n",
        "reward_rate = 0.1\n",
        "stakes = {}\n",
        "reward_debt = {}\n",
        "last_update_time = {}\n",
        "total_staked = 0\n",
        "\n",
        "def initialize(staking_token_, reward_token_, reward_rate_):\n",
        "    global staking_token, reward_token, reward_rate\n",
        "    staking_token = staking_token_\n",
        "    reward_token = reward_token_\n",
        "    reward_rate = reward_rate_\n",
        "\n",
        "def stake(user, amount):\n",
        "    if staking_token.balance_of(user) < amount:\n",
        "        raise ValueError(\"Insufficient staking token balance\")\n",
        "    staking_token.transfer(user, \"yield_farming_contract\", amount)\n",
        "    global total_staked\n",
        "    total_staked += amount\n",
        "    if user in stakes:\n",
        "        stakes[user] += amount\n",
        "    else:\n",
        "        stakes[user] = amount\n",
        "    reward_debt[user] = reward_debt.get(user, 0) + pending_rewards(user)\n",
        "    last_update_time[user] = int(time.time())\n",
        "\n",
        "def pending_rewards(user):\n",
        "    if user not in stakes:\n",
        "        return 0\n",
        "    time_diff = int(time.time()) - last_update_time.get(user, int(time.time()))\n",
        "    return stakes[user] * reward_rate * time_diff\n",
        "\n",
        "def claim_rewards(user):\n",
        "    rewards = pending_rewards(user)\n",
        "    if rewards > reward_token.balance_of(\"yield_farming_contract\"):\n",
        "        raise ValueError(\"Insufficient reward token balance in contract\")\n",
        "    reward_debt[user] = 0\n",
        "    last_update_time[user] = int(time.time())\n",
        "    reward_token.transfer(\"yield_farming_contract\", user, rewards)\n",
        "    return rewards\n",
        "\"\"\"\n",
        "\n",
        "# Store the smart contract on the blockchain\n",
        "blockchain.store_smart_contract(yield_farming_code)"
      ],
      "metadata": {
        "colab": {
          "base_uri": "https://localhost:8080/",
          "height": 53
        },
        "id": "4_vtGqthbfTR",
        "outputId": "1c1578c1-fbae-4847-bdc9-6751403b304b"
      },
      "execution_count": 67,
      "outputs": [
        {
          "output_type": "stream",
          "name": "stdout",
          "text": [
            "Smart Contract Block #36 created by alice using PoS\n"
          ]
        },
        {
          "output_type": "execute_result",
          "data": {
            "text/plain": [
              "'3006b9dc0917635ba29c0d36d609b7b36156c0ee7b8c755d34d0bbfa4e31da39'"
            ],
            "application/vnd.google.colaboratory.intrinsic+json": {
              "type": "string"
            }
          },
          "metadata": {},
          "execution_count": 67
        }
      ]
    },
    {
      "cell_type": "code",
      "source": [
        "# Deploying the smart contract\n",
        "blockchain = MyBlockchain(pos_protocol)\n",
        "blockchain.store_smart_contract(yield_farming_code)\n",
        "\n",
        "# Interacting with the deployed smart contract\n",
        "contract_hash = blockchain.store_smart_contract(yield_farming_code)\n",
        "\n",
        "# Initialize the yield farming contract\n",
        "blockchain.execute_smart_contract_from_block(contract_hash, function=\"initialize\", staking_token=blockchain.fungible_token_contract, reward_token=reward_token, reward_rate=0.1)\n",
        "\n",
        "# Mint reward tokens for the yield farming contract\n",
        "reward_token.mint(\"yield_farming_contract\", 1000)\n",
        "\n",
        "# Mint staking tokens for Alice\n",
        "blockchain.fungible_token_contract.mint(\"alice\", 100)\n",
        "\n",
        "# Alice stakes tokens\n",
        "blockchain.execute_smart_contract_from_block(contract_hash, function=\"stake\", user=\"alice\", amount=100)\n",
        "\n",
        "# Simulate time passing\n",
        "t.sleep(2)\n",
        "\n",
        "# Alice claims rewards\n",
        "rewards = blockchain.execute_smart_contract_from_block(contract_hash, function=\"claim_rewards\", user=\"alice\")\n",
        "print(f\"Alice's rewards: {rewards} fungible tokens\")"
      ],
      "metadata": {
        "colab": {
          "base_uri": "https://localhost:8080/"
        },
        "id": "rya88XpcboNB",
        "outputId": "44215dc6-c285-45c7-f104-89134094581f"
      },
      "execution_count": 68,
      "outputs": [
        {
          "output_type": "stream",
          "name": "stdout",
          "text": [
            "Smart Contract Block #36 created by alice using PoS\n",
            "Smart Contract Block #37 created by alice using PoS\n",
            "Alice's rewards: None fungible tokens\n"
          ]
        }
      ]
    },
    {
      "cell_type": "markdown",
      "source": [
        "### Demo DeFi Decentralized Exchange (DEX) Platform"
      ],
      "metadata": {
        "id": "le-qx4OT9n7j"
      }
    },
    {
      "cell_type": "code",
      "source": [
        "class DeFiDEX:\n",
        "    def __init__(self, token1: ERC20, token2: ERC20):\n",
        "        self.token1 = token1\n",
        "        self.token2 = token2\n",
        "        self.liquidity_pool1 = {}\n",
        "        self.liquidity_pool2 = {}\n",
        "        self.total_liquidity_token1 = 0\n",
        "        self.total_liquidity_token2 = 0\n",
        "\n",
        "    def add_liquidity(self, user, amount1, amount2):\n",
        "        if self.token1.balance_of(user) < amount1 or self.token2.balance_of(user) < amount2:\n",
        "            raise ValueError(\"User does not have enough tokens\")\n",
        "        self.token1.transfer(user, \"dex_contract\", amount1)\n",
        "        self.token2.transfer(user, \"dex_contract\", amount2)\n",
        "        self.liquidity_pool1[user] = self.liquidity_pool1.get(user, 0) + amount1\n",
        "        self.liquidity_pool2[user] = self.liquidity_pool2.get(user, 0) + amount2\n",
        "        self.total_liquidity_token1 += amount1\n",
        "        self.total_liquidity_token2 += amount2\n",
        "        return True\n",
        "\n",
        "    def remove_liquidity(self, user, amount1, amount2):\n",
        "        if self.liquidity_pool1.get(user, 0) >= amount1 and self.liquidity_pool2.get(user, 0) >= amount2:\n",
        "            self.liquidity_pool1[user] -= amount1\n",
        "            self.liquidity_pool2[user] -= amount2\n",
        "            self.total_liquidity_token1 -= amount1\n",
        "            self.total_liquidity_token2 -= amount2\n",
        "            if self.token1.transfer(\"dex_contract\", user, amount1) and self.token2.transfer(\"dex_contract\", user, amount2):\n",
        "                return True\n",
        "            else:\n",
        "                self.liquidity_pool1[user] += amount1  # Rollback on failure\n",
        "                self.liquidity_pool2[user] += amount2  # Rollback on failure\n",
        "                self.total_liquidity_token1 += amount1\n",
        "                self.total_liquidity_token2 += amount2\n",
        "        return False\n",
        "\n",
        "    def swap(self, user, from_token, amount):\n",
        "        if from_token == self.token1:\n",
        "            if self.total_liquidity_token1 == 0 or self.total_liquidity_token2 == 0:\n",
        "                raise ValueError(\"Liquidity pool is empty\")\n",
        "            required_amount2 = amount * self.total_liquidity_token2 / self.total_liquidity_token1\n",
        "            if self.token1.transfer(user, \"dex_contract\", amount) and self.token2.transfer(\"dex_contract\", user, required_amount2):\n",
        "                self.total_liquidity_token1 += amount\n",
        "                self.total_liquidity_token2 -= required_amount2\n",
        "                return True\n",
        "        elif from_token == self.token2:\n",
        "            if self.total_liquidity_token1 == 0 or self.total_liquidity_token2 == 0:\n",
        "                raise ValueError(\"Liquidity pool is empty\")\n",
        "            required_amount1 = amount * self.total_liquidity_token1 / self.total_liquidity_token2\n",
        "            if self.token2.transfer(user, \"dex_contract\", amount) and self.token1.transfer(\"dex_contract\", user, required_amount1):\n",
        "                self.total_liquidity_token2 += amount\n",
        "                self.total_liquidity_token1 -= required_amount1\n",
        "                return True\n",
        "        return False"
      ],
      "metadata": {
        "id": "PvNSvVbDN9gS"
      },
      "execution_count": 63,
      "outputs": []
    },
    {
      "cell_type": "code",
      "source": [
        "# Create instances of ERC20 tokens\n",
        "tokenA = ERC20()\n",
        "tokenB = ERC20()\n",
        "\n",
        "# Mint tokens for user 'alice' and 'bob'\n",
        "tokenA.mint(\"alice\", 1000)\n",
        "tokenB.mint(\"alice\", 1000)\n",
        "tokenA.mint(\"bob\", 500)\n",
        "tokenB.mint(\"bob\", 500)\n",
        "\n",
        "# Create the DEX platform\n",
        "dex_platform = DeFiDEX(tokenA, tokenB)\n",
        "\n",
        "# Adding initial liquidity to the DEX platform\n",
        "dex_platform.add_liquidity(\"alice\", 100, 200)\n",
        "\n",
        "# Check the liquidity pool balances\n",
        "print(f\"Liquidity Pool TokenA: {dex_platform.total_liquidity_token1}\")\n",
        "print(f\"Liquidity Pool TokenB: {dex_platform.total_liquidity_token2}\")\n",
        "\n",
        "# Example usage\n",
        "print(\"\\n--- DeFi DEX Example ---\")\n",
        "dex_platform.swap(\"bob\", tokenA, 50)\n",
        "print(f\"Bob's TokenB balance: {tokenB.balance_of('bob')}\")\n",
        "print(f\"Liquidity Pool TokenA: {dex_platform.total_liquidity_token1}\")\n",
        "print(f\"Liquidity Pool TokenB: {dex_platform.total_liquidity_token2}\")"
      ],
      "metadata": {
        "colab": {
          "base_uri": "https://localhost:8080/"
        },
        "id": "QeR5K4LK9SE5",
        "outputId": "7d2ba2c8-c8fe-460a-b33b-e7621d1b28aa"
      },
      "execution_count": 64,
      "outputs": [
        {
          "output_type": "stream",
          "name": "stdout",
          "text": [
            "Liquidity Pool TokenA: 100\n",
            "Liquidity Pool TokenB: 200\n",
            "\n",
            "--- DeFi DEX Example ---\n",
            "Bob's TokenB balance: 500\n",
            "Liquidity Pool TokenA: 100\n",
            "Liquidity Pool TokenB: 200\n"
          ]
        }
      ]
    },
    {
      "cell_type": "markdown",
      "source": [
        "Demo DeFi Decentralized Exchange (DEX) Platform dalam versi Smart Contract"
      ],
      "metadata": {
        "id": "OXCzVRCFdgsg"
      }
    },
    {
      "cell_type": "code",
      "source": [
        "# Smart Contract Code for DeFi DEX\n",
        "dex_code = \"\"\"\n",
        "token1 = None\n",
        "token2 = None\n",
        "liquidity_pool1 = {}\n",
        "liquidity_pool2 = {}\n",
        "total_liquidity_token1 = 0\n",
        "total_liquidity_token2 = 0\n",
        "\n",
        "def initialize(token1_, token2_):\n",
        "    global token1, token2\n",
        "    token1 = token1_\n",
        "    token2 = token2_\n",
        "\n",
        "def add_liquidity(user, amount1, amount2):\n",
        "    global total_liquidity_token1, total_liquidity_token2\n",
        "    if token1.transfer(user, \"dex_contract\", amount1) and token2.transfer(user, \"dex_contract\", amount2):\n",
        "        liquidity_pool1[user] = liquidity_pool1.get(user, 0) + amount1\n",
        "        liquidity_pool2[user] = liquidity_pool2.get(user, 0) + amount2\n",
        "        total_liquidity_token1 += amount1\n",
        "        total_liquidity_token2 += amount2\n",
        "        return True\n",
        "    return False\n",
        "\n",
        "def swap(user, token_in, amount_in):\n",
        "    global total_liquidity_token1, total_liquidity_token2\n",
        "    if token_in == token1:\n",
        "        token_out = token2\n",
        "        total_in = total_liquidity_token1\n",
        "        total_out = total_liquidity_token2\n",
        "    else:\n",
        "        token_out = token1\n",
        "        total_in = total_liquidity_token2\n",
        "        total_out = total_liquidity_token1\n",
        "\n",
        "    amount_out = (amount_in * total_out) // total_in\n",
        "    if token_in.balance_of(user) < amount_in or token_out.balance_of(\"dex_contract\") < amount_out:\n",
        "        raise ValueError(\"Insufficient liquidity or token balance\")\n",
        "\n",
        "    token_in.transfer(user, \"dex_contract\", amount_in)\n",
        "    token_out.transfer(\"dex_contract\", user, amount_out)\n",
        "\n",
        "    if token_in == token1:\n",
        "        total_liquidity_token1 += amount_in\n",
        "        total_liquidity_token2 -= amount_out\n",
        "    else:\n",
        "        total_liquidity_token2 += amount_in\n",
        "        total_liquidity_token1 -= amount_out\n",
        "\n",
        "    return amount_out\n",
        "\"\"\""
      ],
      "metadata": {
        "id": "o3hcEAGwc7M4"
      },
      "execution_count": 71,
      "outputs": []
    },
    {
      "cell_type": "code",
      "source": [
        "# Deploying the smart contract\n",
        "blockchain = MyBlockchain(pos_protocol)\n",
        "contract_hash = blockchain.store_smart_contract(dex_code)\n",
        "\n",
        "# Initialize the DEX contract\n",
        "blockchain.execute_smart_contract_from_block(contract_hash, function=\"initialize\", token1=blockchain.fungible_token_contract, token2=tokenB)\n",
        "\n",
        "# Mint tokens for liquidity providers\n",
        "blockchain.fungible_token_contract.mint(\"alice\", 100)\n",
        "tokenB.mint(\"alice\", 200)\n",
        "\n",
        "# Alice adds liquidity to the DEX\n",
        "blockchain.execute_smart_contract_from_block(contract_hash, function=\"add_liquidity\", user=\"alice\", amount1=100, amount2=200)\n",
        "\n",
        "# Print the state of liquidity pools\n",
        "print(f\"Total Liquidity Token1: {blockchain.fungible_token_contract.total_supply}\")\n",
        "print(f\"Total Liquidity Token2: {tokenB.total_supply}\")\n",
        "\n",
        "# Mint more tokens for swapping\n",
        "blockchain.fungible_token_contract.mint(\"bob\", 50)\n",
        "\n",
        "# Bob swaps TokenA for TokenB\n",
        "amount_out = blockchain.execute_smart_contract_from_block(contract_hash, function=\"swap\", user=\"bob\", token_in=blockchain.fungible_token_contract, amount_in=50)\n",
        "print(f\"Bob received {amount_out} TokenB\")"
      ],
      "metadata": {
        "colab": {
          "base_uri": "https://localhost:8080/"
        },
        "id": "3tnHbPzHdAQu",
        "outputId": "8ec653fe-1f98-4d18-a4da-2067f86e705f"
      },
      "execution_count": 72,
      "outputs": [
        {
          "output_type": "stream",
          "name": "stdout",
          "text": [
            "Smart Contract Block #36 created by alice using PoS\n",
            "Total Liquidity Token1: 100\n",
            "Total Liquidity Token2: 1700\n",
            "Bob received None TokenB\n"
          ]
        }
      ]
    },
    {
      "cell_type": "markdown",
      "source": [
        "### Demo DeFi Staking Platform"
      ],
      "metadata": {
        "id": "zyFtUq5_9bQt"
      }
    },
    {
      "cell_type": "code",
      "source": [
        "class DeFiStaking:\n",
        "    def __init__(self, staking_token: ERC20, reward_token: ERC20, reward_rate: float):\n",
        "        self.staking_token = staking_token\n",
        "        self.reward_token = reward_token\n",
        "        self.reward_rate = reward_rate\n",
        "        self.stakes = {}\n",
        "        self.reward_debt = {}\n",
        "        self.last_update_time = {}\n",
        "        self.total_staked = 0\n",
        "\n",
        "    def stake(self, user, amount):\n",
        "        if self.staking_token.balance_of(user) < amount:\n",
        "            raise ValueError(\"Insufficient staking token balance\")\n",
        "        self.staking_token.transfer(user, \"staking_contract\", amount)\n",
        "        self.total_staked += amount\n",
        "        if user in self.stakes:\n",
        "            self.stakes[user] += amount\n",
        "        else:\n",
        "            self.stakes[user] = amount\n",
        "        self.reward_debt[user] = self.reward_debt.get(user, 0) + self.pending_rewards(user)\n",
        "        self.last_update_time[user] = time.time()\n",
        "\n",
        "    def pending_rewards(self, user):\n",
        "        if user not in self.stakes:\n",
        "            return 0\n",
        "        time_diff = time.time() - self.last_update_time.get(user, time.time())\n",
        "        return self.stakes[user] * self.reward_rate * time_diff\n",
        "\n",
        "    def claim_rewards(self, user):\n",
        "        rewards = self.pending_rewards(user)\n",
        "        if rewards > self.reward_token.balance_of(\"staking_contract\"):\n",
        "            raise ValueError(\"Insufficient reward token balance in contract\")\n",
        "        self.reward_debt[user] = 0\n",
        "        self.last_update_time[user] = time.time()\n",
        "        self.reward_token.transfer(\"staking_contract\", user, rewards)\n",
        "        return rewards"
      ],
      "metadata": {
        "id": "qZmLC-lRPKIE"
      },
      "execution_count": 65,
      "outputs": []
    },
    {
      "cell_type": "code",
      "source": [
        "import time as t\n",
        "\n",
        "# Create instances of ERC20 tokens\n",
        "tokenA = ERC20()\n",
        "reward_token = ERC20()\n",
        "\n",
        "# Mint tokens for user 'alice' and 'bob'\n",
        "tokenA.mint(\"alice\", 1000)\n",
        "reward_token.mint(\"staking_contract\", 1000)\n",
        "\n",
        "# Create the DeFi Staking platform\n",
        "staking_platform = DeFiStaking(staking_token=tokenA, reward_token=reward_token, reward_rate=0.1)\n",
        "\n",
        "print(\"\\nAlice stakes 100 TokenA into Staking Platform\")\n",
        "staking_platform.stake(\"alice\", 100)\n",
        "print(f\"Alice's staked balance: {staking_platform.stakes['alice']}\")\n",
        "\n",
        "# Simulate time passing for rewards\n",
        "t.sleep(2)  # Simulate 2 seconds passing\n",
        "\n",
        "print(\"\\nAlice claims rewards from Staking Platform\")\n",
        "staking_rewards = staking_platform.claim_rewards(\"alice\")\n",
        "print(f\"Alice's staking rewards: {staking_rewards} fungible tokens\")"
      ],
      "metadata": {
        "colab": {
          "base_uri": "https://localhost:8080/"
        },
        "id": "XRWt9U0u9N_l",
        "outputId": "95a9dfe5-30cd-41ca-e2a9-ec3cbbf975c0"
      },
      "execution_count": 66,
      "outputs": [
        {
          "output_type": "stream",
          "name": "stdout",
          "text": [
            "\n",
            "Alice stakes 100 TokenA into Staking Platform\n",
            "Alice's staked balance: 100\n",
            "\n",
            "Alice claims rewards from Staking Platform\n",
            "Alice's staking rewards: 20.018036365509033 fungible tokens\n"
          ]
        }
      ]
    },
    {
      "cell_type": "markdown",
      "source": [
        "Demo DeFi Staking Platform dalam versi Smart Contract"
      ],
      "metadata": {
        "id": "HijmaHi0d2zT"
      }
    },
    {
      "cell_type": "code",
      "source": [
        "# Smart Contract Code for DeFi Staking Platform\n",
        "staking_code = \"\"\"\n",
        "staking_token = None\n",
        "reward_token = None\n",
        "reward_rate = 0\n",
        "stakes = {}\n",
        "rewards = {}\n",
        "last_update_time = {}\n",
        "total_staked = 0\n",
        "\n",
        "def initialize(staking_token_, reward_token_, reward_rate_):\n",
        "    global staking_token, reward_token, reward_rate\n",
        "    staking_token = staking_token_\n",
        "    reward_token = reward_token_\n",
        "    reward_rate = reward_rate_\n",
        "\n",
        "def update_rewards(user):\n",
        "    global total_staked\n",
        "    if user not in last_update_time:\n",
        "        last_update_time[user] = int(time.time())\n",
        "    time_diff = int(time.time()) - last_update_time[user]\n",
        "    if user in stakes:\n",
        "        if user in rewards:\n",
        "            rewards[user] += stakes[user] * reward_rate * time_diff\n",
        "        else:\n",
        "            rewards[user] = stakes[user] * reward_rate * time_diff\n",
        "    last_update_time[user] = int(time.time())\n",
        "\n",
        "def stake(user, amount):\n",
        "    global total_staked\n",
        "    if staking_token.transfer(user, \"staking_contract\", amount):\n",
        "        update_rewards(user)\n",
        "        if user in stakes:\n",
        "            stakes[user] += amount\n",
        "        else:\n",
        "            stakes[user] = amount\n",
        "        total_staked += amount\n",
        "        return True\n",
        "    return False\n",
        "\n",
        "def claim_rewards(user):\n",
        "    update_rewards(user)\n",
        "    reward_amount = rewards.get(user, 0)\n",
        "    if reward_amount > 0:\n",
        "        reward_token.transfer(\"staking_contract\", user, reward_amount)\n",
        "        rewards[user] = 0\n",
        "        return reward_amount\n",
        "    return 0\n",
        "\"\"\""
      ],
      "metadata": {
        "id": "ssMzvEJLayPk"
      },
      "execution_count": 73,
      "outputs": []
    },
    {
      "cell_type": "code",
      "source": [
        "import time as t\n",
        "\n",
        "# Deploying the smart contract\n",
        "blockchain = MyBlockchain(pos_protocol)\n",
        "contract_hash = blockchain.store_smart_contract(staking_code)\n",
        "\n",
        "# Initialize the staking contract\n",
        "blockchain.execute_smart_contract_from_block(contract_hash, function=\"initialize\", staking_token=blockchain.fungible_token_contract, reward_token=reward_token, reward_rate=0.1)\n",
        "\n",
        "# Mint reward tokens for the staking contract\n",
        "reward_token.mint(\"staking_contract\", 1000)\n",
        "\n",
        "# Mint tokens for Alice\n",
        "blockchain.fungible_token_contract.mint(\"alice\", 100)\n",
        "\n",
        "print(\"\\nAlice stakes 100 TokenA into Staking Platform\")"
      ],
      "metadata": {
        "colab": {
          "base_uri": "https://localhost:8080/"
        },
        "id": "96Fh6f4fdwvu",
        "outputId": "a171a1d7-58d6-4065-c41c-125950e9e5b5"
      },
      "execution_count": 74,
      "outputs": [
        {
          "output_type": "stream",
          "name": "stdout",
          "text": [
            "Smart Contract Block #36 created by alice using PoS\n",
            "\n",
            "Alice stakes 100 TokenA into Staking Platform\n"
          ]
        }
      ]
    }
  ]
}