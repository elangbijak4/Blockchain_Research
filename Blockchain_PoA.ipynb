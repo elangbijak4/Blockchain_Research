{
  "nbformat": 4,
  "nbformat_minor": 0,
  "metadata": {
    "colab": {
      "provenance": [],
      "include_colab_link": true
    },
    "kernelspec": {
      "name": "python3",
      "display_name": "Python 3"
    },
    "language_info": {
      "name": "python"
    }
  },
  "cells": [
    {
      "cell_type": "markdown",
      "metadata": {
        "id": "view-in-github",
        "colab_type": "text"
      },
      "source": [
        "<a href=\"https://colab.research.google.com/github/elangbijak4/Blockchain_Research/blob/main/Blockchain_PoA.ipynb\" target=\"_parent\"><img src=\"https://colab.research.google.com/assets/colab-badge.svg\" alt=\"Open In Colab\"/></a>"
      ]
    },
    {
      "source": [
        "import hashlib\n",
        "import time\n",
        "import datetime\n",
        "import json"
      ],
      "cell_type": "code",
      "metadata": {
        "id": "7BV6E-lEDN8r"
      },
      "execution_count": null,
      "outputs": []
    },
    {
      "cell_type": "code",
      "source": [
        "class Block:\n",
        "    def __init__(self, index, previous_hash, timestamp, data, validator):\n",
        "        self.index = index\n",
        "        self.previous_hash = previous_hash\n",
        "        self.timestamp = timestamp\n",
        "        self.data = data\n",
        "        self.validator = validator\n",
        "        self.hash = self.calculate_hash()\n",
        "\n",
        "    def calculate_hash(self):\n",
        "        block_string = f\"{self.index}{self.previous_hash}{self.timestamp}{self.data}{self.validator}\"\n",
        "        return hashlib.sha256(block_string.encode()).hexdigest()\n",
        "\n",
        "    def to_dict(self):\n",
        "        return {\n",
        "            'index': self.index,\n",
        "            'previous_hash': self.previous_hash,\n",
        "            'timestamp': self.timestamp,\n",
        "            'data': self.data,\n",
        "            'validator': self.validator,\n",
        "            'hash': self.hash\n",
        "        }"
      ],
      "metadata": {
        "id": "Va4VdDg_DYHt"
      },
      "execution_count": null,
      "outputs": []
    },
    {
      "cell_type": "code",
      "source": [
        "class Blockchain:\n",
        "    def __init__(self, validators, filename='blockchain.json'):\n",
        "        self.validators = validators\n",
        "        self.filename = filename\n",
        "        try:\n",
        "            with open(self.filename, 'r') as f:\n",
        "                self.chain = self.load_from_json(f.read())\n",
        "        except FileNotFoundError:\n",
        "            self.chain = [self.create_genesis_block()]\n",
        "            self.save_to_json()\n",
        "\n",
        "    def create_genesis_block(self):\n",
        "        return Block(0, \"0\", self.get_utc_time(), \"Genesis Block\", self.validators[0])\n",
        "\n",
        "    def get_latest_block(self):\n",
        "        return self.chain[-1]\n",
        "\n",
        "    def add_block(self, data):\n",
        "        previous_block = self.get_latest_block()\n",
        "        validator = self.select_validator()\n",
        "        new_block = Block(len(self.chain), previous_block.hash, self.get_utc_time(), data, validator)\n",
        "        self.chain.append(new_block)\n",
        "        self.save_to_json()\n",
        "\n",
        "    def select_validator(self):\n",
        "        # Dalam implementasi nyata, pemilihan validator harus berdasarkan aturan tertentu\n",
        "        return self.validators[len(self.chain) % len(self.validators)]\n",
        "\n",
        "    def is_chain_valid(self):\n",
        "        for i in range(1, len(self.chain)):\n",
        "            current_block = self.chain[i]\n",
        "            previous_block = self.chain[i - 1]\n",
        "\n",
        "            if current_block.hash != current_block.calculate_hash():\n",
        "                return False\n",
        "            if current_block.previous_hash != previous_block.hash:\n",
        "                return False\n",
        "        return True\n",
        "\n",
        "    def get_utc_time(self):\n",
        "        return datetime.datetime.utcnow().timestamp()\n",
        "\n",
        "    def display_chain(self):\n",
        "        with open(self.filename, 'r') as f:\n",
        "            blockchain_data = json.load(f)\n",
        "            for block_data in blockchain_data:\n",
        "                # Remove 'hash' from block_data as it's calculated internally\n",
        "                block_data.pop('hash', None)\n",
        "                block = Block(**block_data)  # Membuat objek Block dari data JSON\n",
        "                print(f\"Block {block.index}:\")\n",
        "                print(f\"  Timestamp: {datetime.datetime.utcfromtimestamp(block.timestamp)}\")\n",
        "                print(f\"  Data: {block.data}\")\n",
        "                print(f\"  Validator: {block.validator}\")\n",
        "                print(f\"  Hash: {block.hash}\")\n",
        "                print(f\"  Previous Hash: {block.previous_hash}\\n\")\n",
        "\n",
        "    def save_to_json(self):\n",
        "        with open(self.filename, 'w') as f:\n",
        "            json.dump([block.to_dict() for block in self.chain], f, indent=4)\n",
        "\n",
        "    def load_from_json(self, json_string):\n",
        "        data = json.loads(json_string)\n",
        "        blocks = []\n",
        "        for block_data in data:\n",
        "            # Remove 'hash' from block_data as it's calculated internally\n",
        "            block_data.pop('hash', None)\n",
        "            block = Block(**block_data)  # Membuat objek Block dari data JSON\n",
        "            blocks.append(block)\n",
        "        return blocks"
      ],
      "metadata": {
        "id": "HTO8J0fhDb7i"
      },
      "execution_count": null,
      "outputs": []
    },
    {
      "cell_type": "code",
      "source": [
        "# Implementasi Wewenang (Authority)\n",
        "validators = [\"Adil\", \"Rimba\", \"Nita\"]\n",
        "blockchain = Blockchain(validators)"
      ],
      "metadata": {
        "id": "0yydHYarDe-k"
      },
      "execution_count": null,
      "outputs": []
    },
    {
      "cell_type": "code",
      "source": [
        "blockchain.add_block(\"Data untuk blok 1\")\n",
        "blockchain.add_block(\"Data untuk blok 2\")\n",
        "blockchain.add_block(\"Data untuk blok 3\")"
      ],
      "metadata": {
        "id": "8Zgx855qDhRY"
      },
      "execution_count": null,
      "outputs": []
    },
    {
      "cell_type": "code",
      "source": [
        "blockchain.display_chain()"
      ],
      "metadata": {
        "id": "Mx4RuFisDi_s",
        "colab": {
          "base_uri": "https://localhost:8080/"
        },
        "outputId": "a3b20aed-6e0c-440b-81f5-8edead6acfba"
      },
      "execution_count": null,
      "outputs": [
        {
          "output_type": "stream",
          "name": "stdout",
          "text": [
            "Block 0:\n",
            "  Timestamp: 2024-06-24 11:33:50.590884\n",
            "  Data: Genesis Block\n",
            "  Validator: Adil\n",
            "  Hash: b68079b2f6f7866fa286155b39e55837cc10199de00d673047026dbee5788d70\n",
            "  Previous Hash: 0\n",
            "\n",
            "Block 1:\n",
            "  Timestamp: 2024-06-24 11:34:10.358973\n",
            "  Data: Data untuk blok 1\n",
            "  Validator: Rimba\n",
            "  Hash: 2132147a361f62423c0e8533fd2fcef832e1184e99cef92f2cefd0a9b7f33d47\n",
            "  Previous Hash: b68079b2f6f7866fa286155b39e55837cc10199de00d673047026dbee5788d70\n",
            "\n",
            "Block 2:\n",
            "  Timestamp: 2024-06-24 11:34:10.359674\n",
            "  Data: Data untuk blok 2\n",
            "  Validator: Nita\n",
            "  Hash: 5b89ae13d380e97b735ff8a3abe685dce52f52554029c2ef898271dc04137b1c\n",
            "  Previous Hash: 2132147a361f62423c0e8533fd2fcef832e1184e99cef92f2cefd0a9b7f33d47\n",
            "\n",
            "Block 3:\n",
            "  Timestamp: 2024-06-24 11:34:10.360187\n",
            "  Data: Data untuk blok 3\n",
            "  Validator: Adil\n",
            "  Hash: 35489e2319e47c03984b4381206bde85d5068701655dea99e6cd8a46926def98\n",
            "  Previous Hash: 5b89ae13d380e97b735ff8a3abe685dce52f52554029c2ef898271dc04137b1c\n",
            "\n"
          ]
        }
      ]
    }
  ]
}